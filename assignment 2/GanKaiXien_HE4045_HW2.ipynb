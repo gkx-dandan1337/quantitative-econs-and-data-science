{
  "cells": [
    {
      "cell_type": "markdown",
      "metadata": {
        "id": "V65Ttf2XH2zw"
      },
      "source": [
        "# HE4045 Homework 2\n",
        "\n",
        "(Please submit both the Jupyter Notebook and a PDF document containing the output and your responses to the questions through NTULearn.)"
      ]
    },
    {
      "cell_type": "markdown",
      "metadata": {
        "id": "_nC-_PaVVHCT"
      },
      "source": [
        "Name:\n",
        "\n",
        "Matriculation Number:"
      ]
    },
    {
      "cell_type": "markdown",
      "metadata": {
        "id": "FOKmaMWwH7Tq"
      },
      "source": [
        "# Problem 1:"
      ]
    },
    {
      "cell_type": "markdown",
      "metadata": {
        "id": "wHpVEmFQH9ng"
      },
      "source": [
        "a) Write a nested loop that prints (1+number) for every number in a list-of-lists."
      ]
    },
    {
      "cell_type": "code",
      "execution_count": 14,
      "metadata": {
        "id": "WF04P3hEH3Yt"
      },
      "outputs": [
        {
          "name": "stdout",
          "output_type": "stream",
          "text": [
            "2\n",
            "3\n",
            "4\n",
            "5\n",
            "6\n",
            "7\n",
            "8\n",
            "9\n"
          ]
        }
      ],
      "source": [
        "list1 = [[1, 2, 3], [4,5], [6,7,8]]\n",
        "\n",
        "# TODO\n",
        "for list in list1:\n",
        "    for num in list:\n",
        "        print(1+num)\n"
      ]
    },
    {
      "cell_type": "markdown",
      "metadata": {
        "id": "v05C3qmYIC0l"
      },
      "source": [
        "b) Modify your code from the previous part so that it is a function that takes a list as an argument, and returns the list of all elements in the list-of-lists (instead of printing them). Test your function by using the sample list."
      ]
    },
    {
      "cell_type": "code",
      "execution_count": 17,
      "metadata": {
        "id": "QhUuI5bzIDA_"
      },
      "outputs": [
        {
          "name": "stdout",
          "output_type": "stream",
          "text": [
            "[1, 2, 3, 4, 5, 6, 7, 8]\n"
          ]
        }
      ],
      "source": [
        "list1 = [[1, 2, 3], [4,5], [6,7,8]]\n",
        "list2 = [[1,1,1,2,3,4], [4,6,4]]\n",
        "\n",
        "#returning ALL of the elements, including duplicates\n",
        "\n",
        "def func(list_of_lists):\n",
        "    res = []\n",
        "    for sublist in list_of_lists:\n",
        "        for item in sublist:\n",
        "            res.append(item)\n",
        "    return res\n",
        "\n",
        "\n",
        "\n",
        "#returning those with no duplicates \n",
        "def func2(list_of_lists):\n",
        "    res = []\n",
        "    for sublist in list_of_lists:\n",
        "        for item in sublist:\n",
        "            res.append(item)\n",
        "    return list(set(res))\n",
        "\n",
        "print(func(list1))\n",
        "\n"
      ]
    },
    {
      "cell_type": "markdown",
      "metadata": {
        "id": "8XqxDhTFIMcr"
      },
      "source": [
        "c) Write a function `substitute` that takes a list of strings and a dictionary, and returns a list of strings where the dictionary's values have been substituted for words that match the keys.  For example, if \"wow\" maps to \"cool\" in the dictionary, then \"wow\" in the list will be replaced with \"cool.\""
      ]
    },
    {
      "cell_type": "code",
      "execution_count": null,
      "metadata": {
        "id": "QKEGHBRYIOcK"
      },
      "outputs": [
        {
          "name": "stdout",
          "output_type": "stream",
          "text": [
            "['incredible', \"it's\", 'truly', 'impressive']\n"
          ]
        }
      ],
      "source": [
        "subs = {\n",
        "    \"wow\" : \"incredible\",\n",
        "    \"amazing\" : \"impressive\"\n",
        "}\n",
        "\n",
        "# TODO\n",
        "def substitute(list_of_strings, dictionary):\n",
        "    res = []\n",
        "    for word in list_of_strings:\n",
        "        if word in dictionary:\n",
        "            sub = dictionary[word]\n",
        "            res.append(sub)\n",
        "        else:\n",
        "            res.append(word)\n",
        "    return res \n",
        "\n",
        "\n",
        "print(substitute([\"wow\", \"it's\", \"truly\", \"amazing\"], subs))"
      ]
    },
    {
      "cell_type": "markdown",
      "metadata": {
        "id": "rwC6xTcIQQV0"
      },
      "source": [
        "d) Write a loop that iterates through a list and prints every other item, starting with printing the 0th item. (This is a good use case for enumerate)"
      ]
    },
    {
      "cell_type": "code",
      "execution_count": 20,
      "metadata": {
        "id": "IlHxGNeGQRBj"
      },
      "outputs": [],
      "source": [
        "a = [\"January\", \"February\", \"March\", \"April\", \"May\", \"June\", \"July\", \"August\"]"
      ]
    },
    {
      "cell_type": "code",
      "execution_count": 23,
      "metadata": {
        "id": "Ul4BdHfPQS5C"
      },
      "outputs": [
        {
          "name": "stdout",
          "output_type": "stream",
          "text": [
            "February\n",
            "April\n",
            "June\n",
            "August\n"
          ]
        }
      ],
      "source": [
        "# TODO\n",
        "for i , month in enumerate(a):\n",
        "    if i % 2== 0:\n",
        "        continue \n",
        "    print(month)\n",
        "\n"
      ]
    },
    {
      "cell_type": "markdown",
      "metadata": {
        "id": "Dlwisp1mPDgT"
      },
      "source": [
        "e) Modify your code from (d) so that it is now a function that takes a list as an argument and returns a list of every other element."
      ]
    },
    {
      "cell_type": "code",
      "execution_count": null,
      "metadata": {
        "id": "O2JvcTB-PYrK"
      },
      "outputs": [],
      "source": [
        "a = [\"January\", \"February\", \"March\", \"April\", \"May\", \"June\", \"July\", \"August\"]"
      ]
    },
    {
      "cell_type": "code",
      "execution_count": 24,
      "metadata": {
        "id": "or5st-7eRN84"
      },
      "outputs": [
        {
          "data": {
            "text/plain": [
              "['February', 'April', 'June', 'August']"
            ]
          },
          "execution_count": 24,
          "metadata": {},
          "output_type": "execute_result"
        }
      ],
      "source": [
        "def every_other(lst):\n",
        "    # Your code here.\n",
        "    res = []\n",
        "    for i, month in enumerate(a):\n",
        "        if i % 2== 0:\n",
        "            continue \n",
        "        res.append(month)\n",
        "    return res \n",
        "    \n",
        "\n",
        "\n",
        "\n",
        "every_other(a)\n",
        "\n"
      ]
    },
    {
      "cell_type": "markdown",
      "metadata": {
        "id": "cR1VbLqiA8en"
      },
      "source": [
        "# Problem 2:\n",
        "\n",
        "In Lecture 3, we defined the Cobb-Douglas production function (`cobb_douglas`) and used the `returns_to_scale` function to analyze the returns to scale of this production function. The CES (Constant Elasticity of Substitution) production function is a neoclassical production function which exhibits constant elasticity of substitution between inputs. The two-factor CES production function, involving capital K and labor L, was introduced by Solow:\n",
        "\n",
        "$$\n",
        "Y = z \\cdot (\\alpha \\cdot K^{\\rho} + (1-\\alpha) \\cdot L^{\\rho})^{\\frac{\\nu}{\\rho}}\n",
        "$$"
      ]
    },
    {
      "cell_type": "markdown",
      "metadata": {
        "id": "tQokIRaIFUJY"
      },
      "source": [
        "Suppose we set $z = 1$, $\\alpha = 0.33$, and $\\rho = 0.5$. Define a production function `ces` and then define a new `returns_to_scale` function to evaluate the returns to scale of this CES production function for $\\nu = 1$ and $\\nu = 2$.\n",
        "\n",
        "Add comments (docstrings) in appropriate places that state what these function do."
      ]
    },
    {
      "cell_type": "code",
      "execution_count": 30,
      "metadata": {
        "id": "v29G9ZfXG2L9"
      },
      "outputs": [
        {
          "name": "stdout",
          "output_type": "stream",
          "text": [
            "Constant returns to scale\n",
            "Increasing returns to scale\n"
          ]
        }
      ],
      "source": [
        "def ces(K, L, z=1, a=0.33, p=0.5, v=1):\n",
        "    \"\"\"\n",
        "    CES production function.\n",
        "    K = capital\n",
        "    L = labor\n",
        "    z = technology parameter\n",
        "    a = weight on capital\n",
        "    p = substitution parameter (rho)\n",
        "    v = scale parameter (nu)\n",
        "    \"\"\"\n",
        "    return z * (a * (K ** p) + (1 - a) * (L ** p)) ** (v / p)\n",
        "\n",
        "\n",
        "def returns_to_scale(K, L, z=1, a=0.33, p=0.5, v=1, scale=2):\n",
        "    \"\"\"\n",
        "    Evaluates returns to scale of the CES function.\n",
        "    A constant scale of 2 is chosen, but this doesn't matter. It can be any arbitrary number.\n",
        "    \"\"\"\n",
        "\n",
        "    # First output\n",
        "    Y1 = ces(K, L, z, a, p, v)\n",
        "    # Second output\n",
        "    Y2 = ces(scale * K, scale * L, z, a, p, v)\n",
        "\n",
        "    # Ratio\n",
        "    ratio = Y2 / Y1\n",
        "\n",
        "    # Returns to scale classification\n",
        "    if abs(ratio - scale) < 1e-6: # if the difference is minimal, just classify as constant returns.\n",
        "        return \"Constant returns to scale\"\n",
        "    elif ratio > scale:\n",
        "        return \"Increasing returns to scale\"\n",
        "    else:\n",
        "        return \"Decreasing returns to scale\"\n",
        "\n",
        "#testing for returns to scale when v= 1\n",
        "K = 1\n",
        "L = 2 \n",
        "print(returns_to_scale(K, L))\n",
        "\n",
        "#testing for returns to scale when v =2 \n",
        "print(returns_to_scale(K,L,v=2))\n"
      ]
    },
    {
      "cell_type": "markdown",
      "metadata": {
        "id": "c-U8MFpGp0N9"
      },
      "source": [
        "# Problem 3:  (Use **for Loops** for this question!)\n",
        "\n",
        "In economics, when an individual has some knowledge, skills, or education\n",
        "which provides them with a source of future income, we call it [human\n",
        "capital](https://en.wikipedia.org/wiki/Human_capital).\n",
        "\n",
        "When a student graduating from high school is considering whether to\n",
        "continue with post-secondary education, they may consider that it gives\n",
        "them higher paying jobs in the future, but requires that they don’t begin\n",
        "working until after graduation.\n",
        "\n",
        "Consider the simplified example where a student has perfectly forecastable\n",
        "employment and is given two choices:\n",
        "\n",
        "1. Begin working immediately and make 40,000 a year until they retire 40\n",
        "  years later.  \n",
        "1. Pay 5,000 a year for 4 years to attend university, then\n",
        "  get a job paying 50,000 a year until they retire 40 years after making\n",
        "  the college attendance decision.  \n",
        "\n",
        "Should the student enroll in school if the discount rate is r = 0.05? Please use **for Loops** to calculate the results. Be sure to use words to explain the economic intuitions.\n",
        "\n",
        "(For this question, be sure to explicitly state the assumptions you are using when calculating the values and apply consistent conditions throughout your calculations. As long as it makes sense, it is fine.)"
      ]
    },
    {
      "cell_type": "code",
      "execution_count": 48,
      "metadata": {
        "id": "tsYvRLsSp1a8"
      },
      "outputs": [
        {
          "name": "stdout",
          "output_type": "stream",
          "text": [
            "686363.4541597775\n",
            "-17729.752520811802\n",
            "680656.7924916038\n",
            "662927.0399707919\n",
            "False\n"
          ]
        }
      ],
      "source": [
        "#assumptions\n",
        "\"\"\"\n",
        "We assume that the first payment is paid out at the end of the year.\n",
        "We assume that 0.05 is the monthly discount rate.\n",
        "\"\"\"\n",
        "# Discount rate\n",
        "r = 0.05\n",
        "\n",
        "# High school wage\n",
        "w_hs = 40000\n",
        "\n",
        "# College wage and cost of college\n",
        "c_college = 5000\n",
        "w_college = 50000\n",
        "\n",
        "# Compute npv of being a hs worker\n",
        "hs_npv = 0\n",
        "for i in range(1,41,1):\n",
        "    total_discount_rate = (1+r) ** i\n",
        "    hs_npv += (w_hs) / total_discount_rate\n",
        "\n",
        "print(hs_npv)\n",
        "# Compute npv of attending college\n",
        "#calculate the present value of paying 5000 for the first 4 years\n",
        "college_tuition_npv = 0 \n",
        "for i in range(1,5):\n",
        "    total_discount_rate = (1+r) ** i \n",
        "    college_tuition_npv += -c_college / (total_discount_rate)\n",
        "\n",
        "print(college_tuition_npv)\n",
        "# Compute npv of being a college worker\n",
        "college_worker_npv = 0 \n",
        "for i in range(5,41):\n",
        "    total_discount_rate = (1+r) ** i \n",
        "    college_worker_npv += w_college / total_discount_rate\n",
        "\n",
        "print(college_worker_npv)\n",
        "\n",
        "# Is npv_collegeworker - npv_collegecost > npv_hsworker\n",
        "print(college_worker_npv+college_tuition_npv)\n",
        "print((college_worker_npv + college_tuition_npv) > hs_npv)\n"
      ]
    },
    {
      "cell_type": "markdown",
      "metadata": {
        "id": "OGoZ0VBQ0TzM"
      },
      "source": [
        "# Problem 4:  \n",
        "\n",
        "Companies often invest in training their employees to raise their\n",
        "productivity. Economists sometimes wonder why companies\n",
        "spend this money when this incentivizes other companies to hire\n",
        "their employees away with higher salaries since employees gain human capital from training?\n",
        "\n",
        "Let’s say that it costs a company 30,000 dollars to teach their\n",
        "employees Python, but it raises their output by 2,800 per month. How\n",
        "many months would an employee need to stay for the company to find it\n",
        "profitable to pay for their employees to learn Python if their discount\n",
        "rate is r = 0.02?"
      ]
    },
    {
      "cell_type": "code",
      "execution_count": 46,
      "metadata": {
        "id": "dYTNM63e1S9g"
      },
      "outputs": [
        {
          "name": "stdout",
          "output_type": "stream",
          "text": [
            "In month 1 the discount rate is 1.02, the additional added value is 2745.098039215686 and the total npv is -27254.901960784315\n",
            "In month 2 the discount rate is 1.0404, the additional added value is 2691.2725874663593 and the total npv is -24563.629373317955\n",
            "In month 3 the discount rate is 1.0612080000000002, the additional added value is 2638.5025367317244 and the total npv is -21925.12683658623\n",
            "In month 4 the discount rate is 1.08243216, the additional added value is 2586.7671928742398 and the total npv is -19338.359643711992\n",
            "In month 5 the discount rate is 1.1040808032, the additional added value is 2536.0462675237645 and the total npv is -16802.313376188227\n",
            "In month 6 the discount rate is 1.126162419264, the additional added value is 2486.3198701213378 and the total npv is -14315.99350606689\n",
            "In month 7 the discount rate is 1.14868566764928, the additional added value is 2437.5685001189586 and the total npv is -11878.425005947931\n",
            "In month 8 the discount rate is 1.1716593810022657, the additional added value is 2389.7730393323122 and the total npv is -9488.651966615618\n",
            "In month 9 the discount rate is 1.195092568622311, the additional added value is 2342.9147444434434 and the total npv is -7145.737222172174\n",
            "In month 10 the discount rate is 1.2189944199947573, the additional added value is 2296.9752396504346 and the total npv is -4848.76198252174\n",
            "In month 11 the discount rate is 1.2433743083946525, the additional added value is 2251.9365094612103 and the total npv is -2596.8254730605295\n",
            "In month 12 the discount rate is 1.2682417945625455, the additional added value is 2207.7808916286376 and the total npv is -389.04458143189186\n",
            "In month 13 the discount rate is 1.2936066304537965, the additional added value is 2164.491070224154 and the total npv is 1775.4464887922622\n",
            "We need a total of 13 months for each employee to stay after training to make it profitable for their company.\n"
          ]
        }
      ],
      "source": [
        "# Define cost of teaching python\n",
        "cost = 30000\n",
        "r = 0.02\n",
        "\n",
        "# Per month value\n",
        "added_value = 2800\n",
        "\n",
        "n_months = 0\n",
        "total_npv = 0.0\n",
        "total_npv -= cost\n",
        "n_months += 1\n",
        "\n",
        "\"\"\"We assume that the payout is at the end of the first month of training, so we start from the n_months = 1\"\"\"\n",
        "\n",
        "# Put condition below here\n",
        "while total_npv < 0: # (replace False with your condition here)\n",
        "    discount_rate = (1+r) ** n_months\n",
        "    total_npv += (added_value / discount_rate)\n",
        "    print(f\"In month {n_months} the discount rate is {discount_rate}, the additional added value is {added_value/discount_rate} and the total npv is {total_npv}\")\n",
        "    if total_npv <0:\n",
        "        n_months += 1\n",
        "\n",
        "print(f\"We need a total of {n_months} months for each employee to stay after training to make it profitable for their company.\")\n"
      ]
    }
  ],
  "metadata": {
    "colab": {
      "provenance": []
    },
    "kernelspec": {
      "display_name": "Python 3",
      "name": "python3"
    },
    "language_info": {
      "codemirror_mode": {
        "name": "ipython",
        "version": 3
      },
      "file_extension": ".py",
      "mimetype": "text/x-python",
      "name": "python",
      "nbconvert_exporter": "python",
      "pygments_lexer": "ipython3",
      "version": "3.10.11"
    }
  },
  "nbformat": 4,
  "nbformat_minor": 0
}
