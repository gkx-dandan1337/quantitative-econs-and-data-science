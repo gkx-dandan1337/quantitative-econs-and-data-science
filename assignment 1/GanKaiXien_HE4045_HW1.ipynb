{
  "cells": [
    {
      "cell_type": "markdown",
      "metadata": {
        "id": "V65Ttf2XH2zw"
      },
      "source": [
        "# HE4045 Homework 1\n",
        "\n",
        "(Please submit both the Jupyter Notebook, containing the output and your responses to the questions through NTULearn.)"
      ]
    },
    {
      "cell_type": "markdown",
      "metadata": {
        "id": "_nC-_PaVVHCT"
      },
      "source": [
        "Name: GAN KAI XIEN \n",
        "\n",
        "Matriculation Number: U2123644A"
      ]
    },
    {
      "cell_type": "markdown",
      "metadata": {
        "id": "FOKmaMWwH7Tq"
      },
      "source": [
        "# Problem 1:"
      ]
    },
    {
      "cell_type": "markdown",
      "metadata": {
        "id": "wHpVEmFQH9ng"
      },
      "source": [
        "Compute the following quantities in the code boxes that follow each prompt.\n",
        "\n",
        "a) The square of 2025."
      ]
    },
    {
      "cell_type": "code",
      "execution_count": 1,
      "metadata": {
        "id": "WF04P3hEH3Yt"
      },
      "outputs": [
        {
          "name": "stdout",
          "output_type": "stream",
          "text": [
            "4100625\n"
          ]
        }
      ],
      "source": [
        "# TODO\n",
        "print(2025**2)\n"
      ]
    },
    {
      "cell_type": "markdown",
      "metadata": {
        "id": "v05C3qmYIC0l"
      },
      "source": [
        "b) The number of characters in the phrase \"Pursue the unknown end.\"  (Including the whitespace and period.)"
      ]
    },
    {
      "cell_type": "code",
      "execution_count": 2,
      "metadata": {
        "id": "QhUuI5bzIDA_"
      },
      "outputs": [
        {
          "name": "stdout",
          "output_type": "stream",
          "text": [
            "23\n"
          ]
        }
      ],
      "source": [
        "# TODO\n",
        "print(len(\"Pursue the unknown end.\"))"
      ]
    },
    {
      "cell_type": "markdown",
      "metadata": {
        "id": "8XqxDhTFIMcr"
      },
      "source": [
        "c) A Boolean expression that is true unless both variable *a* and variable *b* are False."
      ]
    },
    {
      "cell_type": "code",
      "execution_count": 22,
      "metadata": {
        "id": "QKEGHBRYIOcK"
      },
      "outputs": [
        {
          "name": "stdout",
          "output_type": "stream",
          "text": [
            "True\n"
          ]
        }
      ],
      "source": [
        "# TODO\n",
        "a, b = False, True \n",
        "print(a or b)"
      ]
    },
    {
      "cell_type": "markdown",
      "metadata": {
        "id": "PhRv7002IcGE"
      },
      "source": [
        "d) An expression that is True only if variable *balance* is in the range [0, 1000] (0 through 1000 inclusive)"
      ]
    },
    {
      "cell_type": "code",
      "execution_count": 4,
      "metadata": {
        "id": "EvTLZ49hId2i"
      },
      "outputs": [
        {
          "name": "stdout",
          "output_type": "stream",
          "text": [
            "True\n"
          ]
        }
      ],
      "source": [
        "balance = 10\n",
        "# TODO expression below\n",
        "print(balance in range(1001))"
      ]
    },
    {
      "cell_type": "markdown",
      "metadata": {
        "id": "JVJjOcSZIweO"
      },
      "source": [
        "e) An expression that is true only if list L is empty."
      ]
    },
    {
      "cell_type": "code",
      "execution_count": 5,
      "metadata": {
        "id": "mYjVNjuxIy42"
      },
      "outputs": [
        {
          "name": "stdout",
          "output_type": "stream",
          "text": [
            "True\n"
          ]
        }
      ],
      "source": [
        "L = []\n",
        "print(len(L) == 0)\n"
      ]
    },
    {
      "cell_type": "markdown",
      "metadata": {
        "id": "udKI798JPVRL"
      },
      "source": [
        "f) For the tuple `words` below, use a combination of `zip`,\n",
        "`range`, and `len` to mimic `enumerate(words)`.\n",
        "\n",
        "Verify that your proposed solution is correct by converting each to a list\n",
        "and checking equality with `==`.\n",
        "\n",
        "You can see what the answer should look like by starting with\n",
        "`list(enumerate(words))`."
      ]
    },
    {
      "cell_type": "code",
      "execution_count": 8,
      "metadata": {
        "id": "1eCv46iSQHcJ"
      },
      "outputs": [],
      "source": [
        "words = (\"good\", \"luck!\")"
      ]
    },
    {
      "cell_type": "code",
      "execution_count": 9,
      "metadata": {},
      "outputs": [
        {
          "data": {
            "text/plain": [
              "[(0, 'good'), (1, 'luck!')]"
            ]
          },
          "execution_count": 9,
          "metadata": {},
          "output_type": "execute_result"
        }
      ],
      "source": [
        "list(enumerate(words))"
      ]
    },
    {
      "cell_type": "code",
      "execution_count": 10,
      "metadata": {
        "id": "50k8dKAuQJUO"
      },
      "outputs": [
        {
          "data": {
            "text/plain": [
              "True"
            ]
          },
          "execution_count": 10,
          "metadata": {},
          "output_type": "execute_result"
        }
      ],
      "source": [
        "\n",
        "list(zip(range(len(words)), words)) == list(enumerate(words))\n",
        "    "
      ]
    },
    {
      "cell_type": "markdown",
      "metadata": {
        "id": "wvORxDkugd6-"
      },
      "source": [
        "g) You are given two lists: `words` and `more_words`. Word code to make `words` into [\"Python\", \"is\", \"fun\", \"and\", \"powerful\"]"
      ]
    },
    {
      "cell_type": "code",
      "execution_count": 11,
      "metadata": {
        "id": "_YWC5AZOgxR9"
      },
      "outputs": [],
      "source": [
        "words = [\"Python\", \"is\"]\n",
        "more_words = [\"fun\", \"and\", \"powerful\"]"
      ]
    },
    {
      "cell_type": "code",
      "execution_count": 12,
      "metadata": {
        "id": "JJFM87ltgx0p"
      },
      "outputs": [
        {
          "name": "stdout",
          "output_type": "stream",
          "text": [
            "['Python', 'is', 'fun', 'and', 'powerful']\n"
          ]
        }
      ],
      "source": [
        "# TODO\n",
        "words.extend(more_words)\n",
        "print(words)"
      ]
    },
    {
      "cell_type": "markdown",
      "metadata": {
        "id": "7kD9PYLEicow"
      },
      "source": [
        "# Problem 2:\n",
        "\n",
        "a) Create a dictionary `student_scores` with the following key–value pairs:\n",
        "\n",
        "- \"Alice\": 95\n",
        "\n",
        "- \"Bob\": 88\n",
        "\n",
        "- \"Charles\": 75"
      ]
    },
    {
      "cell_type": "code",
      "execution_count": 13,
      "metadata": {
        "id": "rn0EOm-GivtJ"
      },
      "outputs": [],
      "source": [
        "# TODO\n",
        "student_scores = {\"Alice\" : 95, \"Bob\" : 88, \"Charles\" : 75}"
      ]
    },
    {
      "cell_type": "markdown",
      "metadata": {
        "id": "H3lIG3I_i2X9"
      },
      "source": [
        "b) Write Python code to add a new entry \"David\": 83."
      ]
    },
    {
      "cell_type": "code",
      "execution_count": 14,
      "metadata": {
        "id": "W0NKmvV_iy_0"
      },
      "outputs": [],
      "source": [
        "# TODO\n",
        "student_scores.update({\"David\" : 83})"
      ]
    },
    {
      "cell_type": "code",
      "execution_count": 16,
      "metadata": {},
      "outputs": [
        {
          "data": {
            "text/plain": [
              "{'Alice': 95, 'Bob': 88, 'Charles': 75, 'David': 83}"
            ]
          },
          "execution_count": 16,
          "metadata": {},
          "output_type": "execute_result"
        }
      ],
      "source": [
        "student_scores"
      ]
    },
    {
      "cell_type": "markdown",
      "metadata": {
        "id": "ZbbR4DFHi76o"
      },
      "source": [
        "c) Retrieve Bob’s score using the key."
      ]
    },
    {
      "cell_type": "code",
      "execution_count": 15,
      "metadata": {
        "id": "Z5xyhLn6i7Yr"
      },
      "outputs": [
        {
          "data": {
            "text/plain": [
              "88"
            ]
          },
          "execution_count": 15,
          "metadata": {},
          "output_type": "execute_result"
        }
      ],
      "source": [
        "# TODO\n",
        "student_scores[\"Bob\"]"
      ]
    },
    {
      "cell_type": "markdown",
      "metadata": {
        "id": "aFVc8iaejBxo"
      },
      "source": [
        "d) Print all the keys in the dictionary."
      ]
    },
    {
      "cell_type": "code",
      "execution_count": 17,
      "metadata": {
        "id": "i5p6Qy1QjDFx"
      },
      "outputs": [
        {
          "name": "stdout",
          "output_type": "stream",
          "text": [
            "Alice\n",
            "Bob\n",
            "Charles\n",
            "David\n"
          ]
        }
      ],
      "source": [
        "# TODO\n",
        "for key in student_scores:\n",
        "    print(key)"
      ]
    },
    {
      "cell_type": "markdown",
      "metadata": {
        "id": "I5HRKFJLjJem"
      },
      "source": [
        "# Problem 3:\n",
        "\n",
        "Suppose you have two sets: `X` and `Y`."
      ]
    },
    {
      "cell_type": "code",
      "execution_count": 19,
      "metadata": {
        "id": "WhK0s-SBjP5S"
      },
      "outputs": [],
      "source": [
        "X = {\"apple\", \"banana\", \"lemon\"}\n",
        "Y = {\"banana\", \"lemon\", \"orange\", \"blueberry\"}"
      ]
    },
    {
      "cell_type": "markdown",
      "metadata": {
        "id": "JNyzyl0ijPrF"
      },
      "source": [
        "a) Find the union of X and Y."
      ]
    },
    {
      "cell_type": "code",
      "execution_count": 20,
      "metadata": {
        "id": "uA-KsKgGjwII"
      },
      "outputs": [
        {
          "data": {
            "text/plain": [
              "{'apple', 'banana', 'blueberry', 'lemon', 'orange'}"
            ]
          },
          "execution_count": 20,
          "metadata": {},
          "output_type": "execute_result"
        }
      ],
      "source": [
        "# TODO\n",
        "X.union(Y)"
      ]
    },
    {
      "cell_type": "markdown",
      "metadata": {
        "id": "vsSQ3dypjwgE"
      },
      "source": [
        "b) Find the intersection of X and Y."
      ]
    },
    {
      "cell_type": "code",
      "execution_count": 21,
      "metadata": {
        "id": "6OckJKFIj5ah"
      },
      "outputs": [
        {
          "data": {
            "text/plain": [
              "{'banana', 'lemon'}"
            ]
          },
          "execution_count": 21,
          "metadata": {},
          "output_type": "execute_result"
        }
      ],
      "source": [
        "# TODO\n",
        "X.intersection(Y)"
      ]
    },
    {
      "cell_type": "markdown",
      "metadata": {
        "id": "k6gcqvRwjzNp"
      },
      "source": [
        "c) Remove \"banana\" from set X."
      ]
    },
    {
      "cell_type": "code",
      "execution_count": 22,
      "metadata": {
        "id": "3DAz_m1Aj6U0"
      },
      "outputs": [],
      "source": [
        "# TODO\n",
        "X.remove(\"banana\")"
      ]
    },
    {
      "cell_type": "code",
      "execution_count": 23,
      "metadata": {},
      "outputs": [
        {
          "data": {
            "text/plain": [
              "{'apple', 'lemon'}"
            ]
          },
          "execution_count": 23,
          "metadata": {},
          "output_type": "execute_result"
        }
      ],
      "source": [
        "X"
      ]
    },
    {
      "cell_type": "markdown",
      "metadata": {
        "id": "gXm655mgj1-l"
      },
      "source": [
        "d) Check whether \"blueberry\" is an element of set X."
      ]
    },
    {
      "cell_type": "code",
      "execution_count": 25,
      "metadata": {
        "id": "FJTGWuZxj6p1"
      },
      "outputs": [
        {
          "data": {
            "text/plain": [
              "False"
            ]
          },
          "execution_count": 25,
          "metadata": {},
          "output_type": "execute_result"
        }
      ],
      "source": [
        "# TODO\n",
        "\"bluberry\" in X"
      ]
    },
    {
      "cell_type": "markdown",
      "metadata": {
        "id": "K0_aZxBaI8ex"
      },
      "source": [
        "# Problem 4:"
      ]
    },
    {
      "cell_type": "markdown",
      "metadata": {
        "id": "Bxt5of7EJDFP"
      },
      "source": [
        "Write a brief program for each prompt that makes use of the provided code to determine what hour of the day it is. (Note that if you are running on Google Colab, this may be different from the actual local time - but write your code as if current_hour really is the current hour.)"
      ]
    },
    {
      "cell_type": "code",
      "execution_count": 31,
      "metadata": {
        "id": "yL2qnIiZI-C8"
      },
      "outputs": [
        {
          "name": "stdout",
          "output_type": "stream",
          "text": [
            "It is currently 12 a.m.\n"
          ]
        }
      ],
      "source": [
        "import time\n",
        "current_hour = time.localtime().tm_hour\n",
        "\n",
        "if current_hour > 12:\n",
        "    print(f\"It is currently {current_hour%12} p.m.\")\n",
        "elif current_hour == 0:\n",
        "    print(f\"It is currently 12 a.m.\")\n",
        "elif current_hour == 12:\n",
        "    print(f\"It is currently 12 p.m.\")\n",
        "else:\n",
        "    print(f\"It is currently {current_hour} a.m.\")\n"
      ]
    },
    {
      "cell_type": "markdown",
      "metadata": {
        "id": "pwAbBiP1Ji8U"
      },
      "source": [
        "a) If the time is between 6:00am and 9:59am inclusive, print \"Breakfast!\".  If the time is between 10:00am and 11:59am, print \"Brunch!\"  Otherwise, print \"Not breakfast :(\"."
      ]
    },
    {
      "cell_type": "code",
      "execution_count": 32,
      "metadata": {
        "id": "l75mP2HWJI27"
      },
      "outputs": [
        {
          "name": "stdout",
          "output_type": "stream",
          "text": [
            "Not Breaskfast :(\n"
          ]
        }
      ],
      "source": [
        "# TODO\n",
        "if 6 <= current_hour < 10:\n",
        "    print(f\"Breakfast!\")\n",
        "elif 10 <= current_hour < 12:\n",
        "    print(\"Brunch!\")\n",
        "else:\n",
        "    print(\"Not Breaskfast :(\")\n"
      ]
    },
    {
      "cell_type": "markdown",
      "metadata": {
        "id": "Pro4WeV1JsTq"
      },
      "source": [
        "b) If the time is equal to or after 10:00pm, print \"In two hours, it will be tomorrow.\" Otherwise, print \"In two hours, it will be \" followed by the hour two hours later using non-military time (so between 1 and 12).  (For example, if current_hour were 16, write \"In two hours, it will be 6.\") Be careful about how you handle 10am, which should print 12."
      ]
    },
    {
      "cell_type": "code",
      "execution_count": 33,
      "metadata": {
        "id": "In176pnWJteI"
      },
      "outputs": [
        {
          "name": "stdout",
          "output_type": "stream",
          "text": [
            "In two hours, it will be 2\n"
          ]
        }
      ],
      "source": [
        "# TODO\n",
        "if current_hour >= 22:\n",
        "    print(f\"In two hours, it will be tomorrow\")\n",
        "else:\n",
        "    if current_hour == 10:\n",
        "        print(f\"In two hours, it will be 12\")\n",
        "    else:\n",
        "        print(f\"In two hours, it will be {(current_hour+ 2) % 12}\")\n"
      ]
    },
    {
      "cell_type": "markdown",
      "metadata": {
        "id": "TrPvWDMMOhuv"
      },
      "source": [
        "# Problem 5:  \n",
        "\n",
        "In economics, when an individual has some knowledge, skills, or education\n",
        "which provides them with a source of future income, we call it [human\n",
        "capital](https://en.wikipedia.org/wiki/Human_capital).\n",
        "\n",
        "When a student graduating from high school is considering whether to\n",
        "continue with post-secondary education, they may consider that it gives\n",
        "them higher paying jobs in the future, but requires that they don’t begin\n",
        "working until after graduation.\n",
        "\n",
        "Consider the simplified example where a student has perfectly forecastable\n",
        "employment and is given two choices:\n",
        "\n",
        "1. Begin working immediately and make 40,000 a year until they retire 40\n",
        "  years later.  \n",
        "1. Pay 5,000 a year for 4 years to attend university, then\n",
        "  get a job paying 50,000 a year until they retire 40 years after making\n",
        "  the college attendance decision.  \n",
        "\n",
        "\n",
        "Should the student enroll in school if the discount rate is r = 0.05? Be sure to use words to explain the economic intuitions.\n",
        "\n",
        "(Please use the net present value formulas we learned in class. I have presented three formulas under different timing assumptions, which allow you to calculate the net present values for different cases. For this question, be sure to explicitly state the assumptions you are using when calculating the values and apply consistent conditions throughout your calculations. As long as it makes sense, it is fine.)"
      ]
    },
    {
      "cell_type": "code",
      "execution_count": null,
      "metadata": {
        "id": "avBnBbawQnhR"
      },
      "outputs": [
        {
          "name": "stdout",
          "output_type": "stream",
          "text": [
            "699062.1637103865\n",
            "726363.4541597778\n",
            "False\n"
          ]
        }
      ],
      "source": [
        "#ASSUMPTIONS : we assume that they start earning the money in year 0\n",
        "\n",
        "# Discount rate\n",
        "r = 0.05\n",
        "\n",
        "# High school wage\n",
        "w_hs = 40000\n",
        "\n",
        "# College wage and cost of college\n",
        "c_college = 5000\n",
        "w_college = 50000\n",
        "\n",
        "def npv_calculator(years, payment) : \n",
        "    discount = ((1+r)/r) - (1/r)*(1/(1+r))**years\n",
        "    return discount * payment\n",
        "\n",
        "# Compute npv of being a hs worker\n",
        "hs_npv = npv_calculator(40, 40000)\n",
        "\n",
        "# Compute npv of attending college\n",
        "attend_college = npv_calculator(4, -5000)\n",
        "\n",
        "# Compute npv of being a college worker\n",
        "college_worker = npv_calculator(36,50000) / (1+r)**4\n",
        "\n",
        "print(college_worker + attend_college)\n",
        "print(hs_npv)\n",
        "# Is npv_collegeworker - npv_collegecost > npv_hsworker\n",
        "print((college_worker + attend_college) > hs_npv)\n",
        "\n"
      ]
    }
  ],
  "metadata": {
    "colab": {
      "provenance": []
    },
    "kernelspec": {
      "display_name": "base",
      "language": "python",
      "name": "python3"
    },
    "language_info": {
      "codemirror_mode": {
        "name": "ipython",
        "version": 3
      },
      "file_extension": ".py",
      "mimetype": "text/x-python",
      "name": "python",
      "nbconvert_exporter": "python",
      "pygments_lexer": "ipython3",
      "version": "3.9.13"
    }
  },
  "nbformat": 4,
  "nbformat_minor": 0
}
