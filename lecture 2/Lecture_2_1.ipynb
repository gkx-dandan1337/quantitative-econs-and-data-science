{
  "nbformat": 4,
  "nbformat_minor": 0,
  "metadata": {
    "colab": {
      "provenance": []
    },
    "kernelspec": {
      "name": "python3",
      "display_name": "Python 3"
    },
    "language_info": {
      "name": "python"
    }
  },
  "cells": [
    {
      "cell_type": "markdown",
      "source": [
        "# Collections\n",
        "\n",
        "**Outcomes**\n",
        "\n",
        "- Ordered Collections  \n",
        "  - Know what a list is and a tuple is  \n",
        "  - Know how to tell a list from a tuple  \n",
        "  - Understand the `range`, `zip` and `enumerate` functions  \n",
        "  - Be able to use common list methods like `append`, `sort`,\n",
        "    and `reverse`  \n",
        "- Associative Collections  \n",
        "  - Understand what a `dict` is  \n",
        "  - Know the distinction between a dicts keys and values  \n",
        "  - Understand when `dict`s are useful  \n",
        "  - Be familiar with common `dict` methods  \n",
        "- Sets  \n",
        "  - Know what a set is  \n",
        "  - Understand how a set differs from a list and a tuple  \n",
        "  - Know when to use a set vs a list or a tuple  "
      ],
      "metadata": {
        "id": "uw0xlcfQvTX_"
      }
    },
    {
      "cell_type": "markdown",
      "source": [
        "Lists, Tuples and Sets are all types of collections used to store multiple items!!!"
      ],
      "metadata": {
        "id": "HvhM-T9mFbRS"
      }
    },
    {
      "cell_type": "markdown",
      "source": [
        "## Ordered Collections"
      ],
      "metadata": {
        "id": "eZfTTRmBvbiq"
      }
    },
    {
      "cell_type": "markdown",
      "source": [
        "### Lists\n",
        "\n",
        "A Python list is an ordered collection of items.\n",
        "\n",
        "We can create lists using the following syntax"
      ],
      "metadata": {
        "id": "49NhHAyfvd08"
      }
    },
    {
      "cell_type": "code",
      "execution_count": null,
      "metadata": {
        "id": "ZBGk0f1jvKUK"
      },
      "outputs": [],
      "source": [
        "# [item1, item2, ...,  itemN]"
      ]
    },
    {
      "cell_type": "markdown",
      "source": [
        "where the `...` represents any number of additional items.\n",
        "\n",
        "Each item can be of any type.\n",
        "\n",
        "Let’s create some lists."
      ],
      "metadata": {
        "id": "SWs5IGfmvgnz"
      }
    },
    {
      "cell_type": "code",
      "source": [
        "# created, but not assigned to a variable\n",
        "[2.0, 9.1, 12.5]"
      ],
      "metadata": {
        "id": "6QHXgeNovqyM"
      },
      "execution_count": null,
      "outputs": []
    },
    {
      "cell_type": "code",
      "source": [
        "# stored as the variable `x`\n",
        "x = [2.0, 9.1, 12.5]\n",
        "print(\"x has type\", type(x))\n",
        "x"
      ],
      "metadata": {
        "id": "UTDxDVtRvq9W"
      },
      "execution_count": null,
      "outputs": []
    },
    {
      "cell_type": "markdown",
      "source": [
        "#### What Can We Do with Lists?\n",
        "\n",
        "We can access items in a list called `mylist` using `mylist[N]`\n",
        "where `N` is an integer.\n",
        "\n",
        "Note: Anytime that we use the syntax `x[i]` we are doing what is\n",
        "called indexing – it means that we are selecting a particular element\n",
        "of a *collection* `x`."
      ],
      "metadata": {
        "id": "XJrO8BgQvvW9"
      }
    },
    {
      "cell_type": "code",
      "source": [
        "x[1]"
      ],
      "metadata": {
        "id": "6nDxn9SPvsuU"
      },
      "execution_count": null,
      "outputs": []
    },
    {
      "cell_type": "markdown",
      "source": [
        "Wait? Why did `x[1]` return `9.1` when the first element in x is\n",
        "actually `2.0`?\n",
        "\n",
        "This happened because Python starts counting at zero!\n",
        "\n",
        "Lets repeat that one more time for emphasis **Python starts counting at zero**!\n",
        "\n",
        "To access the first element of x we must use `x[0]`:"
      ],
      "metadata": {
        "id": "c97gwdwBvzyv"
      }
    },
    {
      "cell_type": "code",
      "source": [
        "x[0]"
      ],
      "metadata": {
        "id": "pVn9icdAv1d6"
      },
      "execution_count": null,
      "outputs": []
    },
    {
      "cell_type": "markdown",
      "source": [
        "We can also determine how many items are in a list using the `len` function."
      ],
      "metadata": {
        "id": "k9uwd7Uhv8Qj"
      }
    },
    {
      "cell_type": "code",
      "source": [
        "len(x)"
      ],
      "metadata": {
        "id": "ohPsGzJ7v6lf"
      },
      "execution_count": null,
      "outputs": []
    },
    {
      "cell_type": "markdown",
      "source": [
        "What happens if we try to index with a number higher than the number of\n",
        "items in a list?"
      ],
      "metadata": {
        "id": "ChBV-JYDwBW0"
      }
    },
    {
      "cell_type": "code",
      "source": [
        "# uncomment the line below and run\n",
        "# x[4]"
      ],
      "metadata": {
        "id": "LBcI3PfSv_3T"
      },
      "execution_count": null,
      "outputs": []
    },
    {
      "cell_type": "markdown",
      "source": [
        "We can check if a list contains an element using the `in` keyword."
      ],
      "metadata": {
        "id": "OTT8nduqwrtI"
      }
    },
    {
      "cell_type": "code",
      "source": [
        "2.0 in x"
      ],
      "metadata": {
        "id": "mtlCAFT4wCw5"
      },
      "execution_count": null,
      "outputs": []
    },
    {
      "cell_type": "code",
      "source": [
        "1.5 in x"
      ],
      "metadata": {
        "id": "UIn9Zc6Aws0A"
      },
      "execution_count": null,
      "outputs": []
    },
    {
      "cell_type": "markdown",
      "source": [
        "For our list `x`, other common operations we might want to do are…"
      ],
      "metadata": {
        "id": "-K9PojPuwvmy"
      }
    },
    {
      "cell_type": "code",
      "source": [
        "x.reverse()\n",
        "x"
      ],
      "metadata": {
        "id": "c2fYEl-9wt2q"
      },
      "execution_count": null,
      "outputs": []
    },
    {
      "cell_type": "code",
      "source": [
        "number_list = [10, 25, 42, 1.0]\n",
        "print(number_list)\n",
        "number_list.sort()\n",
        "print(number_list)"
      ],
      "metadata": {
        "id": "Tj48NRgtw0G2"
      },
      "execution_count": null,
      "outputs": []
    },
    {
      "cell_type": "markdown",
      "source": [
        "Note that in order to `sort`, we had to have all elements in our list\n",
        "be numbers (`int` and `float`)\n",
        "\n",
        "We could actually do the same with a list of strings. In this case, `sort`\n",
        "will put the items in alphabetical order."
      ],
      "metadata": {
        "id": "lXNax455w_sm"
      }
    },
    {
      "cell_type": "code",
      "source": [
        "str_list = [\"NY\", \"AZ\", \"TX\"]\n",
        "print(str_list)\n",
        "str_list.sort()\n",
        "print(str_list)"
      ],
      "metadata": {
        "id": "QNYadAU3w0k6"
      },
      "execution_count": null,
      "outputs": []
    },
    {
      "cell_type": "markdown",
      "source": [
        "The `append` method adds an element to the end of existing list."
      ],
      "metadata": {
        "id": "G9rSXl_myIc4"
      }
    },
    {
      "cell_type": "code",
      "source": [
        "num_list = [10, 25, 42, 8]\n",
        "print(num_list)\n",
        "num_list.append(10)\n",
        "print(num_list)"
      ],
      "metadata": {
        "id": "ZZnOQ622xEOU"
      },
      "execution_count": null,
      "outputs": []
    },
    {
      "cell_type": "markdown",
      "source": [
        "However, if you call `append` with a list, it adds a `list` to the end,\n",
        "rather than the numbers in that list."
      ],
      "metadata": {
        "id": "HrllNxUXyL2W"
      }
    },
    {
      "cell_type": "code",
      "source": [
        "num_list = [10, 25, 42, 8]\n",
        "print(num_list)\n",
        "num_list.append([20, 4])\n",
        "print(num_list)"
      ],
      "metadata": {
        "id": "ylCorv_4yJqb"
      },
      "execution_count": null,
      "outputs": []
    },
    {
      "cell_type": "markdown",
      "source": [
        "To combine the lists instead, we use extend()"
      ],
      "metadata": {
        "id": "BFVbzo_YyjbE"
      }
    },
    {
      "cell_type": "code",
      "source": [
        "num_list = [10, 25, 42, 8]\n",
        "print(num_list)\n",
        "num_list.extend([20, 4])\n",
        "print(num_list)"
      ],
      "metadata": {
        "id": "EvtjUo4_yjnC"
      },
      "execution_count": null,
      "outputs": []
    },
    {
      "cell_type": "markdown",
      "source": [
        "### Exercise 1\n",
        "\n",
        "In the first cell, try `y.append(z)`.\n",
        "\n",
        "In the second cell try `y.extend(z)`.\n",
        "\n",
        "Explain the behavior.\n",
        "\n",
        "Use `y.append?` and `y.extend?` to\n",
        "see a description of what these methods are supposed to do."
      ],
      "metadata": {
        "id": "hcCUWBrHyoW1"
      }
    },
    {
      "cell_type": "code",
      "source": [
        "y = [\"a\", \"b\", \"c\"]\n",
        "z = [1, 2, 3]\n",
        "# your code here\n",
        "y.append(z)\n",
        "print(y)"
      ],
      "metadata": {
        "id": "NooY3DVEyllX"
      },
      "execution_count": null,
      "outputs": []
    },
    {
      "cell_type": "code",
      "source": [
        "y = [\"a\", \"b\", \"c\"]\n",
        "z = [1, 2, 3]\n",
        "# your code here\n",
        "y.extend(z)\n",
        "print(y)"
      ],
      "metadata": {
        "id": "-Dc9PNdRyuJq"
      },
      "execution_count": null,
      "outputs": []
    },
    {
      "cell_type": "markdown",
      "source": [
        "### Lists of Different Types\n",
        "\n",
        "While most examples above have all used a `list` with\n",
        "a single type of variable, this is not required.\n",
        "\n",
        "Let’s carefully make a small change to the first example: replace `2.0` with `2`"
      ],
      "metadata": {
        "id": "tk4x-L_1yyho"
      }
    },
    {
      "cell_type": "code",
      "source": [
        "x = [2, 9.1, 12.5]"
      ],
      "metadata": {
        "id": "bOw2a6CZyysI"
      },
      "execution_count": null,
      "outputs": []
    },
    {
      "cell_type": "markdown",
      "source": [
        "This behavior is identical for many operations you might\n",
        "apply to a list."
      ],
      "metadata": {
        "id": "a_3IQjXXy2yC"
      }
    },
    {
      "cell_type": "code",
      "source": [
        "import numpy as np\n",
        "x = [2, 9.1, 12.5]\n",
        "np.mean(x) == sum(x)/len(x)"
      ],
      "metadata": {
        "id": "WMx_mddvy1Ox"
      },
      "execution_count": null,
      "outputs": []
    },
    {
      "cell_type": "markdown",
      "source": [
        "Here we have also introduced a new [module](https://datascience.quantecon.org/basics.html#modules),\n",
        "[Numpy](https://datascience.quantecon.org/../scientific/index.html), which provides many functions\n",
        "for working with numeric data.\n",
        "\n",
        "Taking this further, we can put completely different types of elements\n",
        "inside of a list."
      ],
      "metadata": {
        "id": "3zSPNcUgy9nA"
      }
    },
    {
      "cell_type": "code",
      "source": [
        "# stored as the variable `x`\n",
        "x = [2, \"hello\", 3.0]\n",
        "print(\"x has type\", type(x))\n",
        "x"
      ],
      "metadata": {
        "id": "QmW1mIlCy5ao"
      },
      "execution_count": null,
      "outputs": []
    },
    {
      "cell_type": "markdown",
      "source": [
        "To see the types of individual elements in the list:"
      ],
      "metadata": {
        "id": "YNJqhBgNzDaN"
      }
    },
    {
      "cell_type": "code",
      "source": [
        "print(f\"type(x[0]) = {type(x[0])}, type(x[1]) = {type(x[1])}, type(x[2]) = {type(x[2])}\")"
      ],
      "metadata": {
        "id": "A7IoRh6kzAIa"
      },
      "execution_count": null,
      "outputs": []
    },
    {
      "cell_type": "markdown",
      "source": [
        "While no programming limitations prevent this, you should be careful if you write code\n",
        "with different numeric and non-numeric types in the same list.\n",
        "\n",
        "For example, if the types within the list cannot be compared, then how could you sort the elements of the list? (i.e. How do you determine whether the string “hello” is less than the integer 2, “hello” < 2?)"
      ],
      "metadata": {
        "id": "w-lGnVDtzMPv"
      }
    },
    {
      "cell_type": "code",
      "source": [
        "x = [2, \"hello\", 3.0]\n",
        "# uncomment the line below and see what happens!\n",
        "x.sort()"
      ],
      "metadata": {
        "id": "xeALPSi0zEp_"
      },
      "execution_count": null,
      "outputs": []
    },
    {
      "cell_type": "markdown",
      "source": [
        "A few key exceptions to this general rule are:\n",
        "\n",
        "- Lists with both integers and floating points are less error-prone\n",
        "  (since mathematical code using the list would work with both types).   "
      ],
      "metadata": {
        "id": "QRKS75hczTPQ"
      }
    },
    {
      "cell_type": "markdown",
      "source": [
        "### The `range` Function\n",
        "\n",
        "One function you will see often in Python is the `range` function.\n",
        "\n",
        "It has three versions:\n",
        "\n",
        "1. `range(N)`: goes from 0 to N-1  \n",
        "1. `range(a, N)`: goes from a to N-1  \n",
        "1. `range(a, N, d)`: goes from a to N-1, counting by d  \n",
        "\n",
        "\n",
        "When we call the `range` function, we get back something that has type `range`:"
      ],
      "metadata": {
        "id": "pr6uFFuFzXAc"
      }
    },
    {
      "cell_type": "code",
      "source": [
        "r = range(5)\n",
        "print(\"type(r)\", type(r))"
      ],
      "metadata": {
        "id": "6q46CEIGzNgi"
      },
      "execution_count": null,
      "outputs": []
    },
    {
      "cell_type": "code",
      "source": [
        "list(r)"
      ],
      "metadata": {
        "id": "NIddYHqnzhYS"
      },
      "execution_count": null,
      "outputs": []
    },
    {
      "cell_type": "markdown",
      "source": [
        "### Exercise 2\n",
        "\n",
        "Experiment with the other two versions of the `range` function."
      ],
      "metadata": {
        "id": "2Z8GHScqzyQ2"
      }
    },
    {
      "cell_type": "code",
      "source": [
        "# try list(range(a, N)) -- you pick `a` and `N`\n",
        "list(range(4,10))"
      ],
      "metadata": {
        "id": "4IjbYV_VzkOy"
      },
      "execution_count": null,
      "outputs": []
    },
    {
      "cell_type": "code",
      "source": [
        "# try list(range(a, N, d)) -- you pick `a`, `N`, and `d`\n",
        "list(range(1, 20, 3))"
      ],
      "metadata": {
        "id": "ko-JrX_pzpkB"
      },
      "execution_count": null,
      "outputs": []
    },
    {
      "cell_type": "markdown",
      "source": [
        "- Lists:\n",
        "  - An ordered collection of items.\n",
        "  - Defined using square brackets [ ]\n",
        "  - Allows duplicate elements.\n",
        "  - Use it when you need an ordered collection where items can\n",
        "change."
      ],
      "metadata": {
        "id": "vry_2Rw_FkqD"
      }
    },
    {
      "cell_type": "markdown",
      "source": [
        "### What are Tuples?\n",
        "\n",
        "Tuples are very similar to lists and hold ordered collections of items.\n",
        "\n",
        "However, tuples and lists have three main differences:\n",
        "\n",
        "1. Tuples are created using parenthesis — `(` and `)` — instead of\n",
        "  square brackets — `[` and `]`.  \n",
        "1. Tuples are *immutable*, which is a fancy computer science word\n",
        "  meaning that they can’t be changed or altered after they are created.  \n",
        "1. Tuples and multiple return values\n",
        "  from functions are tightly connected, as we will see in [functions](https://datascience.quantecon.org/functions.html).  "
      ],
      "metadata": {
        "id": "19zVuz8yz47z"
      }
    },
    {
      "cell_type": "code",
      "source": [
        "t = (1, \"hello\", 3.0)\n",
        "print(\"t is a\", type(t))\n",
        "t"
      ],
      "metadata": {
        "id": "EXZgbJGLzsg_"
      },
      "execution_count": null,
      "outputs": []
    },
    {
      "cell_type": "markdown",
      "source": [
        "We can *convert* a list to a tuple by calling the `tuple` function on\n",
        "a list."
      ],
      "metadata": {
        "id": "iPXp415D0Hz5"
      }
    },
    {
      "cell_type": "code",
      "source": [
        "print(\"x is a\", type(x))\n",
        "print(\"tuple(x) is a\", type(tuple(x)))\n",
        "tuple(x)"
      ],
      "metadata": {
        "id": "uQAJT7UM0EDj"
      },
      "execution_count": null,
      "outputs": []
    },
    {
      "cell_type": "markdown",
      "source": [
        "We can also convert a tuple to a list using the list function."
      ],
      "metadata": {
        "id": "Kl1rdhtR0OHb"
      }
    },
    {
      "cell_type": "code",
      "source": [
        "list(t)"
      ],
      "metadata": {
        "id": "Mufg2APn0LG6"
      },
      "execution_count": null,
      "outputs": []
    },
    {
      "cell_type": "markdown",
      "source": [
        "As with a list, we access items in a tuple `t` using `t[N]` where\n",
        "`N` is an int."
      ],
      "metadata": {
        "id": "fvrMW3hq0Qvy"
      }
    },
    {
      "cell_type": "code",
      "source": [
        "t[0]  # still start counting at 0"
      ],
      "metadata": {
        "id": "FoI7AynN0POA"
      },
      "execution_count": null,
      "outputs": []
    },
    {
      "cell_type": "code",
      "source": [
        "t[2]"
      ],
      "metadata": {
        "id": "qXkZXxNr0TC5"
      },
      "execution_count": null,
      "outputs": []
    },
    {
      "cell_type": "markdown",
      "source": [
        "- Tuples:\n",
        "  - An ordered collection of items.\n",
        "  - Defined using parentheses ( )\n",
        "  - Immutable; once created, the items cannot be changed.\n",
        "  - Allows duplicate elements.\n",
        "  - Use it when you need an ordered collection that should not\n",
        "change, often used for fixed collections or as dictionary keys."
      ],
      "metadata": {
        "id": "mA7ki-TiKjpL"
      }
    },
    {
      "cell_type": "markdown",
      "source": [
        "### Exercise 3\n",
        "\n",
        "Verify that tuples are indeed immutable by attempting the following:\n",
        "\n",
        "- Changing the first element of `t` to be `100`  \n",
        "- Appending a new element `\"!!\"` to the end of `t` (remember with a\n",
        "  list `x` we would use `x.append(\"!!\")` to do this  \n",
        "- Sorting `t`  \n",
        "- Reversing `t`  "
      ],
      "metadata": {
        "id": "KckSiniN0qo9"
      }
    },
    {
      "cell_type": "code",
      "source": [
        "# change first element of t\n",
        "t[0] = 100"
      ],
      "metadata": {
        "id": "QnuL8Qyp0T8T"
      },
      "execution_count": null,
      "outputs": []
    },
    {
      "cell_type": "code",
      "source": [
        "# appending to t\n",
        "t.append(100)"
      ],
      "metadata": {
        "id": "HT2iA75J0vHm"
      },
      "execution_count": null,
      "outputs": []
    },
    {
      "cell_type": "code",
      "source": [
        "# sorting t\n",
        "t.sort()"
      ],
      "metadata": {
        "id": "7IysfPNG0viQ"
      },
      "execution_count": null,
      "outputs": []
    },
    {
      "cell_type": "code",
      "source": [
        "# reversing t\n",
        "t.reverse()"
      ],
      "metadata": {
        "id": "UrSwK5Ow0wT3"
      },
      "execution_count": null,
      "outputs": []
    },
    {
      "cell_type": "markdown",
      "source": [
        "\n",
        "Tuples (and lists) can be unpacked directly into variables."
      ],
      "metadata": {
        "id": "o3s-GJiv1jyE"
      }
    },
    {
      "cell_type": "code",
      "source": [
        "x, y = (1, \"test\")\n",
        "print(f\"x = {x}, y = {y}\")"
      ],
      "metadata": {
        "id": "ZpziXEqn1K7N"
      },
      "execution_count": null,
      "outputs": []
    },
    {
      "cell_type": "markdown",
      "source": [
        "This will be a convenient way to work with functions returning\n",
        "multiple values, as well as within comprehensions and loops."
      ],
      "metadata": {
        "id": "DV-mFKLh1oJ2"
      }
    },
    {
      "cell_type": "markdown",
      "source": [
        "### List vs Tuple: Which to Use?\n",
        "\n",
        "Should you use a list or tuple?\n",
        "\n",
        "This depends on what you are storing, whether you might need to reorder the elements,\n",
        "or whether you’d add\n",
        "new elements without a complete reinterpretation of the\n",
        "underlying data.\n",
        "\n",
        "For example, take data representing the GDP (in trillions) and population\n",
        "(in billions) for China in 2015."
      ],
      "metadata": {
        "id": "9nNRP_t01rWz"
      }
    },
    {
      "cell_type": "code",
      "source": [
        "china_data_2015 = (\"China\", 2015, 11.06, 1.371)\n",
        "\n",
        "print(china_data_2015)"
      ],
      "metadata": {
        "id": "rmSh3YVZ1lB0"
      },
      "execution_count": null,
      "outputs": []
    },
    {
      "cell_type": "markdown",
      "source": [
        "In this case, we have used a tuple since: (a) ordering would\n",
        "be meaningless; and (b) adding more data would require a\n",
        "reinterpretation of the whole data structure.\n",
        "\n",
        "On the other hand, consider a list of GDP in China between\n",
        "2013 and 2015."
      ],
      "metadata": {
        "id": "9KMf35z-14Ci"
      }
    },
    {
      "cell_type": "code",
      "source": [
        "gdp_data = [9.607, 10.48, 11.06]\n",
        "print(gdp_data)"
      ],
      "metadata": {
        "id": "C3GGZw_z12W7"
      },
      "execution_count": null,
      "outputs": []
    },
    {
      "cell_type": "markdown",
      "source": [
        "In this case, we have used a list, since adding on a new\n",
        "element to the end of the list for GDP in 2016 would make\n",
        "complete sense."
      ],
      "metadata": {
        "id": "uj893_tO17rh"
      }
    },
    {
      "cell_type": "markdown",
      "source": [
        "Along these lines, collecting data on China for different\n",
        "years may make sense as a list of tuples (e.g. year, GDP,\n",
        "and population – although we will see better ways to store this sort of data in the Pandas."
      ],
      "metadata": {
        "id": "vpncFzl11-p3"
      }
    },
    {
      "cell_type": "code",
      "source": [
        "china_data = [(2015, 11.06, 1.371), (2014, 10.48, 1.364), (2013, 9.607, 1.357)]\n",
        "print(china_data)"
      ],
      "metadata": {
        "id": "9AtB5JrK15o-"
      },
      "execution_count": null,
      "outputs": []
    },
    {
      "cell_type": "markdown",
      "source": [
        "In general, a rule of thumb is to use a list unless you *need* to use a tuple.\n",
        "\n",
        "Key criteria for tuple use are when you want to:\n",
        "\n",
        "- ensure the *order* of elements can’t change  \n",
        "- ensure the actual values of the elements can’t\n",
        "  change  \n",
        "- use the collection as a key in a dict (we will learn what this\n",
        "  means soon)"
      ],
      "metadata": {
        "id": "YXCc15Rp2aas"
      }
    },
    {
      "cell_type": "markdown",
      "source": [
        "### `zip` and `enumerate`\n",
        "\n",
        "Two functions that can be extremely useful are `zip` and `enumerate`.\n",
        "\n",
        "Both of these functions are best understood by example."
      ],
      "metadata": {
        "id": "nKl6tfmN2uUh"
      }
    },
    {
      "cell_type": "code",
      "source": [
        "gdp_data = [9.607, 10.48, 11.06]\n",
        "years = [2013, 2014, 2015]\n",
        "z = zip(years, gdp_data)\n",
        "print(\"type(z)\", type(z))"
      ],
      "metadata": {
        "id": "Sb1pe47d2VWr"
      },
      "execution_count": null,
      "outputs": []
    },
    {
      "cell_type": "markdown",
      "source": [
        "To see what is inside `z`, let’s convert it to a list."
      ],
      "metadata": {
        "id": "cv8bUCIn20Pl"
      }
    },
    {
      "cell_type": "code",
      "source": [
        "list(z)"
      ],
      "metadata": {
        "id": "ug79JNDK2w70"
      },
      "execution_count": null,
      "outputs": []
    },
    {
      "cell_type": "markdown",
      "source": [
        "Notice that we now have a list where each item is a tuple.\n",
        "\n",
        "Within each tuple, we have one item from each of the collections we\n",
        "passed to the zip function.\n",
        "\n",
        "In particular, the first item in `z` contains the first item from\n",
        "`[2013, 2014, 2015]` and the first item from `[9.607, 10.48, 11.06]`.\n",
        "\n",
        "The second item in `z` contains the second item from each collection\n",
        "and so on.\n",
        "\n",
        "We can access an element in this and then unpack the resulting\n",
        "tuple directly into variables."
      ],
      "metadata": {
        "id": "q7LiA2V32-kQ"
      }
    },
    {
      "cell_type": "code",
      "source": [
        "l = list(zip(years, gdp_data))\n",
        "x, y = l[0]\n",
        "print(f\"year = {x}, GDP = {y}\")"
      ],
      "metadata": {
        "id": "M0DKymGy21fi"
      },
      "execution_count": null,
      "outputs": []
    },
    {
      "cell_type": "markdown",
      "source": [
        "Now let’s experiment with `enumerate`."
      ],
      "metadata": {
        "id": "9dGjC6Je3Crw"
      }
    },
    {
      "cell_type": "code",
      "source": [
        "e = enumerate([\"a\", \"b\", \"c\"])\n",
        "print(\"type(e)\", type(e))\n",
        "e"
      ],
      "metadata": {
        "id": "rmmmJTKV3A8x"
      },
      "execution_count": null,
      "outputs": []
    },
    {
      "cell_type": "markdown",
      "source": [
        "e is an 'enumerate' object here."
      ],
      "metadata": {
        "id": "NlGr8RU73mhD"
      }
    },
    {
      "cell_type": "markdown",
      "source": [
        "Again, we call `list(e)` to see what is inside."
      ],
      "metadata": {
        "id": "-77FBKtl3Fck"
      }
    },
    {
      "cell_type": "code",
      "source": [
        "list(e)"
      ],
      "metadata": {
        "id": "keuKh5PW3JwX"
      },
      "execution_count": null,
      "outputs": []
    },
    {
      "cell_type": "markdown",
      "source": [
        "We again have a list of tuples, but this time, the first element in each\n",
        "tuple is the *index* of the second tuple element in the initial\n",
        "collection. enumerate() assigns an index (starting from 0 by default) to each item.\n",
        "\n",
        "Notice that the third item is `(2, 'c')` because\n",
        "`[\"a\", \"b\", \"c\"][2]` is `'c'`"
      ],
      "metadata": {
        "id": "f4CbAQPd3Sp6"
      }
    },
    {
      "cell_type": "markdown",
      "source": [
        "An important quirk of some iterable types that are not lists (such as the above `zip`) is that\n",
        "you cannot convert the same type to a list twice.\n",
        "\n",
        "This is because `zip`, `enumerate`, and `range` produce what is called a generator.\n",
        "\n",
        "A generator will only produce each of its elements a single time, so if you call `list` on the same\n",
        "generator a second time, it will not have any elements to iterate over anymore."
      ],
      "metadata": {
        "id": "MrUXNrX34eG7"
      }
    },
    {
      "cell_type": "code",
      "source": [
        "gdp_data = [9.607, 10.48, 11.06]\n",
        "years = [2013, 2014, 2015]\n",
        "z = zip(years, gdp_data)\n",
        "l = list(z)\n",
        "print(l)\n",
        "m = list(z)\n",
        "print(m)"
      ],
      "metadata": {
        "id": "Xt728yYt3_gk"
      },
      "execution_count": null,
      "outputs": []
    },
    {
      "cell_type": "markdown",
      "source": [
        "## Associative Collections\n",
        "\n"
      ],
      "metadata": {
        "id": "s3FqF7Jc4kn-"
      }
    },
    {
      "cell_type": "markdown",
      "source": [
        "### Dictionaries\n",
        "\n",
        "A dictionary (or dict) associates `key`s with `value`s.\n",
        "\n",
        "It will feel similar to a dictionary for words, where the keys are words and\n",
        "the values are the associated definitions.\n",
        "\n",
        "The most common way to create a `dict` is to use curly braces — `{`\n",
        "and `}` — like this:"
      ],
      "metadata": {
        "id": "w0spMty-4ncc"
      }
    },
    {
      "cell_type": "code",
      "source": [
        "{\"key1\": value1, \"key2\": value2, ..., \"keyN\": valueN}"
      ],
      "metadata": {
        "id": "TBi56r0z4fWP"
      },
      "execution_count": null,
      "outputs": []
    },
    {
      "cell_type": "markdown",
      "source": [
        "where the `...` indicates that we can have any number of additional\n",
        "terms.\n",
        "\n",
        "The crucial part of the syntax is that each key-value pair is written\n",
        "`key: value` and that these pairs are separated by commas — `,`.\n",
        "\n",
        "Let’s see an example using our aggregate data on China in 2015."
      ],
      "metadata": {
        "id": "mUhNkkbD4v0Y"
      }
    },
    {
      "cell_type": "code",
      "source": [
        "china_data = {\"country\": \"China\", \"year\": 2015, \"GDP\" : 11.06, \"population\": 1.371}\n",
        "print(china_data)"
      ],
      "metadata": {
        "id": "bxJ2XJoE4tkf"
      },
      "execution_count": null,
      "outputs": []
    },
    {
      "cell_type": "markdown",
      "source": [
        "Unlike our above example using a `tuple`, a `dict` allows us to\n",
        "associate a name with each field, rather than having to remember the\n",
        "order within the tuple.\n",
        "\n",
        "Often, code that makes a dict is easier to read if we put each\n",
        "`key: value` pair on its own line.\n",
        "\n",
        "The code below is equivalent to what we saw above."
      ],
      "metadata": {
        "id": "WfrzJjZ25Bwt"
      }
    },
    {
      "cell_type": "code",
      "source": [
        "china_data = {\n",
        "    \"country\": \"China\",\n",
        "    \"year\": 2015,\n",
        "    \"GDP\" : 11.06,\n",
        "    \"population\": 1.371\n",
        "}"
      ],
      "metadata": {
        "id": "Q7ANetJC40X0"
      },
      "execution_count": null,
      "outputs": []
    },
    {
      "cell_type": "markdown",
      "source": [
        "Most often, the keys (e.g. “country”, “year”, “GDP”, and “population”)\n",
        "will be strings, but we could also use numbers (`int`, or\n",
        "`float`) or even tuples (or, rarely, a combination of types).\n",
        "\n",
        "The values can be **any** type and different from each other."
      ],
      "metadata": {
        "id": "SlO3dJr75JVf"
      }
    },
    {
      "cell_type": "markdown",
      "source": [
        "### Exercise 5\n",
        "\n",
        "Create a new dict which associates stock tickers with its stock price.\n",
        "\n",
        "Here are some tickers and a price.\n",
        "\n",
        "- AAPL: 175.96  \n",
        "- GOOGL: 1047.43  \n",
        "- TVIX: 8.38  "
      ],
      "metadata": {
        "id": "zUgoQw7g5MDF"
      }
    },
    {
      "cell_type": "code",
      "source": [
        "stock_price = {\n",
        "    \"AAPL\": 175.96,\n",
        "    \"GOOGL\": 1047.43,\n",
        "    \"TVIX\" : 8.38\n",
        "}\n",
        "print(stock_price)"
      ],
      "metadata": {
        "id": "LugO7OqI5EIc"
      },
      "execution_count": null,
      "outputs": []
    },
    {
      "cell_type": "markdown",
      "source": [
        "This next example is meant to emphasize how values can be\n",
        "*anything* – including another dictionary."
      ],
      "metadata": {
        "id": "4iktgqPN5YDC"
      }
    },
    {
      "cell_type": "code",
      "source": [
        "companies = {\"AAPL\": {\"bid\": 175.96, \"ask\": 175.98},\n",
        "             \"GE\": {\"bid\": 1047.03, \"ask\": 1048.40},\n",
        "             \"TVIX\": {\"bid\": 8.38, \"ask\": 8.40}}\n",
        "print(companies)"
      ],
      "metadata": {
        "id": "h6PMCVa55YNI"
      },
      "execution_count": null,
      "outputs": []
    },
    {
      "cell_type": "markdown",
      "source": [
        "#### Getting, Setting, and Updating dict Items\n",
        "\n",
        "We can now ask Python to tell us the value for a particular key by using\n",
        "the syntax `d[k]`,  where `d` is our `dict` and `k` is the key for which we want to\n",
        "find the value.\n",
        "\n",
        "For example,"
      ],
      "metadata": {
        "id": "OzaY-dcp5cxZ"
      }
    },
    {
      "cell_type": "code",
      "source": [
        "print(china_data[\"year\"])\n",
        "print(f\"country = {china_data['country']}, population = {china_data['population']}\")"
      ],
      "metadata": {
        "id": "ebJHh3Ky5aOP"
      },
      "execution_count": null,
      "outputs": []
    },
    {
      "cell_type": "markdown",
      "source": [
        "Note: when inside of a formatting string, you can use `'` instead of `\"` as above\n",
        "to ensure the formatting still works with the embedded code.\n",
        "\n",
        "If we ask for the value of a key that is not in the dict, we will get an error."
      ],
      "metadata": {
        "id": "m-_Y3-Nv5mIe"
      }
    },
    {
      "cell_type": "code",
      "source": [
        "# uncomment the line below to see the error\n",
        "# china_data[\"inflation\"]"
      ],
      "metadata": {
        "id": "UmyiunUl5g1i"
      },
      "execution_count": null,
      "outputs": []
    },
    {
      "cell_type": "markdown",
      "source": [
        "We can also add new items to a dict using the syntax `d[new_key] = new_value`.\n",
        "\n",
        "Let’s see some examples."
      ],
      "metadata": {
        "id": "ESRPXqI45pUI"
      }
    },
    {
      "cell_type": "code",
      "source": [
        "print(china_data)\n",
        "china_data[\"unemployment\"] = \"4.05%\"\n",
        "print(china_data)"
      ],
      "metadata": {
        "id": "7NHaWPg65nkN"
      },
      "execution_count": null,
      "outputs": []
    },
    {
      "cell_type": "markdown",
      "source": [
        "To update the value, we use assignment in the same way (which will\n",
        "create the key and value as required)."
      ],
      "metadata": {
        "id": "ez_GLJla5tGm"
      }
    },
    {
      "cell_type": "code",
      "source": [
        "print(china_data)\n",
        "china_data[\"unemployment\"] = \"4.051%\"\n",
        "print(china_data)"
      ],
      "metadata": {
        "id": "4weHMV9I5qev"
      },
      "execution_count": null,
      "outputs": []
    },
    {
      "cell_type": "markdown",
      "source": [
        "Or we could change the type."
      ],
      "metadata": {
        "id": "97177IhC51wz"
      }
    },
    {
      "cell_type": "code",
      "source": [
        "china_data[\"unemployment\"] = 4.051\n",
        "print(china_data)"
      ],
      "metadata": {
        "id": "4NO2InH35ywc"
      },
      "execution_count": null,
      "outputs": []
    },
    {
      "cell_type": "markdown",
      "source": [
        "#### Common `dict` Functionality\n",
        "\n",
        "We can do some common things with dicts.\n",
        "\n",
        "We will demonstrate them with examples below."
      ],
      "metadata": {
        "id": "WRiEuDzb7P1_"
      }
    },
    {
      "cell_type": "code",
      "source": [
        "# number of key-value pairs in a dict\n",
        "len(china_data)"
      ],
      "metadata": {
        "id": "Co2p1_QI52-p"
      },
      "execution_count": null,
      "outputs": []
    },
    {
      "cell_type": "code",
      "source": [
        "# get a list of all the keys\n",
        "list(china_data.keys())"
      ],
      "metadata": {
        "id": "K2cRXTjN7SZI"
      },
      "execution_count": null,
      "outputs": []
    },
    {
      "cell_type": "code",
      "source": [
        "# get a list of all the values\n",
        "list(china_data.values())"
      ],
      "metadata": {
        "id": "o9p2xHYU7TwF"
      },
      "execution_count": null,
      "outputs": []
    },
    {
      "cell_type": "code",
      "source": [
        "more_china_data = {\"irrigated_land\": 690_070, \"top_religions\": {\"buddhist\": 18.2, \"christian\" : 5.1, \"muslim\": 1.8}}\n",
        "\n",
        "# Add all key-value pairs in mydict2 to mydict.\n",
        "# if the key already appears in mydict, overwrite the\n",
        "# value with the value in mydict2\n",
        "china_data.update(more_china_data)\n",
        "china_data"
      ],
      "metadata": {
        "id": "brxlx8S47VFv"
      },
      "execution_count": null,
      "outputs": []
    },
    {
      "cell_type": "code",
      "source": [
        "# Get the value associated with a key or return a default value\n",
        "# use this to avoid the NameError we saw above if you have a reasonable\n",
        "# default value\n",
        "china_data.get(\"irrigated_land\", \"Data Not Available\")"
      ],
      "metadata": {
        "id": "ScNr-Idk7cfi"
      },
      "execution_count": null,
      "outputs": []
    },
    {
      "cell_type": "code",
      "source": [
        "china_data.get(\"death_rate\", \"Data Not Available\")"
      ],
      "metadata": {
        "id": "GId2_lms7iNu"
      },
      "execution_count": null,
      "outputs": []
    },
    {
      "cell_type": "markdown",
      "source": [
        "### Exercise 7\n",
        "\n",
        "Use Jupyter’s help facilities to learn how to use the `pop` method to\n",
        "remove the key `\"irrigated_land\"` (and its value) from the dict."
      ],
      "metadata": {
        "id": "zYW1xH9P7o1E"
      }
    },
    {
      "cell_type": "code",
      "source": [
        "# uncomment and use the Inspector or ?\n",
        "china_data.pop?"
      ],
      "metadata": {
        "id": "Y89Ja2aw7kEi"
      },
      "execution_count": null,
      "outputs": []
    },
    {
      "cell_type": "code",
      "source": [
        "china_data.pop(\"irrigated_land\")"
      ],
      "metadata": {
        "id": "uP26QxYeHWwu"
      },
      "execution_count": null,
      "outputs": []
    },
    {
      "cell_type": "code",
      "source": [
        "china_data"
      ],
      "metadata": {
        "id": "_u7zUDYLHYys"
      },
      "execution_count": null,
      "outputs": []
    },
    {
      "cell_type": "markdown",
      "source": [
        "### Exercise 8\n",
        "\n",
        "Explain what happens to the value you popped.\n",
        "\n",
        "Experiment with calling `pop` twice."
      ],
      "metadata": {
        "id": "MceeSNxT8kNA"
      }
    },
    {
      "cell_type": "code",
      "source": [
        "# your code here\n",
        "china_data.pop(\"irrigated_land\")"
      ],
      "metadata": {
        "id": "Pp_KQ8PD7p9o"
      },
      "execution_count": null,
      "outputs": []
    },
    {
      "cell_type": "markdown",
      "source": [
        "### Sets\n",
        "\n",
        "Python has an additional way to represent collections of items: sets.\n",
        "\n",
        "If you are familiar with the mathematical concept of sets, then you will\n",
        "understand the majority of Python sets already.\n",
        "\n",
        "If you don’t know the math behind sets, don’t worry: we’ll cover the\n",
        "basics of Python’s sets here.\n",
        "\n",
        "A set is an *unordered* collection of *unique* elements.\n",
        "\n",
        "The syntax for creating a set uses curly bracket `{` and `}`."
      ],
      "metadata": {
        "id": "GQnKHPAk8oLD"
      }
    },
    {
      "cell_type": "code",
      "source": [
        "{item1, item2, ..., itemN}"
      ],
      "metadata": {
        "id": "FEEvYR6m8bR3"
      },
      "execution_count": null,
      "outputs": []
    },
    {
      "cell_type": "markdown",
      "source": [
        "Here is an example."
      ],
      "metadata": {
        "id": "2KJ3FqDD8uPM"
      }
    },
    {
      "cell_type": "code",
      "source": [
        "s = {1, \"hello\", 3.0}\n",
        "print(\"s has type\", type(s))\n",
        "s"
      ],
      "metadata": {
        "id": "JXjn25G68ug2"
      },
      "execution_count": null,
      "outputs": []
    },
    {
      "cell_type": "markdown",
      "source": [
        "### Exercise 9\n",
        "\n",
        "Try creating a set with repeated elements (e.g. `{1, 2, 1, 2, 1, 2}`).\n",
        "\n",
        "What happens?\n",
        "\n",
        "Why?"
      ],
      "metadata": {
        "id": "lMiP8NV-80Gm"
      }
    },
    {
      "cell_type": "code",
      "source": [
        "# your code here\n",
        "s1 = {1, 2, 1, 2, 1, 2}\n",
        "s1"
      ],
      "metadata": {
        "id": "I78Bm7Uj8vP4"
      },
      "execution_count": null,
      "outputs": []
    },
    {
      "cell_type": "markdown",
      "source": [
        "As with lists and tuples, we can check if something is `in` the set\n",
        "and check the set’s length:"
      ],
      "metadata": {
        "id": "E1kEZ5Uf87Gy"
      }
    },
    {
      "cell_type": "code",
      "source": [
        "print(\"len(s) =\", len(s))\n",
        "\"hello\" in s"
      ],
      "metadata": {
        "id": "0IW9PmN287ST"
      },
      "execution_count": null,
      "outputs": []
    },
    {
      "cell_type": "markdown",
      "source": [
        "Unlike lists and tuples, we can’t extract elements of a set `s` using\n",
        "`s[N]` where `N` is a number."
      ],
      "metadata": {
        "id": "6YHPyl0N8_EL"
      }
    },
    {
      "cell_type": "code",
      "source": [
        "# Uncomment the line below to see what happens\n",
        "# s[1]"
      ],
      "metadata": {
        "id": "uzN0u-Vv88Y7"
      },
      "execution_count": null,
      "outputs": []
    },
    {
      "cell_type": "markdown",
      "source": [
        "This is because sets are not ordered, so the notion of getting the\n",
        "second element (`s[1]`) is not well defined.\n",
        "\n",
        "We add elements to a set `s` using `s.add`."
      ],
      "metadata": {
        "id": "Oboc4oFF9BKc"
      }
    },
    {
      "cell_type": "code",
      "source": [
        "s.add(100)\n",
        "s"
      ],
      "metadata": {
        "id": "p4pWtyhY9Ce8"
      },
      "execution_count": null,
      "outputs": []
    },
    {
      "cell_type": "code",
      "source": [
        "s.add(\"hello\") # nothing happens, why?\n",
        "s"
      ],
      "metadata": {
        "id": "YI-cZLpY9D0D"
      },
      "execution_count": null,
      "outputs": []
    },
    {
      "cell_type": "markdown",
      "source": [
        "We can also do set operations.\n",
        "\n",
        "Consider the set `s` from above and the set\n",
        "`s2 = {\"hello\", \"world\"}`.\n",
        "\n",
        "- `s.union(s2)`: returns a set with all elements in either `s` or\n",
        "  `s2`  \n",
        "- `s.intersection(s2)`: returns a set with all elements in both `s`\n",
        "  and `s2`  \n",
        "- `s.difference(s2)`: returns a set with all elements in `s` that\n",
        "  aren’t in `s2`  \n",
        "- `s.symmetric_difference(s2)`: returns a set with all elements in\n",
        "  only one of `s` and `s2`  "
      ],
      "metadata": {
        "id": "lIQQcF2Y9Hpx"
      }
    },
    {
      "cell_type": "markdown",
      "source": [
        "- Sets:\n",
        "  - An unordered collection of unique items.\n",
        "  - Defined using curly braces { } or the set() function.\n",
        "  - Mutable; you can add or remove items.\n",
        "  - Does not allow duplicate elements.\n",
        "  - Use it when you need a collection of unique items and do not\n",
        "care about the order."
      ],
      "metadata": {
        "id": "mfCwszngK1HV"
      }
    },
    {
      "cell_type": "markdown",
      "source": [
        "### Exercise 10\n",
        "\n",
        "Test out two of the operations described above using the original set we\n",
        "created, `s`, and the set created below `s2`."
      ],
      "metadata": {
        "id": "Ik6euOsU9Qhg"
      }
    },
    {
      "cell_type": "code",
      "source": [
        "s2 = {\"hello\", \"world\"}"
      ],
      "metadata": {
        "id": "QoSPjL7j9FhY"
      },
      "execution_count": null,
      "outputs": []
    },
    {
      "cell_type": "code",
      "source": [
        "# Operation 1\n",
        "s.union(s2)"
      ],
      "metadata": {
        "id": "TBzo8F1Y9Rxn"
      },
      "execution_count": null,
      "outputs": []
    },
    {
      "cell_type": "code",
      "source": [
        "# Operation 2\n",
        "s.intersection(s2)"
      ],
      "metadata": {
        "id": "6eKG73FB9Ujd"
      },
      "execution_count": null,
      "outputs": []
    },
    {
      "cell_type": "code",
      "source": [
        "s.difference(s2)"
      ],
      "metadata": {
        "id": "YEqs4Mv7H8No"
      },
      "execution_count": null,
      "outputs": []
    },
    {
      "cell_type": "markdown",
      "source": [
        "As with tuples and lists, a `set` function can convert other\n",
        "collections to sets."
      ],
      "metadata": {
        "id": "-PsTYHVQ9ZBj"
      }
    },
    {
      "cell_type": "code",
      "source": [
        "x = [1, 2, 3, 1]\n",
        "set(x)"
      ],
      "metadata": {
        "id": "ywXkPC_k9ZPu"
      },
      "execution_count": null,
      "outputs": []
    },
    {
      "cell_type": "code",
      "source": [
        "t = (1, 2, 3, 1)\n",
        "set(t)"
      ],
      "metadata": {
        "id": "WDl4Xw7H9aMr"
      },
      "execution_count": null,
      "outputs": []
    },
    {
      "cell_type": "markdown",
      "source": [
        "Likewise, we can convert sets to lists and tuples."
      ],
      "metadata": {
        "id": "SCR1iFQW9bHd"
      }
    },
    {
      "cell_type": "code",
      "source": [
        "list(s)"
      ],
      "metadata": {
        "id": "hCVPp8PB9diN"
      },
      "execution_count": null,
      "outputs": []
    },
    {
      "cell_type": "code",
      "source": [
        "tuple(s)"
      ],
      "metadata": {
        "id": "g7Co9YVb9eYf"
      },
      "execution_count": null,
      "outputs": []
    },
    {
      "cell_type": "code",
      "source": [],
      "metadata": {
        "id": "U-C8ve709flN"
      },
      "execution_count": null,
      "outputs": []
    }
  ]
}