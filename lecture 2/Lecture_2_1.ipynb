{
  "cells": [
    {
      "cell_type": "markdown",
      "metadata": {
        "id": "uw0xlcfQvTX_"
      },
      "source": [
        "# Collections\n",
        "\n",
        "**Outcomes**\n",
        "\n",
        "- Ordered Collections  \n",
        "  - Know what a list is and a tuple is  \n",
        "  - Know how to tell a list from a tuple  \n",
        "  - Understand the `range`, `zip` and `enumerate` functions  \n",
        "  - Be able to use common list methods like `append`, `sort`,\n",
        "    and `reverse`  \n",
        "- Associative Collections  \n",
        "  - Understand what a `dict` is  \n",
        "  - Know the distinction between a dicts keys and values  \n",
        "  - Understand when `dict`s are useful  \n",
        "  - Be familiar with common `dict` methods  \n",
        "- Sets  \n",
        "  - Know what a set is  \n",
        "  - Understand how a set differs from a list and a tuple  \n",
        "  - Know when to use a set vs a list or a tuple  "
      ]
    },
    {
      "cell_type": "markdown",
      "metadata": {
        "id": "HvhM-T9mFbRS"
      },
      "source": [
        "Lists, Tuples and Sets are all types of collections used to store multiple items!!!"
      ]
    },
    {
      "cell_type": "markdown",
      "metadata": {
        "id": "eZfTTRmBvbiq"
      },
      "source": [
        "## Ordered Collections"
      ]
    },
    {
      "cell_type": "markdown",
      "metadata": {
        "id": "49NhHAyfvd08"
      },
      "source": [
        "### Lists\n",
        "\n",
        "A Python list is an ordered collection of items.\n",
        "\n",
        "We can create lists using the following syntax"
      ]
    },
    {
      "cell_type": "code",
      "execution_count": null,
      "metadata": {
        "id": "ZBGk0f1jvKUK"
      },
      "outputs": [],
      "source": [
        "# [item1, item2, ...,  itemN]"
      ]
    },
    {
      "cell_type": "markdown",
      "metadata": {
        "id": "SWs5IGfmvgnz"
      },
      "source": [
        "where the `...` represents any number of additional items.\n",
        "\n",
        "Each item can be of any type.\n",
        "\n",
        "Let’s create some lists."
      ]
    },
    {
      "cell_type": "code",
      "execution_count": null,
      "metadata": {
        "id": "6QHXgeNovqyM"
      },
      "outputs": [],
      "source": [
        "# created, but not assigned to a variable\n",
        "[2.0, 9.1, 12.5]"
      ]
    },
    {
      "cell_type": "code",
      "execution_count": null,
      "metadata": {
        "id": "UTDxDVtRvq9W"
      },
      "outputs": [],
      "source": [
        "# stored as the variable `x`\n",
        "x = [2.0, 9.1, 12.5]\n",
        "print(\"x has type\", type(x))\n",
        "x"
      ]
    },
    {
      "cell_type": "markdown",
      "metadata": {
        "id": "XJrO8BgQvvW9"
      },
      "source": [
        "#### What Can We Do with Lists?\n",
        "\n",
        "We can access items in a list called `mylist` using `mylist[N]`\n",
        "where `N` is an integer.\n",
        "\n",
        "Note: Anytime that we use the syntax `x[i]` we are doing what is\n",
        "called indexing – it means that we are selecting a particular element\n",
        "of a *collection* `x`."
      ]
    },
    {
      "cell_type": "code",
      "execution_count": null,
      "metadata": {
        "id": "6nDxn9SPvsuU"
      },
      "outputs": [],
      "source": [
        "x[1]"
      ]
    },
    {
      "cell_type": "markdown",
      "metadata": {
        "id": "c97gwdwBvzyv"
      },
      "source": [
        "Wait? Why did `x[1]` return `9.1` when the first element in x is\n",
        "actually `2.0`?\n",
        "\n",
        "This happened because Python starts counting at zero!\n",
        "\n",
        "Lets repeat that one more time for emphasis **Python starts counting at zero**!\n",
        "\n",
        "To access the first element of x we must use `x[0]`:"
      ]
    },
    {
      "cell_type": "code",
      "execution_count": null,
      "metadata": {
        "id": "pVn9icdAv1d6"
      },
      "outputs": [],
      "source": [
        "x[0]"
      ]
    },
    {
      "cell_type": "markdown",
      "metadata": {
        "id": "k9uwd7Uhv8Qj"
      },
      "source": [
        "We can also determine how many items are in a list using the `len` function."
      ]
    },
    {
      "cell_type": "code",
      "execution_count": null,
      "metadata": {
        "id": "ohPsGzJ7v6lf"
      },
      "outputs": [],
      "source": [
        "len(x)"
      ]
    },
    {
      "cell_type": "markdown",
      "metadata": {
        "id": "ChBV-JYDwBW0"
      },
      "source": [
        "What happens if we try to index with a number higher than the number of\n",
        "items in a list?"
      ]
    },
    {
      "cell_type": "code",
      "execution_count": null,
      "metadata": {
        "id": "LBcI3PfSv_3T"
      },
      "outputs": [],
      "source": [
        "# uncomment the line below and run\n",
        "# x[4]"
      ]
    },
    {
      "cell_type": "markdown",
      "metadata": {
        "id": "OTT8nduqwrtI"
      },
      "source": [
        "We can check if a list contains an element using the `in` keyword."
      ]
    },
    {
      "cell_type": "code",
      "execution_count": null,
      "metadata": {
        "id": "mtlCAFT4wCw5"
      },
      "outputs": [],
      "source": [
        "2.0 in x"
      ]
    },
    {
      "cell_type": "code",
      "execution_count": null,
      "metadata": {
        "id": "UIn9Zc6Aws0A"
      },
      "outputs": [],
      "source": [
        "1.5 in x"
      ]
    },
    {
      "cell_type": "markdown",
      "metadata": {
        "id": "-K9PojPuwvmy"
      },
      "source": [
        "For our list `x`, other common operations we might want to do are…"
      ]
    },
    {
      "cell_type": "code",
      "execution_count": null,
      "metadata": {
        "id": "c2fYEl-9wt2q"
      },
      "outputs": [],
      "source": [
        "x.reverse()\n",
        "x"
      ]
    },
    {
      "cell_type": "code",
      "execution_count": null,
      "metadata": {
        "id": "Tj48NRgtw0G2"
      },
      "outputs": [],
      "source": [
        "number_list = [10, 25, 42, 1.0]\n",
        "print(number_list)\n",
        "number_list.sort()\n",
        "print(number_list)"
      ]
    },
    {
      "cell_type": "markdown",
      "metadata": {
        "id": "lXNax455w_sm"
      },
      "source": [
        "Note that in order to `sort`, we had to have all elements in our list\n",
        "be numbers (`int` and `float`)\n",
        "\n",
        "We could actually do the same with a list of strings. In this case, `sort`\n",
        "will put the items in alphabetical order."
      ]
    },
    {
      "cell_type": "code",
      "execution_count": null,
      "metadata": {
        "id": "QNYadAU3w0k6"
      },
      "outputs": [],
      "source": [
        "str_list = [\"NY\", \"AZ\", \"TX\"]\n",
        "print(str_list)\n",
        "str_list.sort()\n",
        "print(str_list)"
      ]
    },
    {
      "cell_type": "markdown",
      "metadata": {
        "id": "G9rSXl_myIc4"
      },
      "source": [
        "The `append` method adds an element to the end of existing list."
      ]
    },
    {
      "cell_type": "code",
      "execution_count": null,
      "metadata": {
        "id": "ZZnOQ622xEOU"
      },
      "outputs": [],
      "source": [
        "num_list = [10, 25, 42, 8]\n",
        "print(num_list)\n",
        "num_list.append(10)\n",
        "print(num_list)"
      ]
    },
    {
      "cell_type": "markdown",
      "metadata": {
        "id": "HrllNxUXyL2W"
      },
      "source": [
        "However, if you call `append` with a list, it adds a `list` to the end,\n",
        "rather than the numbers in that list."
      ]
    },
    {
      "cell_type": "code",
      "execution_count": null,
      "metadata": {
        "id": "ylCorv_4yJqb"
      },
      "outputs": [],
      "source": [
        "num_list = [10, 25, 42, 8]\n",
        "print(num_list)\n",
        "num_list.append([20, 4])\n",
        "print(num_list)"
      ]
    },
    {
      "cell_type": "markdown",
      "metadata": {
        "id": "BFVbzo_YyjbE"
      },
      "source": [
        "To combine the lists instead, we use extend()"
      ]
    },
    {
      "cell_type": "code",
      "execution_count": null,
      "metadata": {
        "id": "EvtjUo4_yjnC"
      },
      "outputs": [],
      "source": [
        "num_list = [10, 25, 42, 8]\n",
        "print(num_list)\n",
        "num_list.extend([20, 4])\n",
        "print(num_list)"
      ]
    },
    {
      "cell_type": "markdown",
      "metadata": {
        "id": "hcCUWBrHyoW1"
      },
      "source": [
        "### Exercise 1\n",
        "\n",
        "In the first cell, try `y.append(z)`.\n",
        "\n",
        "In the second cell try `y.extend(z)`.\n",
        "\n",
        "Explain the behavior.\n",
        "\n",
        "Use `y.append?` and `y.extend?` to\n",
        "see a description of what these methods are supposed to do."
      ]
    },
    {
      "cell_type": "code",
      "execution_count": 1,
      "metadata": {
        "id": "NooY3DVEyllX"
      },
      "outputs": [
        {
          "name": "stdout",
          "output_type": "stream",
          "text": [
            "['a', 'b', 'c', [1, 2, 3]]\n"
          ]
        }
      ],
      "source": [
        "y = [\"a\", \"b\", \"c\"]\n",
        "z = [1, 2, 3]\n",
        "# your code here\n",
        "y.append(z)\n",
        "print(y)"
      ]
    },
    {
      "cell_type": "markdown",
      "metadata": {},
      "source": []
    },
    {
      "cell_type": "code",
      "execution_count": 2,
      "metadata": {
        "id": "-Dc9PNdRyuJq"
      },
      "outputs": [
        {
          "name": "stdout",
          "output_type": "stream",
          "text": [
            "['a', 'b', 'c', 1, 2, 3]\n"
          ]
        }
      ],
      "source": [
        "y = [\"a\", \"b\", \"c\"]\n",
        "z = [1, 2, 3]\n",
        "# your code here\n",
        "y.extend(z)\n",
        "print(y)"
      ]
    },
    {
      "cell_type": "markdown",
      "metadata": {
        "id": "tk4x-L_1yyho"
      },
      "source": [
        "### Lists of Different Types\n",
        "\n",
        "While most examples above have all used a `list` with\n",
        "a single type of variable, this is not required.\n",
        "\n",
        "Let’s carefully make a small change to the first example: replace `2.0` with `2`"
      ]
    },
    {
      "cell_type": "code",
      "execution_count": 3,
      "metadata": {
        "id": "bOw2a6CZyysI"
      },
      "outputs": [],
      "source": [
        "x = [2, 9.1, 12.5]"
      ]
    },
    {
      "cell_type": "markdown",
      "metadata": {
        "id": "a_3IQjXXy2yC"
      },
      "source": [
        "This behavior is identical for many operations you might\n",
        "apply to a list."
      ]
    },
    {
      "cell_type": "code",
      "execution_count": 4,
      "metadata": {
        "id": "WMx_mddvy1Ox"
      },
      "outputs": [
        {
          "data": {
            "text/plain": [
              "True"
            ]
          },
          "execution_count": 4,
          "metadata": {},
          "output_type": "execute_result"
        }
      ],
      "source": [
        "import numpy as np\n",
        "x = [2, 9.1, 12.5]\n",
        "np.mean(x) == sum(x)/len(x)"
      ]
    },
    {
      "cell_type": "markdown",
      "metadata": {
        "id": "3zSPNcUgy9nA"
      },
      "source": [
        "Here we have also introduced a new [module](https://datascience.quantecon.org/basics.html#modules),\n",
        "[Numpy](https://datascience.quantecon.org/../scientific/index.html), which provides many functions\n",
        "for working with numeric data.\n",
        "\n",
        "Taking this further, we can put completely different types of elements\n",
        "inside of a list."
      ]
    },
    {
      "cell_type": "code",
      "execution_count": 5,
      "metadata": {
        "id": "QmW1mIlCy5ao"
      },
      "outputs": [
        {
          "name": "stdout",
          "output_type": "stream",
          "text": [
            "x has type <class 'list'>\n"
          ]
        },
        {
          "data": {
            "text/plain": [
              "[2, 'hello', 3.0]"
            ]
          },
          "execution_count": 5,
          "metadata": {},
          "output_type": "execute_result"
        }
      ],
      "source": [
        "# stored as the variable `x`\n",
        "x = [2, \"hello\", 3.0]\n",
        "print(\"x has type\", type(x))\n",
        "x"
      ]
    },
    {
      "cell_type": "markdown",
      "metadata": {
        "id": "YNJqhBgNzDaN"
      },
      "source": [
        "To see the types of individual elements in the list:"
      ]
    },
    {
      "cell_type": "code",
      "execution_count": null,
      "metadata": {
        "id": "A7IoRh6kzAIa"
      },
      "outputs": [],
      "source": [
        "print(f\"type(x[0]) = {type(x[0])}, type(x[1]) = {type(x[1])}, type(x[2]) = {type(x[2])}\")"
      ]
    },
    {
      "cell_type": "markdown",
      "metadata": {
        "id": "w-lGnVDtzMPv"
      },
      "source": [
        "While no programming limitations prevent this, you should be careful if you write code\n",
        "with different numeric and non-numeric types in the same list.\n",
        "\n",
        "For example, if the types within the list cannot be compared, then how could you sort the elements of the list? (i.e. How do you determine whether the string “hello” is less than the integer 2, “hello” < 2?)"
      ]
    },
    {
      "cell_type": "code",
      "execution_count": 6,
      "metadata": {
        "id": "xeALPSi0zEp_"
      },
      "outputs": [
        {
          "ename": "TypeError",
          "evalue": "'<' not supported between instances of 'str' and 'int'",
          "output_type": "error",
          "traceback": [
            "\u001b[1;31m---------------------------------------------------------------------------\u001b[0m",
            "\u001b[1;31mTypeError\u001b[0m                                 Traceback (most recent call last)",
            "\u001b[1;32m~\\AppData\\Local\\Temp\\ipykernel_19500\\3727440944.py\u001b[0m in \u001b[0;36m<module>\u001b[1;34m\u001b[0m\n\u001b[0;32m      1\u001b[0m \u001b[0mx\u001b[0m \u001b[1;33m=\u001b[0m \u001b[1;33m[\u001b[0m\u001b[1;36m2\u001b[0m\u001b[1;33m,\u001b[0m \u001b[1;34m\"hello\"\u001b[0m\u001b[1;33m,\u001b[0m \u001b[1;36m3.0\u001b[0m\u001b[1;33m]\u001b[0m\u001b[1;33m\u001b[0m\u001b[1;33m\u001b[0m\u001b[0m\n\u001b[0;32m      2\u001b[0m \u001b[1;31m# uncomment the line below and see what happens!\u001b[0m\u001b[1;33m\u001b[0m\u001b[1;33m\u001b[0m\u001b[0m\n\u001b[1;32m----> 3\u001b[1;33m \u001b[0mx\u001b[0m\u001b[1;33m.\u001b[0m\u001b[0msort\u001b[0m\u001b[1;33m(\u001b[0m\u001b[1;33m)\u001b[0m\u001b[1;33m\u001b[0m\u001b[1;33m\u001b[0m\u001b[0m\n\u001b[0m",
            "\u001b[1;31mTypeError\u001b[0m: '<' not supported between instances of 'str' and 'int'"
          ]
        }
      ],
      "source": [
        "x = [2, \"hello\", 3.0]\n",
        "# uncomment the line below and see what happens!\n",
        "x.sort()"
      ]
    },
    {
      "cell_type": "markdown",
      "metadata": {
        "id": "QRKS75hczTPQ"
      },
      "source": [
        "A few key exceptions to this general rule are:\n",
        "\n",
        "- Lists with both integers and floating points are less error-prone\n",
        "  (since mathematical code using the list would work with both types).   "
      ]
    },
    {
      "cell_type": "markdown",
      "metadata": {
        "id": "pr6uFFuFzXAc"
      },
      "source": [
        "### The `range` Function\n",
        "\n",
        "One function you will see often in Python is the `range` function.\n",
        "\n",
        "It has three versions:\n",
        "\n",
        "1. `range(N)`: goes from 0 to N-1  \n",
        "1. `range(a, N)`: goes from a to N-1  \n",
        "1. `range(a, N, d)`: goes from a to N-1, counting by d  \n",
        "\n",
        "\n",
        "When we call the `range` function, we get back something that has type `range`:"
      ]
    },
    {
      "cell_type": "code",
      "execution_count": 7,
      "metadata": {
        "id": "6q46CEIGzNgi"
      },
      "outputs": [
        {
          "name": "stdout",
          "output_type": "stream",
          "text": [
            "type(r) <class 'range'>\n"
          ]
        }
      ],
      "source": [
        "r = range(5)\n",
        "print(\"type(r)\", type(r))"
      ]
    },
    {
      "cell_type": "code",
      "execution_count": 8,
      "metadata": {
        "id": "NIddYHqnzhYS"
      },
      "outputs": [
        {
          "data": {
            "text/plain": [
              "[0, 1, 2, 3, 4]"
            ]
          },
          "execution_count": 8,
          "metadata": {},
          "output_type": "execute_result"
        }
      ],
      "source": [
        "list(r)"
      ]
    },
    {
      "cell_type": "markdown",
      "metadata": {
        "id": "2Z8GHScqzyQ2"
      },
      "source": [
        "### Exercise 2\n",
        "\n",
        "Experiment with the other two versions of the `range` function."
      ]
    },
    {
      "cell_type": "code",
      "execution_count": 9,
      "metadata": {
        "id": "4IjbYV_VzkOy"
      },
      "outputs": [
        {
          "data": {
            "text/plain": [
              "[4, 5, 6, 7, 8, 9]"
            ]
          },
          "execution_count": 9,
          "metadata": {},
          "output_type": "execute_result"
        }
      ],
      "source": [
        "# try list(range(a, N)) -- you pick `a` and `N`\n",
        "list(range(4,10))"
      ]
    },
    {
      "cell_type": "code",
      "execution_count": 10,
      "metadata": {
        "id": "ko-JrX_pzpkB"
      },
      "outputs": [
        {
          "data": {
            "text/plain": [
              "[1, 4, 7, 10, 13, 16, 19]"
            ]
          },
          "execution_count": 10,
          "metadata": {},
          "output_type": "execute_result"
        }
      ],
      "source": [
        "# try list(range(a, N, d)) -- you pick `a`, `N`, and `d`\n",
        "list(range(1, 20, 3))"
      ]
    },
    {
      "cell_type": "markdown",
      "metadata": {
        "id": "vry_2Rw_FkqD"
      },
      "source": [
        "- Lists:\n",
        "  - An ordered collection of items.\n",
        "  - Defined using square brackets [ ]\n",
        "  - Allows duplicate elements.\n",
        "  - Use it when you need an ordered collection where items can\n",
        "change."
      ]
    },
    {
      "cell_type": "markdown",
      "metadata": {
        "id": "19zVuz8yz47z"
      },
      "source": [
        "### What are Tuples?\n",
        "\n",
        "Tuples are very similar to lists and hold ordered collections of items.\n",
        "\n",
        "However, tuples and lists have three main differences:\n",
        "\n",
        "1. Tuples are created using parenthesis — `(` and `)` — instead of\n",
        "  square brackets — `[` and `]`.  \n",
        "1. Tuples are *immutable*, which is a fancy computer science word\n",
        "  meaning that they can’t be changed or altered after they are created.  \n",
        "1. Tuples and multiple return values\n",
        "  from functions are tightly connected, as we will see in [functions](https://datascience.quantecon.org/functions.html).  "
      ]
    },
    {
      "cell_type": "code",
      "execution_count": 11,
      "metadata": {
        "id": "EXZgbJGLzsg_"
      },
      "outputs": [
        {
          "name": "stdout",
          "output_type": "stream",
          "text": [
            "t is a <class 'tuple'>\n"
          ]
        },
        {
          "data": {
            "text/plain": [
              "(1, 'hello', 3.0)"
            ]
          },
          "execution_count": 11,
          "metadata": {},
          "output_type": "execute_result"
        }
      ],
      "source": [
        "t = (1, \"hello\", 3.0)\n",
        "print(\"t is a\", type(t))\n",
        "t"
      ]
    },
    {
      "cell_type": "markdown",
      "metadata": {
        "id": "iPXp415D0Hz5"
      },
      "source": [
        "We can *convert* a list to a tuple by calling the `tuple` function on\n",
        "a list."
      ]
    },
    {
      "cell_type": "code",
      "execution_count": 12,
      "metadata": {
        "id": "uQAJT7UM0EDj"
      },
      "outputs": [
        {
          "name": "stdout",
          "output_type": "stream",
          "text": [
            "x is a <class 'list'>\n",
            "tuple(x) is a <class 'tuple'>\n"
          ]
        },
        {
          "data": {
            "text/plain": [
              "(2, 'hello', 3.0)"
            ]
          },
          "execution_count": 12,
          "metadata": {},
          "output_type": "execute_result"
        }
      ],
      "source": [
        "print(\"x is a\", type(x))\n",
        "print(\"tuple(x) is a\", type(tuple(x)))\n",
        "tuple(x)"
      ]
    },
    {
      "cell_type": "markdown",
      "metadata": {
        "id": "Kl1rdhtR0OHb"
      },
      "source": [
        "We can also convert a tuple to a list using the list function."
      ]
    },
    {
      "cell_type": "code",
      "execution_count": null,
      "metadata": {
        "id": "Mufg2APn0LG6"
      },
      "outputs": [],
      "source": [
        "list(t)"
      ]
    },
    {
      "cell_type": "markdown",
      "metadata": {
        "id": "fvrMW3hq0Qvy"
      },
      "source": [
        "As with a list, we access items in a tuple `t` using `t[N]` where\n",
        "`N` is an int."
      ]
    },
    {
      "cell_type": "code",
      "execution_count": null,
      "metadata": {
        "id": "FoI7AynN0POA"
      },
      "outputs": [],
      "source": [
        "t[0]  # still start counting at 0"
      ]
    },
    {
      "cell_type": "code",
      "execution_count": null,
      "metadata": {
        "id": "qXkZXxNr0TC5"
      },
      "outputs": [],
      "source": [
        "t[2]"
      ]
    },
    {
      "cell_type": "markdown",
      "metadata": {
        "id": "mA7ki-TiKjpL"
      },
      "source": [
        "- Tuples:\n",
        "  - An ordered collection of items.\n",
        "  - Defined using parentheses ( )\n",
        "  - Immutable; once created, the items cannot be changed.\n",
        "  - Allows duplicate elements.\n",
        "  - Use it when you need an ordered collection that should not\n",
        "change, often used for fixed collections or as dictionary keys."
      ]
    },
    {
      "cell_type": "markdown",
      "metadata": {
        "id": "KckSiniN0qo9"
      },
      "source": [
        "### Exercise 3\n",
        "\n",
        "Verify that tuples are indeed immutable by attempting the following:\n",
        "\n",
        "- Changing the first element of `t` to be `100`  \n",
        "- Appending a new element `\"!!\"` to the end of `t` (remember with a\n",
        "  list `x` we would use `x.append(\"!!\")` to do this  \n",
        "- Sorting `t`  \n",
        "- Reversing `t`  "
      ]
    },
    {
      "cell_type": "code",
      "execution_count": 13,
      "metadata": {
        "id": "QnuL8Qyp0T8T"
      },
      "outputs": [
        {
          "ename": "TypeError",
          "evalue": "'tuple' object does not support item assignment",
          "output_type": "error",
          "traceback": [
            "\u001b[1;31m---------------------------------------------------------------------------\u001b[0m",
            "\u001b[1;31mTypeError\u001b[0m                                 Traceback (most recent call last)",
            "\u001b[1;32m~\\AppData\\Local\\Temp\\ipykernel_19500\\1329682753.py\u001b[0m in \u001b[0;36m<module>\u001b[1;34m\u001b[0m\n\u001b[0;32m      1\u001b[0m \u001b[1;31m# change first element of t\u001b[0m\u001b[1;33m\u001b[0m\u001b[1;33m\u001b[0m\u001b[0m\n\u001b[1;32m----> 2\u001b[1;33m \u001b[0mt\u001b[0m\u001b[1;33m[\u001b[0m\u001b[1;36m0\u001b[0m\u001b[1;33m]\u001b[0m \u001b[1;33m=\u001b[0m \u001b[1;36m100\u001b[0m\u001b[1;33m\u001b[0m\u001b[1;33m\u001b[0m\u001b[0m\n\u001b[0m",
            "\u001b[1;31mTypeError\u001b[0m: 'tuple' object does not support item assignment"
          ]
        }
      ],
      "source": [
        "# change first element of t\n",
        "t[0] = 100"
      ]
    },
    {
      "cell_type": "code",
      "execution_count": 14,
      "metadata": {
        "id": "HT2iA75J0vHm"
      },
      "outputs": [
        {
          "ename": "AttributeError",
          "evalue": "'tuple' object has no attribute 'append'",
          "output_type": "error",
          "traceback": [
            "\u001b[1;31m---------------------------------------------------------------------------\u001b[0m",
            "\u001b[1;31mAttributeError\u001b[0m                            Traceback (most recent call last)",
            "\u001b[1;32m~\\AppData\\Local\\Temp\\ipykernel_19500\\442468610.py\u001b[0m in \u001b[0;36m<module>\u001b[1;34m\u001b[0m\n\u001b[0;32m      1\u001b[0m \u001b[1;31m# appending to t\u001b[0m\u001b[1;33m\u001b[0m\u001b[1;33m\u001b[0m\u001b[0m\n\u001b[1;32m----> 2\u001b[1;33m \u001b[0mt\u001b[0m\u001b[1;33m.\u001b[0m\u001b[0mappend\u001b[0m\u001b[1;33m(\u001b[0m\u001b[1;36m100\u001b[0m\u001b[1;33m)\u001b[0m\u001b[1;33m\u001b[0m\u001b[1;33m\u001b[0m\u001b[0m\n\u001b[0m",
            "\u001b[1;31mAttributeError\u001b[0m: 'tuple' object has no attribute 'append'"
          ]
        }
      ],
      "source": [
        "# appending to t\n",
        "t.append(100)"
      ]
    },
    {
      "cell_type": "code",
      "execution_count": 15,
      "metadata": {
        "id": "7IysfPNG0viQ"
      },
      "outputs": [
        {
          "ename": "AttributeError",
          "evalue": "'tuple' object has no attribute 'sort'",
          "output_type": "error",
          "traceback": [
            "\u001b[1;31m---------------------------------------------------------------------------\u001b[0m",
            "\u001b[1;31mAttributeError\u001b[0m                            Traceback (most recent call last)",
            "\u001b[1;32m~\\AppData\\Local\\Temp\\ipykernel_19500\\4054261396.py\u001b[0m in \u001b[0;36m<module>\u001b[1;34m\u001b[0m\n\u001b[0;32m      1\u001b[0m \u001b[1;31m# sorting t\u001b[0m\u001b[1;33m\u001b[0m\u001b[1;33m\u001b[0m\u001b[0m\n\u001b[1;32m----> 2\u001b[1;33m \u001b[0mt\u001b[0m\u001b[1;33m.\u001b[0m\u001b[0msort\u001b[0m\u001b[1;33m(\u001b[0m\u001b[1;33m)\u001b[0m\u001b[1;33m\u001b[0m\u001b[1;33m\u001b[0m\u001b[0m\n\u001b[0m",
            "\u001b[1;31mAttributeError\u001b[0m: 'tuple' object has no attribute 'sort'"
          ]
        }
      ],
      "source": [
        "# sorting t\n",
        "t.sort()"
      ]
    },
    {
      "cell_type": "code",
      "execution_count": 16,
      "metadata": {
        "id": "UrSwK5Ow0wT3"
      },
      "outputs": [
        {
          "ename": "AttributeError",
          "evalue": "'tuple' object has no attribute 'reverse'",
          "output_type": "error",
          "traceback": [
            "\u001b[1;31m---------------------------------------------------------------------------\u001b[0m",
            "\u001b[1;31mAttributeError\u001b[0m                            Traceback (most recent call last)",
            "\u001b[1;32m~\\AppData\\Local\\Temp\\ipykernel_19500\\3566369231.py\u001b[0m in \u001b[0;36m<module>\u001b[1;34m\u001b[0m\n\u001b[0;32m      1\u001b[0m \u001b[1;31m# reversing t\u001b[0m\u001b[1;33m\u001b[0m\u001b[1;33m\u001b[0m\u001b[0m\n\u001b[1;32m----> 2\u001b[1;33m \u001b[0mt\u001b[0m\u001b[1;33m.\u001b[0m\u001b[0mreverse\u001b[0m\u001b[1;33m(\u001b[0m\u001b[1;33m)\u001b[0m\u001b[1;33m\u001b[0m\u001b[1;33m\u001b[0m\u001b[0m\n\u001b[0m",
            "\u001b[1;31mAttributeError\u001b[0m: 'tuple' object has no attribute 'reverse'"
          ]
        }
      ],
      "source": [
        "# reversing t\n",
        "t.reverse()"
      ]
    },
    {
      "cell_type": "markdown",
      "metadata": {
        "id": "o3s-GJiv1jyE"
      },
      "source": [
        "\n",
        "Tuples (and lists) can be unpacked directly into variables."
      ]
    },
    {
      "cell_type": "code",
      "execution_count": 17,
      "metadata": {
        "id": "ZpziXEqn1K7N"
      },
      "outputs": [
        {
          "name": "stdout",
          "output_type": "stream",
          "text": [
            "x = 1, y = test\n"
          ]
        }
      ],
      "source": [
        "x, y = (1, \"test\")\n",
        "print(f\"x = {x}, y = {y}\")"
      ]
    },
    {
      "cell_type": "markdown",
      "metadata": {
        "id": "DV-mFKLh1oJ2"
      },
      "source": [
        "This will be a convenient way to work with functions returning\n",
        "multiple values, as well as within comprehensions and loops."
      ]
    },
    {
      "cell_type": "markdown",
      "metadata": {
        "id": "9nNRP_t01rWz"
      },
      "source": [
        "### List vs Tuple: Which to Use?\n",
        "\n",
        "Should you use a list or tuple?\n",
        "\n",
        "This depends on what you are storing, whether you might need to reorder the elements,\n",
        "or whether you’d add\n",
        "new elements without a complete reinterpretation of the\n",
        "underlying data.\n",
        "\n",
        "For example, take data representing the GDP (in trillions) and population\n",
        "(in billions) for China in 2015."
      ]
    },
    {
      "cell_type": "code",
      "execution_count": 18,
      "metadata": {
        "id": "rmSh3YVZ1lB0"
      },
      "outputs": [
        {
          "name": "stdout",
          "output_type": "stream",
          "text": [
            "('China', 2015, 11.06, 1.371)\n"
          ]
        }
      ],
      "source": [
        "china_data_2015 = (\"China\", 2015, 11.06, 1.371)\n",
        "\n",
        "print(china_data_2015)"
      ]
    },
    {
      "cell_type": "markdown",
      "metadata": {
        "id": "9KMf35z-14Ci"
      },
      "source": [
        "In this case, we have used a tuple since: (a) ordering would\n",
        "be meaningless; and (b) adding more data would require a\n",
        "reinterpretation of the whole data structure.\n",
        "\n",
        "On the other hand, consider a list of GDP in China between\n",
        "2013 and 2015."
      ]
    },
    {
      "cell_type": "code",
      "execution_count": 19,
      "metadata": {
        "id": "C3GGZw_z12W7"
      },
      "outputs": [
        {
          "name": "stdout",
          "output_type": "stream",
          "text": [
            "[9.607, 10.48, 11.06]\n"
          ]
        }
      ],
      "source": [
        "gdp_data = [9.607, 10.48, 11.06]\n",
        "print(gdp_data)"
      ]
    },
    {
      "cell_type": "markdown",
      "metadata": {
        "id": "uj893_tO17rh"
      },
      "source": [
        "In this case, we have used a list, since adding on a new\n",
        "element to the end of the list for GDP in 2016 would make\n",
        "complete sense."
      ]
    },
    {
      "cell_type": "markdown",
      "metadata": {
        "id": "vpncFzl11-p3"
      },
      "source": [
        "Along these lines, collecting data on China for different\n",
        "years may make sense as a list of tuples (e.g. year, GDP,\n",
        "and population – although we will see better ways to store this sort of data in the Pandas."
      ]
    },
    {
      "cell_type": "code",
      "execution_count": null,
      "metadata": {
        "id": "9AtB5JrK15o-"
      },
      "outputs": [],
      "source": [
        "china_data = [(2015, 11.06, 1.371), (2014, 10.48, 1.364), (2013, 9.607, 1.357)]\n",
        "print(china_data)"
      ]
    },
    {
      "cell_type": "markdown",
      "metadata": {
        "id": "YXCc15Rp2aas"
      },
      "source": [
        "In general, a rule of thumb is to use a list unless you *need* to use a tuple.\n",
        "\n",
        "Key criteria for tuple use are when you want to:\n",
        "\n",
        "- ensure the *order* of elements can’t change  \n",
        "- ensure the actual values of the elements can’t\n",
        "  change  \n",
        "- use the collection as a key in a dict (we will learn what this\n",
        "  means soon)"
      ]
    },
    {
      "cell_type": "markdown",
      "metadata": {
        "id": "nKl6tfmN2uUh"
      },
      "source": [
        "### `zip` and `enumerate`\n",
        "\n",
        "Two functions that can be extremely useful are `zip` and `enumerate`.\n",
        "\n",
        "Both of these functions are best understood by example."
      ]
    },
    {
      "cell_type": "code",
      "execution_count": 20,
      "metadata": {
        "id": "Sb1pe47d2VWr"
      },
      "outputs": [
        {
          "name": "stdout",
          "output_type": "stream",
          "text": [
            "type(z) <class 'zip'>\n"
          ]
        }
      ],
      "source": [
        "gdp_data = [9.607, 10.48, 11.06]\n",
        "years = [2013, 2014, 2015]\n",
        "z = zip(years, gdp_data)\n",
        "print(\"type(z)\", type(z))"
      ]
    },
    {
      "cell_type": "markdown",
      "metadata": {
        "id": "cv8bUCIn20Pl"
      },
      "source": [
        "To see what is inside `z`, let’s convert it to a list."
      ]
    },
    {
      "cell_type": "code",
      "execution_count": 21,
      "metadata": {
        "id": "ug79JNDK2w70"
      },
      "outputs": [
        {
          "data": {
            "text/plain": [
              "[(2013, 9.607), (2014, 10.48), (2015, 11.06)]"
            ]
          },
          "execution_count": 21,
          "metadata": {},
          "output_type": "execute_result"
        }
      ],
      "source": [
        "list(z)"
      ]
    },
    {
      "cell_type": "markdown",
      "metadata": {
        "id": "q7LiA2V32-kQ"
      },
      "source": [
        "Notice that we now have a list where each item is a tuple.\n",
        "\n",
        "Within each tuple, we have one item from each of the collections we\n",
        "passed to the zip function.\n",
        "\n",
        "In particular, the first item in `z` contains the first item from\n",
        "`[2013, 2014, 2015]` and the first item from `[9.607, 10.48, 11.06]`.\n",
        "\n",
        "The second item in `z` contains the second item from each collection\n",
        "and so on.\n",
        "\n",
        "We can access an element in this and then unpack the resulting\n",
        "tuple directly into variables."
      ]
    },
    {
      "cell_type": "code",
      "execution_count": 22,
      "metadata": {
        "id": "M0DKymGy21fi"
      },
      "outputs": [
        {
          "name": "stdout",
          "output_type": "stream",
          "text": [
            "year = 2013, GDP = 9.607\n"
          ]
        }
      ],
      "source": [
        "l = list(zip(years, gdp_data))\n",
        "x, y = l[0]\n",
        "print(f\"year = {x}, GDP = {y}\")"
      ]
    },
    {
      "cell_type": "markdown",
      "metadata": {
        "id": "9dGjC6Je3Crw"
      },
      "source": [
        "Now let’s experiment with `enumerate`."
      ]
    },
    {
      "cell_type": "code",
      "execution_count": 23,
      "metadata": {
        "id": "rmmmJTKV3A8x"
      },
      "outputs": [
        {
          "name": "stdout",
          "output_type": "stream",
          "text": [
            "type(e) <class 'enumerate'>\n"
          ]
        },
        {
          "data": {
            "text/plain": [
              "<enumerate at 0x260ca8b81c0>"
            ]
          },
          "execution_count": 23,
          "metadata": {},
          "output_type": "execute_result"
        }
      ],
      "source": [
        "e = enumerate([\"a\", \"b\", \"c\"])\n",
        "print(\"type(e)\", type(e))\n",
        "e"
      ]
    },
    {
      "cell_type": "markdown",
      "metadata": {
        "id": "NlGr8RU73mhD"
      },
      "source": [
        "e is an 'enumerate' object here."
      ]
    },
    {
      "cell_type": "markdown",
      "metadata": {
        "id": "-77FBKtl3Fck"
      },
      "source": [
        "Again, we call `list(e)` to see what is inside."
      ]
    },
    {
      "cell_type": "code",
      "execution_count": 24,
      "metadata": {
        "id": "keuKh5PW3JwX"
      },
      "outputs": [
        {
          "data": {
            "text/plain": [
              "[(0, 'a'), (1, 'b'), (2, 'c')]"
            ]
          },
          "execution_count": 24,
          "metadata": {},
          "output_type": "execute_result"
        }
      ],
      "source": [
        "list(e)"
      ]
    },
    {
      "cell_type": "markdown",
      "metadata": {
        "id": "f4CbAQPd3Sp6"
      },
      "source": [
        "We again have a list of tuples, but this time, the first element in each\n",
        "tuple is the *index* of the second tuple element in the initial\n",
        "collection. enumerate() assigns an index (starting from 0 by default) to each item.\n",
        "\n",
        "Notice that the third item is `(2, 'c')` because\n",
        "`[\"a\", \"b\", \"c\"][2]` is `'c'`"
      ]
    },
    {
      "cell_type": "markdown",
      "metadata": {
        "id": "MrUXNrX34eG7"
      },
      "source": [
        "An important quirk of some iterable types that are not lists (such as the above `zip`) is that\n",
        "you cannot convert the same type to a list twice.\n",
        "\n",
        "This is because `zip`, `enumerate`, and `range` produce what is called a generator.\n",
        "\n",
        "A generator will only produce each of its elements a single time, so if you call `list` on the same\n",
        "generator a second time, it will not have any elements to iterate over anymore."
      ]
    },
    {
      "cell_type": "code",
      "execution_count": 25,
      "metadata": {
        "id": "Xt728yYt3_gk"
      },
      "outputs": [
        {
          "name": "stdout",
          "output_type": "stream",
          "text": [
            "[(2013, 9.607), (2014, 10.48), (2015, 11.06)]\n",
            "[]\n"
          ]
        }
      ],
      "source": [
        "gdp_data = [9.607, 10.48, 11.06]\n",
        "years = [2013, 2014, 2015]\n",
        "z = zip(years, gdp_data)\n",
        "l = list(z)\n",
        "print(l)\n",
        "m = list(z)\n",
        "print(m)"
      ]
    },
    {
      "cell_type": "markdown",
      "metadata": {
        "id": "s3FqF7Jc4kn-"
      },
      "source": [
        "## Associative Collections\n",
        "\n"
      ]
    },
    {
      "cell_type": "markdown",
      "metadata": {
        "id": "w0spMty-4ncc"
      },
      "source": [
        "### Dictionaries\n",
        "\n",
        "A dictionary (or dict) associates `key`s with `value`s.\n",
        "\n",
        "It will feel similar to a dictionary for words, where the keys are words and\n",
        "the values are the associated definitions.\n",
        "\n",
        "The most common way to create a `dict` is to use curly braces — `{`\n",
        "and `}` — like this:"
      ]
    },
    {
      "cell_type": "code",
      "execution_count": null,
      "metadata": {
        "id": "TBi56r0z4fWP"
      },
      "outputs": [],
      "source": [
        "{\"key1\": value1, \"key2\": value2, ..., \"keyN\": valueN}"
      ]
    },
    {
      "cell_type": "markdown",
      "metadata": {
        "id": "mUhNkkbD4v0Y"
      },
      "source": [
        "where the `...` indicates that we can have any number of additional\n",
        "terms.\n",
        "\n",
        "The crucial part of the syntax is that each key-value pair is written\n",
        "`key: value` and that these pairs are separated by commas — `,`.\n",
        "\n",
        "Let’s see an example using our aggregate data on China in 2015."
      ]
    },
    {
      "cell_type": "code",
      "execution_count": null,
      "metadata": {
        "id": "bxJ2XJoE4tkf"
      },
      "outputs": [],
      "source": [
        "china_data = {\"country\": \"China\", \"year\": 2015, \"GDP\" : 11.06, \"population\": 1.371}\n",
        "print(china_data)"
      ]
    },
    {
      "cell_type": "markdown",
      "metadata": {
        "id": "WfrzJjZ25Bwt"
      },
      "source": [
        "Unlike our above example using a `tuple`, a `dict` allows us to\n",
        "associate a name with each field, rather than having to remember the\n",
        "order within the tuple.\n",
        "\n",
        "Often, code that makes a dict is easier to read if we put each\n",
        "`key: value` pair on its own line.\n",
        "\n",
        "The code below is equivalent to what we saw above."
      ]
    },
    {
      "cell_type": "code",
      "execution_count": 27,
      "metadata": {
        "id": "Q7ANetJC40X0"
      },
      "outputs": [],
      "source": [
        "china_data = {\n",
        "    \"country\": \"China\",\n",
        "    \"year\": 2015,\n",
        "    \"GDP\" : 11.06,\n",
        "    \"population\": 1.371\n",
        "}"
      ]
    },
    {
      "cell_type": "markdown",
      "metadata": {
        "id": "SlO3dJr75JVf"
      },
      "source": [
        "Most often, the keys (e.g. “country”, “year”, “GDP”, and “population”)\n",
        "will be strings, but we could also use numbers (`int`, or\n",
        "`float`) or even tuples (or, rarely, a combination of types).\n",
        "\n",
        "The values can be **any** type and different from each other."
      ]
    },
    {
      "cell_type": "markdown",
      "metadata": {
        "id": "zUgoQw7g5MDF"
      },
      "source": [
        "### Exercise 5\n",
        "\n",
        "Create a new dict which associates stock tickers with its stock price.\n",
        "\n",
        "Here are some tickers and a price.\n",
        "\n",
        "- AAPL: 175.96  \n",
        "- GOOGL: 1047.43  \n",
        "- TVIX: 8.38  "
      ]
    },
    {
      "cell_type": "code",
      "execution_count": null,
      "metadata": {
        "id": "LugO7OqI5EIc"
      },
      "outputs": [],
      "source": [
        "stock_price = {\n",
        "    \"AAPL\": 175.96,\n",
        "    \"GOOGL\": 1047.43,\n",
        "    \"TVIX\" : 8.38\n",
        "}\n",
        "print(stock_price)"
      ]
    },
    {
      "cell_type": "markdown",
      "metadata": {
        "id": "4iktgqPN5YDC"
      },
      "source": [
        "This next example is meant to emphasize how values can be\n",
        "*anything* – including another dictionary."
      ]
    },
    {
      "cell_type": "code",
      "execution_count": null,
      "metadata": {
        "id": "h6PMCVa55YNI"
      },
      "outputs": [],
      "source": [
        "companies = {\"AAPL\": {\"bid\": 175.96, \"ask\": 175.98},\n",
        "             \"GE\": {\"bid\": 1047.03, \"ask\": 1048.40},\n",
        "             \"TVIX\": {\"bid\": 8.38, \"ask\": 8.40}}\n",
        "print(companies)"
      ]
    },
    {
      "cell_type": "markdown",
      "metadata": {
        "id": "OzaY-dcp5cxZ"
      },
      "source": [
        "#### Getting, Setting, and Updating dict Items\n",
        "\n",
        "We can now ask Python to tell us the value for a particular key by using\n",
        "the syntax `d[k]`,  where `d` is our `dict` and `k` is the key for which we want to\n",
        "find the value.\n",
        "\n",
        "For example,"
      ]
    },
    {
      "cell_type": "code",
      "execution_count": null,
      "metadata": {
        "id": "ebJHh3Ky5aOP"
      },
      "outputs": [],
      "source": [
        "print(china_data[\"year\"])\n",
        "print(f\"country = {china_data['country']}, population = {china_data['population']}\")"
      ]
    },
    {
      "cell_type": "markdown",
      "metadata": {
        "id": "m-_Y3-Nv5mIe"
      },
      "source": [
        "Note: when inside of a formatting string, you can use `'` instead of `\"` as above\n",
        "to ensure the formatting still works with the embedded code.\n",
        "\n",
        "If we ask for the value of a key that is not in the dict, we will get an error."
      ]
    },
    {
      "cell_type": "code",
      "execution_count": null,
      "metadata": {
        "id": "UmyiunUl5g1i"
      },
      "outputs": [],
      "source": [
        "# uncomment the line below to see the error\n",
        "# china_data[\"inflation\"]"
      ]
    },
    {
      "cell_type": "markdown",
      "metadata": {
        "id": "ESRPXqI45pUI"
      },
      "source": [
        "We can also add new items to a dict using the syntax `d[new_key] = new_value`.\n",
        "\n",
        "Let’s see some examples."
      ]
    },
    {
      "cell_type": "code",
      "execution_count": 28,
      "metadata": {
        "id": "7NHaWPg65nkN"
      },
      "outputs": [
        {
          "name": "stdout",
          "output_type": "stream",
          "text": [
            "{'country': 'China', 'year': 2015, 'GDP': 11.06, 'population': 1.371}\n",
            "{'country': 'China', 'year': 2015, 'GDP': 11.06, 'population': 1.371, 'unemployment': '4.05%'}\n"
          ]
        }
      ],
      "source": [
        "print(china_data)\n",
        "china_data[\"unemployment\"] = \"4.05%\"\n",
        "print(china_data)"
      ]
    },
    {
      "cell_type": "markdown",
      "metadata": {
        "id": "ez_GLJla5tGm"
      },
      "source": [
        "To update the value, we use assignment in the same way (which will\n",
        "create the key and value as required)."
      ]
    },
    {
      "cell_type": "code",
      "execution_count": 29,
      "metadata": {
        "id": "4weHMV9I5qev"
      },
      "outputs": [
        {
          "name": "stdout",
          "output_type": "stream",
          "text": [
            "{'country': 'China', 'year': 2015, 'GDP': 11.06, 'population': 1.371, 'unemployment': '4.05%'}\n",
            "{'country': 'China', 'year': 2015, 'GDP': 11.06, 'population': 1.371, 'unemployment': '4.051%'}\n"
          ]
        }
      ],
      "source": [
        "print(china_data)\n",
        "china_data[\"unemployment\"] = \"4.051%\"\n",
        "print(china_data)"
      ]
    },
    {
      "cell_type": "markdown",
      "metadata": {
        "id": "97177IhC51wz"
      },
      "source": [
        "Or we could change the type."
      ]
    },
    {
      "cell_type": "code",
      "execution_count": 30,
      "metadata": {
        "id": "4NO2InH35ywc"
      },
      "outputs": [
        {
          "name": "stdout",
          "output_type": "stream",
          "text": [
            "{'country': 'China', 'year': 2015, 'GDP': 11.06, 'population': 1.371, 'unemployment': 4.051}\n"
          ]
        }
      ],
      "source": [
        "china_data[\"unemployment\"] = 4.051\n",
        "print(china_data)"
      ]
    },
    {
      "cell_type": "markdown",
      "metadata": {
        "id": "WRiEuDzb7P1_"
      },
      "source": [
        "#### Common `dict` Functionality\n",
        "\n",
        "We can do some common things with dicts.\n",
        "\n",
        "We will demonstrate them with examples below."
      ]
    },
    {
      "cell_type": "code",
      "execution_count": null,
      "metadata": {
        "id": "Co2p1_QI52-p"
      },
      "outputs": [],
      "source": [
        "# number of key-value pairs in a dict\n",
        "len(china_data)"
      ]
    },
    {
      "cell_type": "code",
      "execution_count": 31,
      "metadata": {
        "id": "K2cRXTjN7SZI"
      },
      "outputs": [
        {
          "data": {
            "text/plain": [
              "['country', 'year', 'GDP', 'population', 'unemployment']"
            ]
          },
          "execution_count": 31,
          "metadata": {},
          "output_type": "execute_result"
        }
      ],
      "source": [
        "# get a list of all the keys\n",
        "list(china_data.keys())"
      ]
    },
    {
      "cell_type": "code",
      "execution_count": 32,
      "metadata": {
        "id": "o9p2xHYU7TwF"
      },
      "outputs": [
        {
          "data": {
            "text/plain": [
              "['China', 2015, 11.06, 1.371, 4.051]"
            ]
          },
          "execution_count": 32,
          "metadata": {},
          "output_type": "execute_result"
        }
      ],
      "source": [
        "# get a list of all the values\n",
        "list(china_data.values())"
      ]
    },
    {
      "cell_type": "code",
      "execution_count": 33,
      "metadata": {
        "id": "brxlx8S47VFv"
      },
      "outputs": [
        {
          "data": {
            "text/plain": [
              "{'country': 'China',\n",
              " 'year': 2015,\n",
              " 'GDP': 11.06,\n",
              " 'population': 1.371,\n",
              " 'unemployment': 4.051,\n",
              " 'irrigated_land': 690070,\n",
              " 'top_religions': {'buddhist': 18.2, 'christian': 5.1, 'muslim': 1.8}}"
            ]
          },
          "execution_count": 33,
          "metadata": {},
          "output_type": "execute_result"
        }
      ],
      "source": [
        "more_china_data = {\"irrigated_land\": 690_070, \"top_religions\": {\"buddhist\": 18.2, \"christian\" : 5.1, \"muslim\": 1.8}}\n",
        "\n",
        "# Add all key-value pairs in mydict2 to mydict.\n",
        "# if the key already appears in mydict, overwrite the\n",
        "# value with the value in mydict2\n",
        "china_data.update(more_china_data)\n",
        "china_data"
      ]
    },
    {
      "cell_type": "code",
      "execution_count": 34,
      "metadata": {
        "id": "ScNr-Idk7cfi"
      },
      "outputs": [
        {
          "data": {
            "text/plain": [
              "690070"
            ]
          },
          "execution_count": 34,
          "metadata": {},
          "output_type": "execute_result"
        }
      ],
      "source": [
        "# Get the value associated with a key or return a default value\n",
        "# use this to avoid the NameError we saw above if you have a reasonable\n",
        "# default value\n",
        "china_data.get(\"irrigated_land\", \"Data Not Available\")"
      ]
    },
    {
      "cell_type": "code",
      "execution_count": 35,
      "metadata": {
        "id": "GId2_lms7iNu"
      },
      "outputs": [
        {
          "data": {
            "text/plain": [
              "'Data Not Available'"
            ]
          },
          "execution_count": 35,
          "metadata": {},
          "output_type": "execute_result"
        }
      ],
      "source": [
        "china_data.get(\"death_rate\", \"Data Not Available\")"
      ]
    },
    {
      "cell_type": "markdown",
      "metadata": {
        "id": "zYW1xH9P7o1E"
      },
      "source": [
        "### Exercise 7\n",
        "\n",
        "Use Jupyter’s help facilities to learn how to use the `pop` method to\n",
        "remove the key `\"irrigated_land\"` (and its value) from the dict."
      ]
    },
    {
      "cell_type": "code",
      "execution_count": null,
      "metadata": {
        "id": "Y89Ja2aw7kEi"
      },
      "outputs": [],
      "source": [
        "# uncomment and use the Inspector or ?\n",
        "china_data.pop?"
      ]
    },
    {
      "cell_type": "code",
      "execution_count": 36,
      "metadata": {
        "id": "uP26QxYeHWwu"
      },
      "outputs": [
        {
          "data": {
            "text/plain": [
              "690070"
            ]
          },
          "execution_count": 36,
          "metadata": {},
          "output_type": "execute_result"
        }
      ],
      "source": [
        "china_data.pop(\"irrigated_land\")"
      ]
    },
    {
      "cell_type": "code",
      "execution_count": 37,
      "metadata": {
        "id": "_u7zUDYLHYys"
      },
      "outputs": [
        {
          "data": {
            "text/plain": [
              "{'country': 'China',\n",
              " 'year': 2015,\n",
              " 'GDP': 11.06,\n",
              " 'population': 1.371,\n",
              " 'unemployment': 4.051,\n",
              " 'top_religions': {'buddhist': 18.2, 'christian': 5.1, 'muslim': 1.8}}"
            ]
          },
          "execution_count": 37,
          "metadata": {},
          "output_type": "execute_result"
        }
      ],
      "source": [
        "china_data"
      ]
    },
    {
      "cell_type": "markdown",
      "metadata": {
        "id": "MceeSNxT8kNA"
      },
      "source": [
        "### Exercise 8\n",
        "\n",
        "Explain what happens to the value you popped.\n",
        "\n",
        "Experiment with calling `pop` twice."
      ]
    },
    {
      "cell_type": "code",
      "execution_count": 38,
      "metadata": {
        "id": "Pp_KQ8PD7p9o"
      },
      "outputs": [
        {
          "ename": "KeyError",
          "evalue": "'irrigated_land'",
          "output_type": "error",
          "traceback": [
            "\u001b[1;31m---------------------------------------------------------------------------\u001b[0m",
            "\u001b[1;31mKeyError\u001b[0m                                  Traceback (most recent call last)",
            "\u001b[1;32m~\\AppData\\Local\\Temp\\ipykernel_19500\\4053199147.py\u001b[0m in \u001b[0;36m<module>\u001b[1;34m\u001b[0m\n\u001b[0;32m      1\u001b[0m \u001b[1;31m# your code here\u001b[0m\u001b[1;33m\u001b[0m\u001b[1;33m\u001b[0m\u001b[0m\n\u001b[1;32m----> 2\u001b[1;33m \u001b[0mchina_data\u001b[0m\u001b[1;33m.\u001b[0m\u001b[0mpop\u001b[0m\u001b[1;33m(\u001b[0m\u001b[1;34m\"irrigated_land\"\u001b[0m\u001b[1;33m)\u001b[0m\u001b[1;33m\u001b[0m\u001b[1;33m\u001b[0m\u001b[0m\n\u001b[0m",
            "\u001b[1;31mKeyError\u001b[0m: 'irrigated_land'"
          ]
        }
      ],
      "source": [
        "# your code here\n",
        "china_data.pop(\"irrigated_land\")"
      ]
    },
    {
      "cell_type": "markdown",
      "metadata": {
        "id": "GQnKHPAk8oLD"
      },
      "source": [
        "### Sets\n",
        "\n",
        "Python has an additional way to represent collections of items: sets.\n",
        "\n",
        "If you are familiar with the mathematical concept of sets, then you will\n",
        "understand the majority of Python sets already.\n",
        "\n",
        "If you don’t know the math behind sets, don’t worry: we’ll cover the\n",
        "basics of Python’s sets here.\n",
        "\n",
        "A set is an *unordered* collection of *unique* elements.\n",
        "\n",
        "The syntax for creating a set uses curly bracket `{` and `}`."
      ]
    },
    {
      "cell_type": "code",
      "execution_count": null,
      "metadata": {
        "id": "FEEvYR6m8bR3"
      },
      "outputs": [],
      "source": [
        "{item1, item2, ..., itemN}"
      ]
    },
    {
      "cell_type": "markdown",
      "metadata": {
        "id": "2KJ3FqDD8uPM"
      },
      "source": [
        "Here is an example."
      ]
    },
    {
      "cell_type": "code",
      "execution_count": 39,
      "metadata": {
        "id": "JXjn25G68ug2"
      },
      "outputs": [
        {
          "name": "stdout",
          "output_type": "stream",
          "text": [
            "s has type <class 'set'>\n"
          ]
        },
        {
          "data": {
            "text/plain": [
              "{1, 3.0, 'hello'}"
            ]
          },
          "execution_count": 39,
          "metadata": {},
          "output_type": "execute_result"
        }
      ],
      "source": [
        "s = {1, \"hello\", 3.0}\n",
        "print(\"s has type\", type(s))\n",
        "s"
      ]
    },
    {
      "cell_type": "markdown",
      "metadata": {
        "id": "lMiP8NV-80Gm"
      },
      "source": [
        "### Exercise 9\n",
        "\n",
        "Try creating a set with repeated elements (e.g. `{1, 2, 1, 2, 1, 2}`).\n",
        "\n",
        "What happens?\n",
        "\n",
        "Why?"
      ]
    },
    {
      "cell_type": "code",
      "execution_count": 40,
      "metadata": {
        "id": "I78Bm7Uj8vP4"
      },
      "outputs": [
        {
          "data": {
            "text/plain": [
              "{1, 2}"
            ]
          },
          "execution_count": 40,
          "metadata": {},
          "output_type": "execute_result"
        }
      ],
      "source": [
        "# your code here\n",
        "s1 = {1, 2, 1, 2, 1, 2}\n",
        "s1"
      ]
    },
    {
      "cell_type": "markdown",
      "metadata": {
        "id": "E1kEZ5Uf87Gy"
      },
      "source": [
        "As with lists and tuples, we can check if something is `in` the set\n",
        "and check the set’s length:"
      ]
    },
    {
      "cell_type": "code",
      "execution_count": 41,
      "metadata": {
        "id": "0IW9PmN287ST"
      },
      "outputs": [
        {
          "name": "stdout",
          "output_type": "stream",
          "text": [
            "len(s) = 3\n"
          ]
        },
        {
          "data": {
            "text/plain": [
              "True"
            ]
          },
          "execution_count": 41,
          "metadata": {},
          "output_type": "execute_result"
        }
      ],
      "source": [
        "print(\"len(s) =\", len(s))\n",
        "\"hello\" in s"
      ]
    },
    {
      "cell_type": "markdown",
      "metadata": {
        "id": "6YHPyl0N8_EL"
      },
      "source": [
        "Unlike lists and tuples, we can’t extract elements of a set `s` using\n",
        "`s[N]` where `N` is a number."
      ]
    },
    {
      "cell_type": "code",
      "execution_count": 42,
      "metadata": {
        "id": "uzN0u-Vv88Y7"
      },
      "outputs": [
        {
          "ename": "TypeError",
          "evalue": "'set' object is not subscriptable",
          "output_type": "error",
          "traceback": [
            "\u001b[1;31m---------------------------------------------------------------------------\u001b[0m",
            "\u001b[1;31mTypeError\u001b[0m                                 Traceback (most recent call last)",
            "\u001b[1;32m~\\AppData\\Local\\Temp\\ipykernel_19500\\2207391906.py\u001b[0m in \u001b[0;36m<module>\u001b[1;34m\u001b[0m\n\u001b[0;32m      1\u001b[0m \u001b[1;31m# Uncomment the line below to see what happens\u001b[0m\u001b[1;33m\u001b[0m\u001b[1;33m\u001b[0m\u001b[0m\n\u001b[1;32m----> 2\u001b[1;33m \u001b[0ms\u001b[0m\u001b[1;33m[\u001b[0m\u001b[1;36m1\u001b[0m\u001b[1;33m]\u001b[0m\u001b[1;33m\u001b[0m\u001b[1;33m\u001b[0m\u001b[0m\n\u001b[0m",
            "\u001b[1;31mTypeError\u001b[0m: 'set' object is not subscriptable"
          ]
        }
      ],
      "source": [
        "# Uncomment the line below to see what happens\n",
        "s[1]"
      ]
    },
    {
      "cell_type": "markdown",
      "metadata": {
        "id": "Oboc4oFF9BKc"
      },
      "source": [
        "This is because sets are not ordered, so the notion of getting the\n",
        "second element (`s[1]`) is not well defined.\n",
        "\n",
        "We add elements to a set `s` using `s.add`."
      ]
    },
    {
      "cell_type": "code",
      "execution_count": 44,
      "metadata": {
        "id": "p4pWtyhY9Ce8"
      },
      "outputs": [
        {
          "data": {
            "text/plain": [
              "{1, 100, 3.0, 'hello'}"
            ]
          },
          "execution_count": 44,
          "metadata": {},
          "output_type": "execute_result"
        }
      ],
      "source": [
        "s.add(100)\n",
        "s"
      ]
    },
    {
      "cell_type": "code",
      "execution_count": 45,
      "metadata": {
        "id": "YI-cZLpY9D0D"
      },
      "outputs": [
        {
          "data": {
            "text/plain": [
              "{1, 100, 3.0, 'hello'}"
            ]
          },
          "execution_count": 45,
          "metadata": {},
          "output_type": "execute_result"
        }
      ],
      "source": [
        "s.add(\"hello\") # nothing happens, why?\n",
        "s"
      ]
    },
    {
      "cell_type": "markdown",
      "metadata": {
        "id": "lIQQcF2Y9Hpx"
      },
      "source": [
        "We can also do set operations.\n",
        "\n",
        "Consider the set `s` from above and the set\n",
        "`s2 = {\"hello\", \"world\"}`.\n",
        "\n",
        "- `s.union(s2)`: returns a set with all elements in either `s` or\n",
        "  `s2`  \n",
        "- `s.intersection(s2)`: returns a set with all elements in both `s`\n",
        "  and `s2`  \n",
        "- `s.difference(s2)`: returns a set with all elements in `s` that\n",
        "  aren’t in `s2`  \n",
        "- `s.symmetric_difference(s2)`: returns a set with all elements in\n",
        "  only one of `s` and `s2`  "
      ]
    },
    {
      "cell_type": "markdown",
      "metadata": {
        "id": "mfCwszngK1HV"
      },
      "source": [
        "- Sets:\n",
        "  - An unordered collection of unique items.\n",
        "  - Defined using curly braces { } or the set() function.\n",
        "  - Mutable; you can add or remove items.\n",
        "  - Does not allow duplicate elements.\n",
        "  - Use it when you need a collection of unique items and do not\n",
        "care about the order."
      ]
    },
    {
      "cell_type": "markdown",
      "metadata": {
        "id": "Ik6euOsU9Qhg"
      },
      "source": [
        "### Exercise 10\n",
        "\n",
        "Test out two of the operations described above using the original set we\n",
        "created, `s`, and the set created below `s2`."
      ]
    },
    {
      "cell_type": "code",
      "execution_count": 46,
      "metadata": {
        "id": "QoSPjL7j9FhY"
      },
      "outputs": [],
      "source": [
        "s2 = {\"hello\", \"world\"}"
      ]
    },
    {
      "cell_type": "code",
      "execution_count": 47,
      "metadata": {
        "id": "TBzo8F1Y9Rxn"
      },
      "outputs": [
        {
          "data": {
            "text/plain": [
              "{1, 100, 3.0, 'hello', 'world'}"
            ]
          },
          "execution_count": 47,
          "metadata": {},
          "output_type": "execute_result"
        }
      ],
      "source": [
        "# Operation 1\n",
        "s.union(s2)"
      ]
    },
    {
      "cell_type": "code",
      "execution_count": 48,
      "metadata": {
        "id": "6eKG73FB9Ujd"
      },
      "outputs": [
        {
          "data": {
            "text/plain": [
              "{'hello'}"
            ]
          },
          "execution_count": 48,
          "metadata": {},
          "output_type": "execute_result"
        }
      ],
      "source": [
        "# Operation 2\n",
        "s.intersection(s2)"
      ]
    },
    {
      "cell_type": "code",
      "execution_count": 49,
      "metadata": {
        "id": "YEqs4Mv7H8No"
      },
      "outputs": [
        {
          "data": {
            "text/plain": [
              "{1, 3.0, 100}"
            ]
          },
          "execution_count": 49,
          "metadata": {},
          "output_type": "execute_result"
        }
      ],
      "source": [
        "s.difference(s2)"
      ]
    },
    {
      "cell_type": "markdown",
      "metadata": {
        "id": "-PsTYHVQ9ZBj"
      },
      "source": [
        "As with tuples and lists, a `set` function can convert other\n",
        "collections to sets."
      ]
    },
    {
      "cell_type": "code",
      "execution_count": 50,
      "metadata": {
        "id": "ywXkPC_k9ZPu"
      },
      "outputs": [
        {
          "data": {
            "text/plain": [
              "{1, 2, 3}"
            ]
          },
          "execution_count": 50,
          "metadata": {},
          "output_type": "execute_result"
        }
      ],
      "source": [
        "x = [1, 2, 3, 1]\n",
        "set(x)"
      ]
    },
    {
      "cell_type": "code",
      "execution_count": 51,
      "metadata": {
        "id": "WDl4Xw7H9aMr"
      },
      "outputs": [
        {
          "data": {
            "text/plain": [
              "{1, 2, 3}"
            ]
          },
          "execution_count": 51,
          "metadata": {},
          "output_type": "execute_result"
        }
      ],
      "source": [
        "t = (1, 2, 3, 1)\n",
        "set(t)"
      ]
    },
    {
      "cell_type": "markdown",
      "metadata": {
        "id": "SCR1iFQW9bHd"
      },
      "source": [
        "Likewise, we can convert sets to lists and tuples."
      ]
    },
    {
      "cell_type": "code",
      "execution_count": 52,
      "metadata": {
        "id": "hCVPp8PB9diN"
      },
      "outputs": [
        {
          "data": {
            "text/plain": [
              "[1, 3.0, 100, 'hello']"
            ]
          },
          "execution_count": 52,
          "metadata": {},
          "output_type": "execute_result"
        }
      ],
      "source": [
        "list(s)"
      ]
    },
    {
      "cell_type": "code",
      "execution_count": 53,
      "metadata": {
        "id": "g7Co9YVb9eYf"
      },
      "outputs": [
        {
          "data": {
            "text/plain": [
              "(1, 3.0, 100, 'hello')"
            ]
          },
          "execution_count": 53,
          "metadata": {},
          "output_type": "execute_result"
        }
      ],
      "source": [
        "tuple(s)"
      ]
    },
    {
      "cell_type": "code",
      "execution_count": null,
      "metadata": {
        "id": "U-C8ve709flN"
      },
      "outputs": [],
      "source": []
    }
  ],
  "metadata": {
    "colab": {
      "provenance": []
    },
    "kernelspec": {
      "display_name": "base",
      "language": "python",
      "name": "python3"
    },
    "language_info": {
      "codemirror_mode": {
        "name": "ipython",
        "version": 3
      },
      "file_extension": ".py",
      "mimetype": "text/x-python",
      "name": "python",
      "nbconvert_exporter": "python",
      "pygments_lexer": "ipython3",
      "version": "3.9.13"
    }
  },
  "nbformat": 4,
  "nbformat_minor": 0
}
