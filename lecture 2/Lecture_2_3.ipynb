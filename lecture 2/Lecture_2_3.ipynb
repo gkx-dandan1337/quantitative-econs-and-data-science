{
  "nbformat": 4,
  "nbformat_minor": 0,
  "metadata": {
    "colab": {
      "provenance": []
    },
    "kernelspec": {
      "name": "python3",
      "display_name": "Python 3"
    },
    "language_info": {
      "name": "python"
    }
  },
  "cells": [
    {
      "cell_type": "markdown",
      "source": [
        "# Functions\n",
        "\n",
        "**Outcomes**\n",
        "\n",
        "- Economic Production Functions  \n",
        "  - Understand the basics of production functions in economics  \n",
        "- Functions  \n",
        "  - Know how to define your own function  \n",
        "  - Know how to find and write your own function documentation  \n",
        "  - Know why we use functions  \n",
        "  - Understand scoping rules and blocks  \n"
      ],
      "metadata": {
        "id": "8LxfQCMOMyoz"
      }
    },
    {
      "cell_type": "markdown",
      "source": [
        "## Application: Production Functions\n",
        "\n",
        "Production functions are useful when modeling the economics of firms producing\n",
        "goods or the aggregate output in an economy.\n",
        "\n",
        "Though the term “function” is used in a mathematical sense here, we will be making\n",
        "tight connections between the programming of mathematical functions and Python\n",
        "functions."
      ],
      "metadata": {
        "id": "MXbTYJb_M5OP"
      }
    },
    {
      "cell_type": "markdown",
      "source": [
        "### Factors of Production\n",
        "\n",
        "The [factors of production](https://en.wikipedia.org/wiki/Factors_of_production)\n",
        "are the inputs used in the production of some sort of output.\n",
        "\n",
        "Some example factors of production include\n",
        "\n",
        "- [Physical capital](https://en.wikipedia.org/wiki/Physical_capital), e.g.\n",
        "  machines, buildings, computers, and power stations.  \n",
        "- Labor, e.g. all of the hours of work from different types of employees of a\n",
        "  firm.  \n",
        "- [Human Capital](https://en.wikipedia.org/wiki/Human_capital), e.g. the\n",
        "  knowledge of employees within a firm.  \n",
        "\n",
        "\n",
        "A [production function](https://en.wikipedia.org/wiki/Production_function)\n",
        "maps a set of inputs to the output, e.g. the amount of wheat produced by a\n",
        "farm, or widgets produced in a factory.\n",
        "\n",
        "As an example of the notation, we denote the total units of labor and\n",
        "physical capital used in a factory as $ L $ and $ K $ respectively.\n",
        "\n",
        "If we denote the physical output of the factory as $ Y $, then a production\n",
        "function $ F $ that transforms labor and capital into output might have the\n",
        "form:\n",
        "\n",
        "$$\n",
        "Y = F(K, L)\n",
        "$$"
      ],
      "metadata": {
        "id": "bcgtqV-BNCYC"
      }
    },
    {
      "cell_type": "markdown",
      "source": [
        "### An Example Production Function\n",
        "\n",
        "Throughout this lecture, we will use the\n",
        "[Cobb-Douglas](https://en.wikipedia.org/wiki/Cobb%E2%80%93Douglas_production_function)\n",
        "production function to help us understand how to create Python\n",
        "functions and why they are useful.\n",
        "\n",
        "The Cobb-Douglas production function has appealing statistical properties when brought to data.\n",
        "\n",
        "This function is displayed below.\n",
        "\n",
        "$$\n",
        "Y = z K^{\\alpha} L^{1-\\alpha}\n",
        "$$\n",
        "\n",
        "The function is parameterized by:\n",
        "\n",
        "- A parameter $ \\alpha \\in [0,1] $, called the “output elasticity of\n",
        "  capital”.  \n",
        "- A value $ z $ called the [Total Factor Productivity](https://en.wikipedia.org/wiki/Total_factor_productivity) (TFP).  "
      ],
      "metadata": {
        "id": "4dZMn6x1XEQP"
      }
    },
    {
      "cell_type": "markdown",
      "source": [
        "## What are (Python) Functions?\n",
        "\n",
        "In this class, we will often talk about `function`s.\n",
        "\n",
        "So what is a function?\n",
        "\n",
        "We like to think of a function as a production line in a\n",
        "manufacturing plant: we pass zero or more things to it, operations take place in a\n",
        "set linear sequence, and zero or more things come out.\n",
        "\n",
        "We use functions for the following purposes:\n",
        "\n",
        "- **Re-usability**: Writing code to do a specific task just once, and\n",
        "  reuse the code by calling the function.  \n",
        "- **Organization**: Keep the code for distinct operations separated and\n",
        "  organized.  \n",
        "- **Sharing/collaboration**: Sharing code across multiple projects or\n",
        "  sharing pieces of code with collaborators.  "
      ],
      "metadata": {
        "id": "2q-u4EGXXOsD"
      }
    },
    {
      "cell_type": "markdown",
      "source": [
        "## How to Define (Python) Functions?\n",
        "\n",
        "The basic syntax to create our own function is as follows:"
      ],
      "metadata": {
        "id": "JMM1OTXQXZ7g"
      }
    },
    {
      "cell_type": "code",
      "execution_count": null,
      "metadata": {
        "id": "vcbqV_CfMvHS"
      },
      "outputs": [],
      "source": [
        "def function_name(inputs):\n",
        "    # step 1\n",
        "    # step 2\n",
        "    # ...\n",
        "    return outputs"
      ]
    },
    {
      "cell_type": "markdown",
      "source": [
        "Here we see two new *keywords*: `def` and `return`.\n",
        "\n",
        "- `def` is used to tell Python we would like to define a new function.  \n",
        "- `return` is used to tell Python what we would like to **return** from a\n",
        "  function.  \n",
        "\n",
        "\n",
        "Let’s look at an example and then discuss each part:"
      ],
      "metadata": {
        "id": "BrCNGIFXXcx0"
      }
    },
    {
      "cell_type": "code",
      "source": [
        "def mean(numbers):\n",
        "    total = sum(numbers)\n",
        "    N = len(numbers)\n",
        "    answer = total / N\n",
        "\n",
        "    return answer"
      ],
      "metadata": {
        "id": "rOrKvhIiXc-q"
      },
      "execution_count": null,
      "outputs": []
    },
    {
      "cell_type": "markdown",
      "source": [
        "Here we defined a function `mean` that has one input (`numbers`),\n",
        "does three steps, and has one output (`answer`).\n",
        "\n",
        "Let’s see what happens when we call this function on the list of numbers\n",
        "`[1, 2, 3, 4]`."
      ],
      "metadata": {
        "id": "lC31YyslXonG"
      }
    },
    {
      "cell_type": "code",
      "source": [
        "x = [1, 2, 3, 4]\n",
        "the_mean = mean(x)\n",
        "the_mean"
      ],
      "metadata": {
        "id": "kmIQIOaFXgEG"
      },
      "execution_count": null,
      "outputs": []
    },
    {
      "cell_type": "markdown",
      "source": [
        "Additionally, as we saw in the [control flow] section, indentation\n",
        "controls blocks of code (along with the [scope](#scope) rules).\n",
        "\n",
        "To see this, compare a function with no inputs or return values."
      ],
      "metadata": {
        "id": "hvL6TPn9XvGs"
      }
    },
    {
      "cell_type": "code",
      "source": [
        "def f():\n",
        "    print(\"1\")\n",
        "    print(\"2\")\n",
        "f()"
      ],
      "metadata": {
        "id": "Y187eYqIXqHL"
      },
      "execution_count": null,
      "outputs": []
    },
    {
      "cell_type": "markdown",
      "source": [
        "With the following change of indentation…"
      ],
      "metadata": {
        "id": "42ClX_J7X2wK"
      }
    },
    {
      "cell_type": "code",
      "source": [
        "def f():\n",
        "    print(\"1\")\n",
        "print(\"2\")\n",
        "f()"
      ],
      "metadata": {
        "id": "DFAOOA7pX1DG"
      },
      "execution_count": null,
      "outputs": []
    },
    {
      "cell_type": "markdown",
      "source": [
        "### Scope\n",
        "\n",
        "Notice that we named the input to the function `x` and we called the output\n",
        "`the_mean`.\n",
        "\n",
        "When we defined the function, the input was called `numbers` and the output\n",
        "`answer`… what gives?\n",
        "\n",
        "This is an example of a programming concept called\n",
        "[variable scope](http://python-textbok.readthedocs.io/en/1.0/Variables_and_Scope.html).\n",
        "\n",
        "In Python, functions define their own scope for variables.\n",
        "\n",
        "In English, this means that regardless of what name we give an input variable (`x` in this example),\n",
        "the input will always be referred to as `numbers` *inside* the body of the `mean`\n",
        "function.\n",
        "\n",
        "It also means that although we called the output `answer` inside of the\n",
        "function `mean`, that this variable name was only valid inside of our\n",
        "function.\n",
        "\n",
        "To use the output of the function, we had to give it our own name (`the_mean`\n",
        "in this example).\n",
        "\n",
        "Another point to make here is that the intermediate variables we defined inside\n",
        "`mean` (`total` and `N`) are only defined inside of the `mean` function\n",
        "– we can’t access them from outside. We can verify this by trying to see what\n",
        "the value of `total` is:"
      ],
      "metadata": {
        "id": "96t7vsOxYJx7"
      }
    },
    {
      "cell_type": "code",
      "source": [
        "def mean(numbers):\n",
        "    total = sum(numbers)\n",
        "    N = len(numbers)\n",
        "    answer = total / N\n",
        "    return answer # or directly return total / N\n",
        "\n",
        "# uncomment the line below and execute to see the error\n",
        "# total"
      ],
      "metadata": {
        "id": "J4yv2n2zX3-C"
      },
      "execution_count": null,
      "outputs": []
    },
    {
      "cell_type": "markdown",
      "source": [
        "This point can be taken even further:  the same name can be bound\n",
        "to variables inside of blocks of code and in the outer “scope”."
      ],
      "metadata": {
        "id": "qyponCVrYbU1"
      }
    },
    {
      "cell_type": "code",
      "source": [
        "x = 4\n",
        "print(f\"x = {x}\")\n",
        "def f():\n",
        "    x = 5 # a different \"x\"\n",
        "    print(f\"x = {x}\")\n",
        "f() # calls function\n",
        "print(f\"x = {x}\")"
      ],
      "metadata": {
        "id": "DDdoTICCYZLb"
      },
      "execution_count": null,
      "outputs": []
    },
    {
      "cell_type": "markdown",
      "source": [
        "The final point we want to make about scope is that function inputs and output\n",
        "don’t have to be given a name outside the function."
      ],
      "metadata": {
        "id": "8R60ik0oYhRM"
      }
    },
    {
      "cell_type": "code",
      "source": [
        "mean([10, 20, 30])"
      ],
      "metadata": {
        "id": "srKeWVmmYfLb"
      },
      "execution_count": null,
      "outputs": []
    },
    {
      "cell_type": "markdown",
      "source": [
        "Notice that we didn’t name the input or the output, but the function was\n",
        "called successfully.\n"
      ],
      "metadata": {
        "id": "ho5E1NlIYsu4"
      }
    },
    {
      "cell_type": "markdown",
      "source": [
        "\n",
        "Now, we’ll use our new knowledge to define a function which computes the output\n",
        "from a Cobb-Douglas production function with parameters $ z = 1 $ and\n",
        "$ \\alpha = 0.33 $ and takes inputs $ K $ and $ L $."
      ],
      "metadata": {
        "id": "9REvvwYVYuCO"
      }
    },
    {
      "cell_type": "code",
      "source": [
        "def cobb_douglas(K, L):\n",
        "\n",
        "    # Create alpha and z\n",
        "    z = 1\n",
        "    alpha = 0.33\n",
        "\n",
        "    return z * K**alpha * L**(1 - alpha)"
      ],
      "metadata": {
        "id": "BP9aS7u7YmNI"
      },
      "execution_count": null,
      "outputs": []
    },
    {
      "cell_type": "markdown",
      "source": [
        "We can use this function as we did the mean function."
      ],
      "metadata": {
        "id": "Ho9ts09qZjqx"
      }
    },
    {
      "cell_type": "code",
      "source": [
        "cobb_douglas(1.0, 0.5)"
      ],
      "metadata": {
        "id": "YsoXW2eGZiQ8"
      },
      "execution_count": null,
      "outputs": []
    },
    {
      "cell_type": "markdown",
      "source": [
        "### Re-using Functions\n",
        "\n",
        "Economists are often interested in this question: how much does output\n",
        "change if we modify our inputs?\n",
        "\n",
        "For example, take a production function $ Y_1 = F(K_1,L_1) $ which produces\n",
        "$ Y_1 $ units of the goods.\n",
        "\n",
        "If we then multiply the inputs each by $ \\gamma $, so that\n",
        "$ K_2 = \\gamma K_1 $ and $ L_2 = \\gamma L_1 $, then the output is\n",
        "\n",
        "$$\n",
        "Y_2 = F(K_2, L_2) = F(\\gamma K_1, \\gamma L_1)\n",
        "$$\n",
        "\n",
        "How does $ Y_1 $ compare to $ Y_2 $?\n",
        "\n",
        "Answering this question involves something called *returns to scale*.\n",
        "\n",
        "Returns to scale tells us whether our inputs are more or less productive as we\n",
        "have more of them.\n",
        "\n",
        "For example, imagine that you run a restaurant. How would you expect the amount\n",
        "of food you could produce would change if you could build an exact replica of\n",
        "your restaurant and kitchen and hire the same number of cooks and waiters? You\n",
        "would probably expect it to double.\n",
        "\n",
        "If, for any $ K, L $, we multiply $ K, L $ by a value $ \\gamma $\n",
        "then\n",
        "\n",
        "- If $ \\frac{Y_2}{Y_1} < \\gamma $ then we say the production function has\n",
        "  decreasing returns to scale.  \n",
        "- If $ \\frac{Y_2}{Y_1} = \\gamma $ then we say the production function has\n",
        "  constant returns to scale.  \n",
        "- If $ \\frac{Y_2}{Y_1} > \\gamma $ then we say the production function has\n",
        "  increasing returns to scale.  \n",
        "\n",
        "\n",
        "Let’s try it and see what our function is!"
      ],
      "metadata": {
        "id": "6UFee6oyZsJw"
      }
    },
    {
      "cell_type": "code",
      "source": [
        "y1 = cobb_douglas(1.0, 0.5)\n",
        "print(y1)\n",
        "y2 = cobb_douglas(2*1.0, 2*0.5)\n",
        "print(y2)"
      ],
      "metadata": {
        "id": "jgwql7IBZkrz"
      },
      "execution_count": null,
      "outputs": []
    },
    {
      "cell_type": "markdown",
      "source": [
        "How did $ Y_1 $ and $ Y_2 $ relate?"
      ],
      "metadata": {
        "id": "gPrRi2VNZ08H"
      }
    },
    {
      "cell_type": "code",
      "source": [
        "y2 / y1"
      ],
      "metadata": {
        "id": "clUnIVnEZt99"
      },
      "execution_count": null,
      "outputs": []
    },
    {
      "cell_type": "markdown",
      "source": [
        "$ Y_2 $ was exactly double $ Y_1 $!"
      ],
      "metadata": {
        "id": "okDqo9jOZ3hu"
      }
    },
    {
      "cell_type": "markdown",
      "source": [
        "Let’s write a function that will compute the returns to scale for different\n",
        "values of $ K $ and $ L $.\n",
        "\n",
        "This is an example of how writing functions can allow us to re-use code\n",
        "in ways we might not originally anticipate. (You didn’t know we’d be\n",
        "writing a `returns_to_scale` function when we wrote `cobb_douglas`.)"
      ],
      "metadata": {
        "id": "o5HNmCJyZ5KQ"
      }
    },
    {
      "cell_type": "code",
      "source": [
        "def returns_to_scale(K, L, gamma):\n",
        "    y1 = cobb_douglas(K, L)\n",
        "    y2 = cobb_douglas(gamma*K, gamma*L)\n",
        "    y_ratio = y2 / y1\n",
        "    return y_ratio / gamma"
      ],
      "metadata": {
        "id": "PnLYb2gWZ2Iq"
      },
      "execution_count": null,
      "outputs": []
    },
    {
      "cell_type": "code",
      "source": [
        "returns_to_scale(1.0, 0.5, 2.0)"
      ],
      "metadata": {
        "id": "suubTqP4Z8ER"
      },
      "execution_count": null,
      "outputs": []
    },
    {
      "cell_type": "markdown",
      "source": [
        "### Exercise 1\n",
        "\n",
        "What happens if we try different inputs in our Cobb-Douglas production\n",
        "function?"
      ],
      "metadata": {
        "id": "YdWhJcS4tugj"
      }
    },
    {
      "cell_type": "code",
      "source": [
        "# Compute returns to scale with different values of `K` and `L` and `gamma`"
      ],
      "metadata": {
        "id": "9ukzMbyYZ-yW"
      },
      "execution_count": null,
      "outputs": []
    },
    {
      "cell_type": "markdown",
      "source": [
        "It turns out that with a little bit of algebra, we can check that this will\n",
        "always hold for our Cobb-Douglas example above."
      ],
      "metadata": {
        "id": "6DOU0q4mtyyB"
      }
    },
    {
      "cell_type": "markdown",
      "source": [
        "To show this, take an arbitrary $ K, L $ and multiply the inputs by an\n",
        "arbitrary $ \\gamma $.\n",
        "\n",
        "$$\n",
        "\\begin{aligned}\n",
        "    F(\\gamma K, \\gamma L) &= z (\\gamma K)^{\\alpha} (\\gamma L)^{1-\\alpha}\\\\\n",
        "    &=  z \\gamma^{\\alpha}\\gamma^{1-\\alpha} K^{\\alpha} L^{1-\\alpha}\\\\\n",
        "    &= \\gamma z K^{\\alpha} L^{1-\\alpha} = \\gamma F(K, L)\n",
        "\\end{aligned}\n",
        "$$\n",
        "\n",
        "For an example of a production function that is not CRS, look at a\n",
        "generalization of the Cobb-Douglas production function that has different\n",
        "“output elasticities” for the 2 inputs.\n",
        "\n",
        "$$\n",
        "Y = z K^{\\alpha_1} L^{\\alpha_2}\n",
        "$$\n",
        "\n",
        "Note that if $ \\alpha_2 = 1 - \\alpha_1 $, this is our Cobb-Douglas\n",
        "production function."
      ],
      "metadata": {
        "id": "PbQlifm2t0rg"
      }
    },
    {
      "cell_type": "markdown",
      "source": [
        "### Exercise 2\n",
        "\n",
        "Define a function named `var` that takes a list (call it `x`) and\n",
        "computes the variance. This function should use the mean function that we\n",
        "defined earlier.\n",
        "\n",
        "$ \\text{variance} = \\frac{1}{N-1} \\sum_i (x_i - \\text{mean}(x))^2 $"
      ],
      "metadata": {
        "id": "j6Jel0wAt_JJ"
      }
    },
    {
      "cell_type": "code",
      "source": [
        "# Your code here."
      ],
      "metadata": {
        "id": "zE5CLYVmty8a"
      },
      "execution_count": null,
      "outputs": []
    },
    {
      "cell_type": "markdown",
      "source": [
        "### Multiple Returns\n",
        "\n",
        "Another valuable element to analyze on production functions is how\n",
        "output changes as we change only one of the inputs. We will call this the\n",
        "marginal product.\n",
        "\n",
        "For example, compare the output using $ K, L $ units of inputs to that with\n",
        "an $ \\epsilon $ units of labor.\n",
        "\n",
        "Then the marginal product of labor (MPL) is defined as\n",
        "\n",
        "$$\n",
        "\\frac{F(K, L + \\varepsilon) - F(K, L)}{\\varepsilon}\n",
        "$$\n",
        "\n",
        "This tells us how much additional output is created relative to the additional\n",
        "input. (Spoiler alert: This should look like the definition for a partial\n",
        "derivative!)\n",
        "\n",
        "If the input can be divided into small units, then we can use calculus to take\n",
        "this limit, using the partial derivative of the production function relative to\n",
        "that input.\n",
        "\n",
        "In this case, we define the marginal product of labor (MPL) and marginal product\n",
        "of capital (MPK) as\n",
        "\n",
        "$$\n",
        "\\begin{aligned}\n",
        "MPL(K, L) &= \\frac{\\partial F(K, L)}{\\partial L}\\\\\n",
        "MPK(K, L) &= \\frac{\\partial F(K, L)}{\\partial K}\n",
        "\\end{aligned}\n",
        "$$\n",
        "\n",
        "In the Cobb-Douglas example above, this becomes\n",
        "\n",
        "$$\n",
        "\\begin{aligned}\n",
        "MPK(K, L) &= z  \\alpha \\left(\\frac{K}{L} \\right)^{\\alpha - 1}\\\\\n",
        "MPL(K, L) &= (1-\\alpha) z \\left(\\frac{K}{L} \\right)^{\\alpha}\\\\\n",
        "\\end{aligned}\n",
        "$$\n",
        "\n",
        "Let’s test it out with Python! We’ll also see that we can actually return\n",
        "multiple things in a Python function.\n",
        "\n",
        "The syntax for a return statement with multiple items is return item1, item2, ….\n",
        "\n",
        "In this case, we’ll compute both the MPL and the MPK and then return both."
      ],
      "metadata": {
        "id": "sgK4sxufuH3a"
      }
    },
    {
      "cell_type": "code",
      "source": [
        "def marginal_products(K, L, epsilon):\n",
        "\n",
        "    mpl = (cobb_douglas(K, L + epsilon) - cobb_douglas(K, L)) / epsilon\n",
        "    mpk = (cobb_douglas(K + epsilon, L) - cobb_douglas(K, L)) / epsilon\n",
        "\n",
        "    return mpl, mpk"
      ],
      "metadata": {
        "id": "JDsr47IVuAdU"
      },
      "execution_count": null,
      "outputs": []
    },
    {
      "cell_type": "code",
      "source": [
        "tup = marginal_products(1.0, 0.5,  1e-4)\n",
        "print(tup)"
      ],
      "metadata": {
        "id": "zGvfClZQuOZM"
      },
      "execution_count": null,
      "outputs": []
    },
    {
      "cell_type": "markdown",
      "source": [
        "Instead of using the tuple, these can be directly unpacked to variables."
      ],
      "metadata": {
        "id": "nvGoVB5vuZQe"
      }
    },
    {
      "cell_type": "code",
      "source": [
        "mpl, mpk = marginal_products(1.0, 0.5,  1e-4)\n",
        "print(f\"mpl = {mpl}, mpk = {mpk}\")"
      ],
      "metadata": {
        "id": "EVUD62MBuQXe"
      },
      "execution_count": null,
      "outputs": []
    },
    {
      "cell_type": "markdown",
      "source": [
        "We can use this to calculate the marginal products for different `K`, fixing `L`\n",
        "using a comprehension."
      ],
      "metadata": {
        "id": "0UwPZRHvucsH"
      }
    },
    {
      "cell_type": "code",
      "source": [
        "Ks = [1.0, 2.0, 3.0]\n",
        "[marginal_products(K, 0.5, 1e-4) for K in Ks] # create a tuple for each K"
      ],
      "metadata": {
        "id": "RKqK-g_uuad6"
      },
      "execution_count": null,
      "outputs": []
    },
    {
      "cell_type": "markdown",
      "source": [
        "### Documentation\n",
        "\n",
        "In a previous exercise, we asked you to find help for the `cobb_douglas` and\n",
        "`returns_to_scale` functions using `?`.\n",
        "\n",
        "It didn’t provide any useful information.\n",
        "\n",
        "To provide this type of help information, we need to\n",
        "add what Python programmers call a “docstring” to our functions.\n",
        "\n",
        "This is done by putting a string (not assigned to any variable name) as\n",
        "the first line of the *body* of the function (after the line with\n",
        "`def`).\n",
        "\n",
        "Below is a new version of the template we used to define functions."
      ],
      "metadata": {
        "id": "R4yoccn5uk6N"
      }
    },
    {
      "cell_type": "code",
      "source": [
        "def function_name(inputs):\n",
        "    \"\"\"\n",
        "    Docstring\n",
        "    \"\"\"\n",
        "    # step 1\n",
        "    # step 2\n",
        "    # ...\n",
        "    return outputs"
      ],
      "metadata": {
        "id": "LvGKMpjyueT_"
      },
      "execution_count": null,
      "outputs": []
    },
    {
      "cell_type": "markdown",
      "source": [
        "Let’s re-define our `cobb_douglas` function to include a docstring."
      ],
      "metadata": {
        "id": "xosm1jHluocT"
      }
    },
    {
      "cell_type": "code",
      "source": [
        "def cobb_douglas(K, L):\n",
        "    \"\"\"\n",
        "    Computes the production F(K, L) for a Cobb-Douglas production function\n",
        "\n",
        "    Takes the form F(K, L) = z K^{\\alpha} L^{1 - \\alpha}\n",
        "\n",
        "    We restrict z = 1 and alpha = 0.33\n",
        "    \"\"\"\n",
        "    return 1.0 * K**(0.33) * L**(1.0 - 0.33)"
      ],
      "metadata": {
        "id": "v6XiCph2uomN"
      },
      "execution_count": null,
      "outputs": []
    },
    {
      "cell_type": "markdown",
      "source": [
        "Now when we have Jupyter evaluate `cobb_douglas?`, our message is\n",
        "displayed"
      ],
      "metadata": {
        "id": "3dr8U7_Xut8f"
      }
    },
    {
      "cell_type": "code",
      "source": [
        "cobb_douglas?"
      ],
      "metadata": {
        "id": "TE1daTApuqLC"
      },
      "execution_count": null,
      "outputs": []
    },
    {
      "cell_type": "markdown",
      "source": [
        "We recommend that you always include at least a very simple docstring for\n",
        "nontrivial functions.\n",
        "\n",
        "This is in the same spirit as adding comments to your code — it makes it easier\n",
        "for future readers/users (including yourself) to understand what the code does."
      ],
      "metadata": {
        "id": "stE2144Iuyq1"
      }
    },
    {
      "cell_type": "markdown",
      "source": [
        "### Exercise 3\n",
        "\n",
        "Redefine the `returns_to_scale` function and add a docstring.\n",
        "\n",
        "Confirm that it works by running the cell containing `returns_to_scale?` below.\n",
        "\n",
        "*Note*: You do not need to change the actual code in the function — just\n",
        "copy/paste and add a docstring in the correct line."
      ],
      "metadata": {
        "id": "7o9GR5Rau2Rk"
      }
    },
    {
      "cell_type": "code",
      "source": [
        "# re-define the `returns_to_scale` function here"
      ],
      "metadata": {
        "id": "rKViBQ1SuvS2"
      },
      "execution_count": null,
      "outputs": []
    },
    {
      "cell_type": "code",
      "source": [
        "# test it here\n",
        "\n",
        "returns_to_scale?"
      ],
      "metadata": {
        "id": "IIpzFt7Qu4Dk"
      },
      "execution_count": null,
      "outputs": []
    },
    {
      "cell_type": "markdown",
      "source": [
        "### Default and Keyword Arguments\n",
        "\n",
        "Functions can have optional arguments.\n",
        "\n",
        "To accomplish this, we give these arguments a *default value* by saying\n",
        "`name=default_value` instead of just `name` as we list the arguments.\n",
        "\n",
        "To demonstrate this functionality, let’s now make $ z $ and $ \\alpha $\n",
        "arguments to our cobb_douglas function!"
      ],
      "metadata": {
        "id": "y-QpaPuQu8tQ"
      }
    },
    {
      "cell_type": "code",
      "source": [
        "def cobb_douglas(K, L, alpha=0.33, z=1):\n",
        "    \"\"\"\n",
        "    Computes the production F(K, L) for a Cobb-Douglas production function\n",
        "\n",
        "    Takes the form F(K, L) = z K^{\\alpha} L^{1 - \\alpha}\n",
        "    \"\"\"\n",
        "    return z * K**(alpha) * L**(1.0 - alpha)"
      ],
      "metadata": {
        "id": "3L20lL85u5Xe"
      },
      "execution_count": null,
      "outputs": []
    },
    {
      "cell_type": "markdown",
      "source": [
        "We can now call this function by passing in just K and L. Notice that it will\n",
        "produce same result as earlier because `alpha` and `z` are the same as earlier."
      ],
      "metadata": {
        "id": "xG4FxB6lvJNY"
      }
    },
    {
      "cell_type": "code",
      "source": [
        "cobb_douglas(1.0, 0.5)"
      ],
      "metadata": {
        "id": "Oy0gJWCGvGcC"
      },
      "execution_count": null,
      "outputs": []
    },
    {
      "cell_type": "markdown",
      "source": [
        "However, we can also set the other arguments of the function by passing\n",
        "more than just K/L."
      ],
      "metadata": {
        "id": "SKnUMHiLvMeh"
      }
    },
    {
      "cell_type": "code",
      "source": [
        "cobb_douglas(1.0, 0.5, 0.35, 1.6)"
      ],
      "metadata": {
        "id": "CPN2RTkDvKZv"
      },
      "execution_count": null,
      "outputs": []
    },
    {
      "cell_type": "markdown",
      "source": [
        "In the example above, we used `alpha = 0.35`, `z = 1.6`.\n",
        "\n",
        "We can also refer to function arguments by their name, instead of only their\n",
        "position (order).\n",
        "\n",
        "To do this, we would write `func_name(arg=value)` for as many of the arguments\n",
        "as we want.\n",
        "\n",
        "Here’s how to do that with our `cobb_douglas` example."
      ],
      "metadata": {
        "id": "yih8GjvpvS6l"
      }
    },
    {
      "cell_type": "code",
      "source": [
        "cobb_douglas(1.0, 0.5, z = 1.5)"
      ],
      "metadata": {
        "id": "lJwBNPFAvNno"
      },
      "execution_count": null,
      "outputs": []
    },
    {
      "cell_type": "markdown",
      "source": [
        "### Exercise 4\n",
        "\n",
        "Experiment with the `sep` and `end` arguments to the `print` function.\n",
        "\n",
        "These can *only* be set by name."
      ],
      "metadata": {
        "id": "jB4qv2T2vYwy"
      }
    },
    {
      "cell_type": "code",
      "source": [
        "# Your code here."
      ],
      "metadata": {
        "id": "u29HlTNCvV1b"
      },
      "execution_count": null,
      "outputs": []
    },
    {
      "cell_type": "markdown",
      "source": [
        "In terms of variable scope, the `z` name within the function is\n",
        "different from any other `z` in the outer scope.\n",
        "\n",
        "To be clear,"
      ],
      "metadata": {
        "id": "hUYl4q2fveL4"
      }
    },
    {
      "cell_type": "code",
      "source": [
        "x = 5\n",
        "def f(x):\n",
        "    return x\n",
        "f(x) # \"coincidence\" that it has the same name"
      ],
      "metadata": {
        "id": "t19nh5_7vaOt"
      },
      "execution_count": null,
      "outputs": []
    },
    {
      "cell_type": "markdown",
      "source": [
        "This is also true with named function arguments, above."
      ],
      "metadata": {
        "id": "Rr2BkDiuvhio"
      }
    },
    {
      "cell_type": "code",
      "source": [
        "z = 1.5\n",
        "cobb_douglas(1.0, 0.5, z = z) # no problem!"
      ],
      "metadata": {
        "id": "d-o1S7fwvf2P"
      },
      "execution_count": null,
      "outputs": []
    },
    {
      "cell_type": "markdown",
      "source": [
        "In that example, the `z` on the left hand side of `z = z` refers\n",
        "to the local variable name in the function whereas the `z` on the\n",
        "right hand side refers to the `z` in the outer scope."
      ],
      "metadata": {
        "id": "oX04Rv5VvkHV"
      }
    },
    {
      "cell_type": "markdown",
      "source": [
        "### Aside: Methods\n",
        "\n",
        "As we learned earlier, all variables in Python have a type associated\n",
        "with them.\n",
        "\n",
        "Different types of variables have different functions or operations\n",
        "defined for them.\n",
        "\n"
      ],
      "metadata": {
        "id": "HOr744cZvnyq"
      }
    },
    {
      "cell_type": "markdown",
      "source": [
        "For example, I can divide one number by another or make a string uppercase.\n",
        "\n",
        "It wouldn’t make sense to divide one string by another or make a number\n",
        "uppercase.\n",
        "\n",
        "When certain functionality is closely tied to the type of an object, it\n",
        "is often implemented as a special kind of function known as a **method**.\n",
        "\n",
        "For now, you only need to know two things about methods:\n",
        "\n",
        "1. We call them by doing `variable.method_name(other_arguments)`\n",
        "  instead of `function_name(variable, other_arguments)`.  \n",
        "1. A method is a function, even though we call it using a different\n",
        "  notation.  \n",
        "\n",
        "\n",
        "When we introduced the core data types, we saw many methods defined on\n",
        "these types.\n",
        "\n",
        "Let’s revisit them for the `str`, or string type.\n",
        "\n",
        "Notice that we call each of these functions using the `dot` syntax\n",
        "described above."
      ],
      "metadata": {
        "id": "RVf4kg19vyJr"
      }
    },
    {
      "cell_type": "code",
      "source": [
        "s = \"This is my handy string!\""
      ],
      "metadata": {
        "id": "Am8-4EY8viut"
      },
      "execution_count": null,
      "outputs": []
    },
    {
      "cell_type": "code",
      "source": [
        "s.upper()"
      ],
      "metadata": {
        "id": "8Q8eXLLcv0nf"
      },
      "execution_count": null,
      "outputs": []
    },
    {
      "cell_type": "code",
      "source": [
        "s.title()"
      ],
      "metadata": {
        "id": "5nAHweekv1ru"
      },
      "execution_count": null,
      "outputs": []
    },
    {
      "cell_type": "markdown",
      "source": [
        "### Creating Custom Types\n",
        "\n",
        "Python allows for Object-Oriented Programming (OOP), allowing you to define your own custom types and merge together some sets of parameters with custom methods. This can help you streamline your code by making it more modular.\n",
        "\n",
        "We are used to defining variables like `x = dict(\"a\": 1, \"b\": 2)` and then using notation like `x[\"a\"]` to access the value of `1`. We can also define our own custom types and use them in similar ways.\n",
        "\n",
        "For example, a simple class that stores two variables would look like this:"
      ],
      "metadata": {
        "id": "YwtkV0Odv9yb"
      }
    },
    {
      "cell_type": "code",
      "source": [
        "class MyType:\n",
        "  def __init__(self, x, y):\n",
        "    self.x = x\n",
        "    self.y = y"
      ],
      "metadata": {
        "id": "2HN4-wZEv2ii"
      },
      "execution_count": null,
      "outputs": []
    },
    {
      "cell_type": "markdown",
      "source": [
        "Used both internal and external to classes, the `__init__` method is a special method that is called when an object is created. It is used to initialize the object’s state. The `self` argument refers to the object itself. The `self` argument is always the first argument of any method in a class. The `self` argument is not passed in when the method is called, but Python will pass in the object itself when the method is called.\n",
        "\n",
        "A class, defined by the `class` keyword, is a blueprint for an object. It defines the attributes and methods that an object will have. An object is an instance of a class that has been created and assigned to a variable. It is created by calling the class name as if it were a function. When you call the class name, the object is created and the `__init__` method is called by default."
      ],
      "metadata": {
        "id": "xeP1zbsjwLrA"
      }
    },
    {
      "cell_type": "code",
      "source": [
        "a = MyType(1, 2)\n",
        "b = MyType(3, 4)\n",
        "# Notice that these are different objects, even though they are the same type!\n",
        "a == b"
      ],
      "metadata": {
        "id": "Dqn76CXtwAy7"
      },
      "execution_count": null,
      "outputs": []
    },
    {
      "cell_type": "markdown",
      "source": [
        "You can see that `a` and `b` are both instances of the `MyType` class by using the `type` function."
      ],
      "metadata": {
        "id": "tLKNim4SwT5Q"
      }
    },
    {
      "cell_type": "code",
      "source": [
        "type(a)"
      ],
      "metadata": {
        "id": "Ml4-H19zwNaq"
      },
      "execution_count": null,
      "outputs": []
    },
    {
      "cell_type": "markdown",
      "source": [
        "Point at the debugger to see the `a.x` etc. fields\n",
        "You can access the attributes of an object using the dot notation. For example, to access the `x` attribute of the `a` object, you would use `a.x`."
      ],
      "metadata": {
        "id": "ISaI6Ze3wYrf"
      }
    },
    {
      "cell_type": "code",
      "source": [
        "print(f\"a.x = {a.x} and a.y = {a.y}\")"
      ],
      "metadata": {
        "id": "zxtaoli5wU8g"
      },
      "execution_count": null,
      "outputs": []
    },
    {
      "cell_type": "markdown",
      "source": [
        "In addition to attributes, objects can also have methods. Methods are functions that are defined inside of a class. They are accessed using the dot notation as well. For example, let’s define a method that adds the `x` and `y` attributes of an object."
      ],
      "metadata": {
        "id": "NgXS2Sk7wfjs"
      }
    },
    {
      "cell_type": "code",
      "source": [
        "class MyAdder:\n",
        "  def __init__(self, x, y):\n",
        "    self.x = x\n",
        "    self.y = y\n",
        "\n",
        "  def add(self):\n",
        "    return self.x + self.y"
      ],
      "metadata": {
        "id": "rgUQLXGywas3"
      },
      "execution_count": null,
      "outputs": []
    },
    {
      "cell_type": "markdown",
      "source": [
        "We can now create an object of type `MyAdder` and call the `add` method, in the same way that we called methods on built-in types (like the `.upper()` method on a string.)"
      ],
      "metadata": {
        "id": "EMftGpzVwkjq"
      }
    },
    {
      "cell_type": "code",
      "source": [
        "b = MyAdder(1, 2)\n",
        "print(b.add())"
      ],
      "metadata": {
        "id": "BpjtIJbAwhOk"
      },
      "execution_count": null,
      "outputs": []
    },
    {
      "cell_type": "markdown",
      "source": [
        "Using custom classes can often be a helpful way to organize your code and make it more modular, by grouping together related variables and functions. Understanding how to create and use custom classes is also a key part of understanding how Python works under the hood, and can be crucial to using some of the more advanced Python packages like PyTorch."
      ],
      "metadata": {
        "id": "xpHCqyJjwrAw"
      }
    },
    {
      "cell_type": "markdown",
      "source": [
        "### Exercise 5\n",
        "\n",
        "Define a custom class called `CobbDouglas` that collects the parameters `z` and `alpha` as attributes, and has a method called `produce` that takes `K` and `L` as arguments and returns the output from the Cobb-Douglas production function."
      ],
      "metadata": {
        "id": "BOt3GI8rwvNj"
      }
    },
    {
      "cell_type": "code",
      "source": [
        "# Your code here."
      ],
      "metadata": {
        "id": "wudytuzGwlxU"
      },
      "execution_count": null,
      "outputs": []
    },
    {
      "cell_type": "markdown",
      "source": [
        "Now create an instance of the `CobbDouglas` class called `cobb_douglas1` with `z = 1` and `alpha = 0.33`. Use the `produce` method to compute the output when `K = 1` and `L = 0.5`."
      ],
      "metadata": {
        "id": "GqK3EA-OwzV8"
      }
    },
    {
      "cell_type": "code",
      "source": [
        "# Your code here."
      ],
      "metadata": {
        "id": "ycyjcuOFwx5a"
      },
      "execution_count": null,
      "outputs": []
    },
    {
      "cell_type": "markdown",
      "source": [
        "# Extra Examples about Creating Custom Types"
      ],
      "metadata": {
        "id": "vFJwPxqrLHUb"
      }
    },
    {
      "cell_type": "markdown",
      "source": [
        "# Creating objects with fields and methods"
      ],
      "metadata": {
        "id": "ucWsSGKILNkY"
      }
    },
    {
      "cell_type": "markdown",
      "source": [
        "Objects bundle data and related functions together to make useful things.  If functions are reusable verbs, then objects are reusable nouns.\n",
        "\n",
        "Let's see how to define our own types.\n",
        "\n",
        "In general, \"fields\" in Python usually refer to the attributes or variables that store data within a class or structure.\n",
        "\n",
        "Suppose we're working for a restaurant.  A Bill contains a few pieces of information:  a list of items purchased and their prices, a total cost before and after tax, a tip, and whether it was paid.  We have a choice about how to represent some information, like the total price before and after tax, because it might either be stored or computed.\n",
        "\n",
        "To create an object type, we need to declare a class.  This is like the template that can create multiple object instances according to the same instructions."
      ],
      "metadata": {
        "id": "IKTUHxpjLPV7"
      }
    },
    {
      "cell_type": "code",
      "source": [
        "class Bill:\n",
        "  \"\"\" Represents a bill at a restaurant.\n",
        "\n",
        "  items (list of tuples):  list of (item name, cost) tuples\n",
        "  \"\"\"\n",
        "  def __init__(self, items):\n",
        "    self.items = items\n",
        "\n",
        "  # \"Getter\" method\n",
        "  def items(self):\n",
        "    return self.items\n",
        "\n",
        "  # \"Setter\" method\n",
        "  def set_items(self, items):\n",
        "    self.items = items\n",
        "\n",
        "  def total_cost_pretax(self):\n",
        "    total = 0\n",
        "    for name, cost in self.items:\n",
        "      total += cost\n",
        "    return total\n",
        "\n",
        "  def total_cost_with_tax(self, tax_rate):\n",
        "    return self.total_cost_pretax() * (1 + tax_rate)"
      ],
      "metadata": {
        "id": "_Q3tQAN3w0st"
      },
      "execution_count": null,
      "outputs": []
    },
    {
      "cell_type": "code",
      "source": [
        "my_lunch = [(\"Sandwich\", 9), (\"Coke\", 2)]\n",
        "new_bill = Bill(my_lunch) # Calls the __init__() constructor\n",
        "print(f\"Total cost: {new_bill.total_cost_with_tax(0.08)}\")"
      ],
      "metadata": {
        "id": "d8UmjQiQLeMe"
      },
      "execution_count": null,
      "outputs": []
    },
    {
      "cell_type": "code",
      "source": [
        "new_bill.items"
      ],
      "metadata": {
        "id": "CE9adK8VLflx"
      },
      "execution_count": null,
      "outputs": []
    },
    {
      "cell_type": "code",
      "source": [
        "new_bill.total_cost_pretax()"
      ],
      "metadata": {
        "id": "9D-T5zthLg19"
      },
      "execution_count": null,
      "outputs": []
    },
    {
      "cell_type": "markdown",
      "source": [
        "```__init__()``` is a constructor, and has a special name so that the interpreter knows it's a constructor (the constructor always has exactly that name).  It's called by naming the class, then adding any necessary arguments between the parentheses."
      ],
      "metadata": {
        "id": "X8eE2FpsLi13"
      }
    },
    {
      "cell_type": "markdown",
      "source": [
        "Each method takes \"self\" as its first argument, but we don't actually pass in anything for this when we call the method.  That is just a way to refer to the object itself in the method."
      ],
      "metadata": {
        "id": "xEhy4RVQLlcR"
      }
    },
    {
      "cell_type": "markdown",
      "source": [
        "In the body of the constructor, we assign the arguments of the function to the fields or attributes of the object, which are always preceded by \"self.\" in the method code.  Outside the class code, we can refer to fields or attributes using the syntax objectname.fieldname, as demonstrated above."
      ],
      "metadata": {
        "id": "nXQMJ-LwLnlN"
      }
    },
    {
      "cell_type": "markdown",
      "source": [
        "In the code below, we define a new class called Circle. The class has an attribute, radius, which represents the radius of the circle. We also define several methods for this class, including methods to calculate the area, diameter, and circumference of the circle."
      ],
      "metadata": {
        "id": "tlQFatVyLqs8"
      }
    },
    {
      "cell_type": "code",
      "source": [
        "import math\n",
        "\n",
        "class Circle:\n",
        "  def __init__(self, radius):\n",
        "    self.radius = radius\n",
        "\n",
        "  def area(self):\n",
        "    return math.pi * self.radius ** 2\n",
        "\n",
        "  def diameter(self):\n",
        "    return 2 * self.radius\n",
        "\n",
        "  def circumference(self):\n",
        "    return 2 * math.pi * self.radius\n",
        "\n",
        "my_circle = Circle(2)\n",
        "print(my_circle.area())"
      ],
      "metadata": {
        "id": "XtefDOqRLi-i"
      },
      "execution_count": null,
      "outputs": []
    },
    {
      "cell_type": "code",
      "source": [
        "my_circle.area()"
      ],
      "metadata": {
        "id": "tp3Xf6b2Luz_"
      },
      "execution_count": null,
      "outputs": []
    },
    {
      "cell_type": "code",
      "source": [
        "my_circle.diameter()"
      ],
      "metadata": {
        "id": "fCxd6kwqLvaf"
      },
      "execution_count": null,
      "outputs": []
    },
    {
      "cell_type": "code",
      "source": [
        "my_circle.circumference()"
      ],
      "metadata": {
        "id": "oXA0XYYSLxbs"
      },
      "execution_count": null,
      "outputs": []
    }
  ]
}