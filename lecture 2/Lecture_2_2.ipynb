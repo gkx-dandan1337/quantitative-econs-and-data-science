{
  "nbformat": 4,
  "nbformat_minor": 0,
  "metadata": {
    "colab": {
      "provenance": []
    },
    "kernelspec": {
      "name": "python3",
      "display_name": "Python 3"
    },
    "language_info": {
      "name": "python"
    }
  },
  "cells": [
    {
      "cell_type": "markdown",
      "source": [
        "# Control Flow\n",
        "\n",
        "**Outcomes**\n",
        "\n",
        "- Asset pricing and NPV  \n",
        "  - Understand basic principles of pricing assets with deterministic payoffs  \n",
        "  - Apply programming with iteration and conditionals to asset pricing examples  \n",
        "- Conditionals  \n",
        "  - Understand what a conditional is  \n",
        "  - Be able to construct `if`/`elif`/`else` conditional blocks  \n",
        "  - Understand how conditionals can be used to selectively execute blocks of code  \n",
        "- Iteration  \n",
        "  - Understand what an iterable is  \n",
        "  - Be able to write `for` and `while` loops  \n",
        "  - Understand the keywords `break` and `continue`  "
      ],
      "metadata": {
        "id": "gTJoo5em5Wmm"
      }
    },
    {
      "cell_type": "markdown",
      "source": [
        "## Net Present Values and Asset Pricing\n",
        "\n",
        "In this lecture, we’ll introduce two related topics from economics:\n",
        "\n",
        "- Net present valuations  \n",
        "- Asset pricing  \n",
        "\n",
        "In economics and finance, “assets” provide a stream of\n",
        "payoffs.\n",
        "\n",
        "These “assets” can be concrete or abstract: a stock pays dividends over time, a\n",
        "bond pays interest, an apple tree provides apples, a job pays wages, and an\n",
        "education provides possible jobs (which, in turn, pay wages).\n",
        "\n",
        "When deciding the price to pay for an asset or how to choose between\n",
        "different alternatives, we need to take into account that most people would\n",
        "prefer to receive 1 today vs. 1 next year.\n",
        "\n",
        "This reflection on consumer preferences leads to the notion of a discount rate.\n",
        "If you are indifferent between receiving 1.00 today and 1.10 next year, then\n",
        "the discount rate over the next year is $ r = 0.10 $.\n",
        "\n",
        "If we assume that an individuals preferences are consistent over time, then we\n",
        "can apply that same discount rate to valuing assets further into the future.\n",
        "\n",
        "For example, we would expect that the consumer would be indifferent between\n",
        "consuming 1.00 today and $ (1+r)(1+r) = 1.21 $ dollars two years from now\n",
        "(i.e. discount twice).\n",
        "\n",
        "Inverting this formula, 1 delivered two years from now is equivalent to\n",
        "$ \\frac{1}{(1+r)^2} $ today."
      ],
      "metadata": {
        "id": "9IbFDFP25dYv"
      }
    },
    {
      "cell_type": "markdown",
      "source": [
        "### Exercise 1\n",
        "\n",
        "Government bonds are often issued as *zero-coupon bonds* meaning that they\n",
        "make no payments throughout the entire time that they are held, but, rather\n",
        "make a single payment at the time of maturity.\n",
        "\n",
        "How much should you be willing to pay for a zero-coupon bond that paid\n",
        "100 in 10 years with an interest rate of 5%?"
      ],
      "metadata": {
        "id": "WaPeJvzt55DB"
      }
    },
    {
      "cell_type": "code",
      "execution_count": null,
      "metadata": {
        "id": "8qOW618t5ByB"
      },
      "outputs": [],
      "source": [
        "T = 10\n",
        "D = 100\n",
        "r = 0.05"
      ]
    },
    {
      "cell_type": "code",
      "source": [
        "NPV = D/(1+r)**T\n",
        "NPV"
      ],
      "metadata": {
        "id": "Yg_Fp3RmHZIy"
      },
      "execution_count": null,
      "outputs": []
    },
    {
      "cell_type": "markdown",
      "source": [
        "### Net Present Value\n",
        "\n",
        "If an asset pays a stream of payoffs over multiple time periods, then we\n",
        "can use a discount rate to calculate the value to the consumer of a entire\n",
        "sequence of payoffs.\n",
        "\n",
        "Most generally, we enumerate each discrete time period (e.g. year, month, day) by\n",
        "the index $ t $ where today is $ t=0 $ and the asset lives for $ T $\n",
        "periods.\n",
        "\n",
        "List the payoff at each time period as $ y_t $,  which we will assume, for\n",
        "now, is known in advance.\n",
        "\n",
        "Then if the discount factor is $ r \\geq 0 $, the consumer “values” the\n",
        "payoff $ y_t $ delivered at time $ t $ as $ \\frac{1}{(1+r)^t}y_t $\n",
        "where we note that if $ t=0 $, the value is just the current payoff\n",
        "$ y_0 $.\n",
        "\n",
        "Using this logic, we can write an expression for the value of the entire\n",
        "sequence of payoffs with a sum.\n",
        "\n",
        "\n",
        "<a id='equation-eq-npv'></a>\n",
        "$$\n",
        "P_0 = \\sum_{t=0}^T \\left(\\frac{1}{1 + r}\\right)^t y_t \\tag{1}\n",
        "$$\n",
        "\n",
        "If $ y_t $ is a constant, then we can compute this sum with a simple formula!"
      ],
      "metadata": {
        "id": "dEqRc2_p6Sf1"
      }
    },
    {
      "cell_type": "markdown",
      "source": [
        "\n",
        "Below, we present some useful formulas that come from infinite series that we\n",
        "will use to get our net present value formula.\n",
        "\n",
        "For any constant $ 0 < \\beta < 1 $ and integer value $ \\tau > 0 $,\n",
        "\n",
        "\n",
        "<a id='equation-eq-infinite-sums'></a>\n",
        "$$\n",
        "\\begin{aligned}\n",
        "\\sum_{t=0}^{\\infty} \\beta^t & = \\frac{1}{1-\\beta}\\\\\n",
        "\\sum_{t=0}^{\\tau} \\beta^t &= \\frac{1- \\beta^{\\tau+1}}{1-\\beta}\\\\\n",
        "\\sum_{t=\\tau}^{\\infty} \\beta^t &=  \\frac{\\beta^{\\tau}}{1-\\beta}\n",
        "\\end{aligned} \\tag{2}\n",
        "$$\n",
        "\n",
        "In the case of an asset which pays one dollar until time $ T $, we can use\n",
        "these formulas, taking $ \\beta = \\frac{1}{1+r} $ and $ T = \\tau $, to\n",
        "find\n",
        "\n",
        "$$\n",
        "\\begin{aligned}\n",
        "P_0 &= \\sum_{t=0}^T \\left(\\frac{1}{1 + r}\\right)^t = \\frac{1- (\\frac{1}{1+r})^{\\tau+1}}{1-\\frac{1}{1+r}}\\\\\n",
        "&= \\frac{1 + r}{r} - \\frac{1}{r}\\left(\\frac{1}{1+r} \\right)^\\tau\n",
        "\\end{aligned}\n",
        "$$\n",
        "\n",
        "Note that we can also consider an asset that lives and pays forever if\n",
        "$ T= \\infty $, and from [(2)](#equation-eq-infinite-sums), the value of an asset which\n",
        "pays 1 forever is $ \\frac{1+r}{r} $."
      ],
      "metadata": {
        "id": "t5kJbWyn6h1c"
      }
    },
    {
      "cell_type": "markdown",
      "source": [
        "## Conditional Statements and Blocks\n",
        "\n",
        "Sometimes, we will only want to execute some piece of code if a certain condition\n",
        "is met.\n",
        "\n",
        "These conditions can be anything.\n",
        "\n",
        "For example, we might want to add up all incurred costs, only if the transaction happened before a certain date.\n",
        "\n",
        "We use **conditionals** to run particular pieces of code when certain criterion\n",
        "are met.\n",
        "\n",
        "Conditionals are closely tied to booleans.\n",
        "\n",
        "The basic syntax for conditionals is"
      ],
      "metadata": {
        "id": "T_BVoFMb6qFq"
      }
    },
    {
      "cell_type": "code",
      "source": [
        "if condition:\n",
        "    # code to run when condition is True\n",
        "else:\n",
        "    # code to run if no conditions above are True"
      ],
      "metadata": {
        "id": "O2a4yhRS6Ssb"
      },
      "execution_count": null,
      "outputs": []
    },
    {
      "cell_type": "markdown",
      "source": [
        "Note that immediately following the condition, there is a colon *and*\n",
        " that the next line begins with blank spaces.\n",
        "\n",
        "Using 4 spaces is a *very strong* convention, so that is what\n",
        "we do — we recommend that you do the same.\n",
        "\n",
        "Also note that the `else` clause is optional.\n",
        "\n",
        "Let’s see some simple examples."
      ],
      "metadata": {
        "id": "eQlDfYwU68s0"
      }
    },
    {
      "cell_type": "code",
      "source": [
        "if True:\n",
        "    print(\"This is where `True` code is run\")"
      ],
      "metadata": {
        "colab": {
          "base_uri": "https://localhost:8080/"
        },
        "id": "9Kl_r2uJ6860",
        "outputId": "aa2d4621-29d4-4441-babf-8380a6271076"
      },
      "execution_count": null,
      "outputs": [
        {
          "output_type": "stream",
          "name": "stdout",
          "text": [
            "This is where `True` code is run\n"
          ]
        }
      ]
    },
    {
      "cell_type": "markdown",
      "source": [
        "Alternatively, you could have a test which returns a booleans"
      ],
      "metadata": {
        "id": "NR1OzX9i7CQ1"
      }
    },
    {
      "cell_type": "code",
      "source": [
        "if 1 < 2:\n",
        "     print(\"This is where `True` code is run\")"
      ],
      "metadata": {
        "colab": {
          "base_uri": "https://localhost:8080/"
        },
        "id": "9QFQSPc47A5k",
        "outputId": "47dfe223-78ec-45bc-b17d-8c5ba75b38d9"
      },
      "execution_count": null,
      "outputs": [
        {
          "output_type": "stream",
          "name": "stdout",
          "text": [
            "This is where `True` code is run\n"
          ]
        }
      ]
    },
    {
      "cell_type": "markdown",
      "source": [
        "This example is equivalent to just typing the print statement, but the\n",
        "example below isn’t…"
      ],
      "metadata": {
        "id": "5npLxdLK7JZ3"
      }
    },
    {
      "cell_type": "code",
      "source": [
        "if False:\n",
        "    print(\"This is where `True` code is run\")"
      ],
      "metadata": {
        "id": "FASIhh4w7DbI"
      },
      "execution_count": null,
      "outputs": []
    },
    {
      "cell_type": "markdown",
      "source": [
        "Or"
      ],
      "metadata": {
        "id": "x80DHJ3v7MVf"
      }
    },
    {
      "cell_type": "code",
      "source": [
        "if 1 > 2:\n",
        "     print(\"This is where `True` code is run\")"
      ],
      "metadata": {
        "id": "5wt6Fmsi7Kq4"
      },
      "execution_count": null,
      "outputs": []
    },
    {
      "cell_type": "markdown",
      "source": [
        "Notice that when you run the cells above nothing is printed.\n",
        "\n",
        "That is because the condition for the `if` statement was not true, so the code\n",
        "inside the indented block was never run.\n",
        "\n",
        "This also allows us to demonstrate the role of indentation\n",
        "in determining the “block” of code."
      ],
      "metadata": {
        "id": "X2cL6AC77SX1"
      }
    },
    {
      "cell_type": "code",
      "source": [
        "val = False\n",
        "\n",
        "if val is True: # check an expression\n",
        "    print(\"This is where `True` code is run\")\n",
        "    print(\"More code in the if block\")\n",
        "    print(\"Code runs after 'if' block, regardless of val\")"
      ],
      "metadata": {
        "id": "x6bZENL87Ncv"
      },
      "execution_count": null,
      "outputs": []
    },
    {
      "cell_type": "code",
      "source": [
        "if val is True: # check an expression\n",
        "    print(\"This is where `True` code is run\")\n",
        "    print(\"More code in the if block\")\n",
        "print(\"Code runs after 'if' block, regardless of val\")"
      ],
      "metadata": {
        "colab": {
          "base_uri": "https://localhost:8080/"
        },
        "id": "BCPQ4q0p7UXc",
        "outputId": "5ac7f362-4a4e-4446-edca-d34a065416b8"
      },
      "execution_count": null,
      "outputs": [
        {
          "output_type": "stream",
          "name": "stdout",
          "text": [
            "Code runs after 'if' block, regardless of val\n"
          ]
        }
      ]
    },
    {
      "cell_type": "markdown",
      "source": [
        "### Exercise 2\n",
        "\n",
        "Run the following two variations on the code with only a single change in the indentation.\n",
        "\n",
        "After, modify the `x` to print `3` and then `2, 3` instead."
      ],
      "metadata": {
        "id": "m7wiplfv7i3G"
      }
    },
    {
      "cell_type": "code",
      "source": [
        "x = 1\n",
        "\n",
        "if x > 0:\n",
        "    print(\"1\")\n",
        "    print(\"2\")\n",
        "print(\"3\")"
      ],
      "metadata": {
        "colab": {
          "base_uri": "https://localhost:8080/"
        },
        "id": "6_5cmh-x7cVf",
        "outputId": "3e31ac14-a8fb-4005-d76c-556975806732"
      },
      "execution_count": null,
      "outputs": [
        {
          "output_type": "stream",
          "name": "stdout",
          "text": [
            "1\n",
            "2\n",
            "3\n"
          ]
        }
      ]
    },
    {
      "cell_type": "code",
      "source": [
        "x = 1\n",
        "\n",
        "if x > 0:\n",
        "    print(\"1\")\n",
        "print(\"2\") # changed the indentation\n",
        "print(\"3\")"
      ],
      "metadata": {
        "colab": {
          "base_uri": "https://localhost:8080/"
        },
        "id": "d6yggHsN7nsx",
        "outputId": "0db7bf37-2d37-4144-83ac-6fc02c77003f"
      },
      "execution_count": null,
      "outputs": [
        {
          "output_type": "stream",
          "name": "stdout",
          "text": [
            "1\n",
            "2\n",
            "3\n"
          ]
        }
      ]
    },
    {
      "cell_type": "markdown",
      "source": [
        "The next example shows us how `else` works."
      ],
      "metadata": {
        "id": "keNvAg6n71__"
      }
    },
    {
      "cell_type": "code",
      "source": [
        "val = (2 == 4)  # returns False\n",
        "if val is True:\n",
        "    print(\"This is where `True` code is run\")\n",
        "else:\n",
        "    print(\"This is where `False` code is run\")\n",
        "    print(\"More else code\")\n",
        "print(\"Code runs after 'if' block, regardless of val\")"
      ],
      "metadata": {
        "colab": {
          "base_uri": "https://localhost:8080/"
        },
        "id": "gNQ39f8S7pb4",
        "outputId": "bd5705a3-9ca1-4aff-c964-a39aafc223b8"
      },
      "execution_count": null,
      "outputs": [
        {
          "output_type": "stream",
          "name": "stdout",
          "text": [
            "This is where `False` code is run\n",
            "More else code\n",
            "Code runs after 'if' block, regardless of val\n"
          ]
        }
      ]
    },
    {
      "cell_type": "markdown",
      "source": [
        "The `if False: ...` part of this example is the same as the example\n",
        "before, but now, we added an `else:` clause.\n",
        "\n",
        "In this case, because the conditional for the `if` statement was not\n",
        "`True`, the if code block was not executed, but the `else` block was.\n",
        "\n",
        "Finally, the `Condition is True` is assumed in the `if` statement, and is often left out.  For example, the following are identical"
      ],
      "metadata": {
        "id": "llaySy1W8GTQ"
      }
    },
    {
      "cell_type": "code",
      "source": [
        "if (1 < 2) is True:\n",
        "    print(\"1 < 2\")\n",
        "\n",
        "if 1 < 2:\n",
        "    print(\"1 < 2\")"
      ],
      "metadata": {
        "colab": {
          "base_uri": "https://localhost:8080/"
        },
        "id": "nB1FS6xP73hn",
        "outputId": "9e32582e-a26a-4d1a-80cb-3559a038cc1d"
      },
      "execution_count": null,
      "outputs": [
        {
          "output_type": "stream",
          "name": "stdout",
          "text": [
            "1 < 2\n",
            "1 < 2\n"
          ]
        }
      ]
    },
    {
      "cell_type": "markdown",
      "source": [
        "### Exercise 3\n",
        "\n",
        "Using the code cell below as a start, print `\"Good afternoon\"` if the\n",
        "`current_time` is past noon.\n",
        "\n",
        "Otherwise, do nothing.\n",
        "\n",
        "Write some conditional based on `current_time.hour`."
      ],
      "metadata": {
        "id": "PbLV25SQ8T68"
      }
    },
    {
      "cell_type": "code",
      "source": [
        "import datetime\n",
        "current_time = datetime.datetime.now()\n",
        "\n",
        "## your code here\n",
        "current_time.hour"
      ],
      "metadata": {
        "id": "98T7Yb9W8JcR"
      },
      "execution_count": null,
      "outputs": []
    },
    {
      "cell_type": "code",
      "source": [
        "if  current_time.hour > 12:\n",
        "    print(\"Good afternoon\")"
      ],
      "metadata": {
        "id": "D_Yc9km7Hpvo"
      },
      "execution_count": null,
      "outputs": []
    },
    {
      "cell_type": "markdown",
      "source": [
        "### Exercise 4\n",
        "\n",
        "In this example, you will generate a random number between 0 and 1\n",
        "and then display “x > 0.5” or “x < 0.5” depending on the value of the\n",
        "number.\n",
        "\n",
        "This also introduces a new package `numpy.random` for\n",
        "drawing random numbers"
      ],
      "metadata": {
        "id": "rdabZy3n87gy"
      }
    },
    {
      "cell_type": "code",
      "source": [
        "import numpy as np\n",
        "x = np.random.random()\n",
        "print(f\"x = {x}\")\n",
        "\n",
        "## your code here\n"
      ],
      "metadata": {
        "id": "rpgzBDg187r9"
      },
      "execution_count": null,
      "outputs": []
    },
    {
      "cell_type": "markdown",
      "source": [
        "### `elif` clauses\n",
        "\n",
        "Sometimes, you have more than one condition you want to check.\n",
        "\n",
        "For example, you might want to run a different set of code based on which\n",
        "quarter a particular transaction took place in.\n",
        "\n",
        "In this case you could check whether the date is in Q1, or in Q2, or in Q3, or if not\n",
        "any of these it must be in Q4.\n",
        "\n",
        "The way to express this type of conditional is to use one or more `elif`\n",
        "clause in addition to the `if` and the `else`.\n",
        "\n",
        "The syntax is"
      ],
      "metadata": {
        "id": "RF8HMzcz9zyl"
      }
    },
    {
      "cell_type": "code",
      "source": [
        "if condition1:\n",
        "    # code to run when condition1 is True\n",
        "elif condition2:\n",
        "    # code to run when condition2 is True\n",
        "elif condition3:\n",
        "    # code to run when condition3 is True\n",
        "else:\n",
        "    # code to run when none of the above are true"
      ],
      "metadata": {
        "id": "T-bWCwSx9z_9"
      },
      "execution_count": null,
      "outputs": []
    },
    {
      "cell_type": "markdown",
      "source": [
        "You can include as many `elif` clauses as you want.\n",
        "\n",
        "As before, the `else` part is optional.\n",
        "\n",
        "Here’s how we might express the quarter example referred to above."
      ],
      "metadata": {
        "id": "W7uFXs1MNco8"
      }
    },
    {
      "cell_type": "code",
      "source": [
        "import datetime\n",
        "halloween = datetime.date(2017, 10, 31)\n",
        "\n",
        "if halloween.month > 9:\n",
        "    print(\"Halloween is in Q4\")\n",
        "elif halloween.month > 6:\n",
        "    print(\"Halloween is in Q3\")\n",
        "elif halloween.month > 3:\n",
        "    print(\"Halloween is in Q2\")\n",
        "else:\n",
        "    print(\"Halloween is in Q1\")"
      ],
      "metadata": {
        "colab": {
          "base_uri": "https://localhost:8080/"
        },
        "id": "FiO7xFqFNc2q",
        "outputId": "28fd54bc-69e2-41bf-9230-196745a82b1d"
      },
      "execution_count": null,
      "outputs": [
        {
          "output_type": "stream",
          "name": "stdout",
          "text": [
            "Halloween is in Q4\n"
          ]
        }
      ]
    },
    {
      "cell_type": "markdown",
      "source": [
        "Note that when there are multiple `if` or `elif` conditions, only the code\n",
        "corresponding to the **first** true clause is run."
      ],
      "metadata": {
        "id": "vDsrEeAHNwuw"
      }
    },
    {
      "cell_type": "markdown",
      "source": [
        "We saw this in action above.\n",
        "\n",
        "We know that when `halloween.month > 9` is true, then `halloween.month > 6`\n",
        "and `halloween.month > 3` must also be true, but only the code block\n",
        "associated with `halloween.month > 9` was printed."
      ],
      "metadata": {
        "id": "sgMp0Au1Nyh5"
      }
    },
    {
      "cell_type": "markdown",
      "source": [
        "## Iteration\n",
        "\n",
        "When doing computations or analyzing data, we often need to repeat certain\n",
        "operations a finite number of times or until some condition is met.\n",
        "\n",
        "Examples include processing all data files in a directory (folder), aggregating\n",
        "revenues and costs for every period in a year, or computing the net present\n",
        "value of certain assets. (In fact, later in this section, we will verify the equations\n",
        "that we wrote down above.)\n",
        "\n",
        "These are all examples of a programming concept called iteration.\n",
        "\n",
        "We feel the concept is best understood through example, so we will present a\n",
        "contrived example and then discuss the details behind doing iteration in Python."
      ],
      "metadata": {
        "id": "jfXus2kUN81G"
      }
    },
    {
      "cell_type": "markdown",
      "source": [
        "### A Contrived Example\n",
        "\n",
        "Suppose we wanted to print out the first 10 integers and their squares.\n",
        "\n",
        "We *could* do something like this."
      ],
      "metadata": {
        "id": "7Edri9cgOCXn"
      }
    },
    {
      "cell_type": "code",
      "source": [
        "print(f\"1**2 = {1**2}\")\n",
        "print(f\"2**2 = {2**2}\")\n",
        "print(f\"3**2 = {3**2}\")\n",
        "print(f\"4**2 = {4**2}\")\n",
        "# .. and so on until 10"
      ],
      "metadata": {
        "colab": {
          "base_uri": "https://localhost:8080/"
        },
        "id": "oxXsUNiiNeft",
        "outputId": "0fdce829-6602-4a7a-b0c7-e212128500df"
      },
      "execution_count": null,
      "outputs": [
        {
          "output_type": "stream",
          "name": "stdout",
          "text": [
            "1**2 = 1\n",
            "2**2 = 4\n",
            "3**2 = 9\n",
            "4**2 = 16\n"
          ]
        }
      ]
    },
    {
      "cell_type": "markdown",
      "source": [
        "As you can see, the code above is repetitive.\n",
        "\n",
        "For each integer, the code is exactly the same except for the two places where\n",
        "the “current” integer appears.\n",
        "\n",
        "Suppose that I asked you to write the same print statement for an int stored in\n",
        "a variable named `i`.\n",
        "\n",
        "You might write the following code:"
      ],
      "metadata": {
        "id": "pNr9bXlzOHf3"
      }
    },
    {
      "cell_type": "code",
      "source": [
        "print(f\"{i}**2 = {i**2}\")"
      ],
      "metadata": {
        "colab": {
          "base_uri": "https://localhost:8080/",
          "height": 144
        },
        "id": "O1eCj5v0ODmq",
        "outputId": "2257a08a-b4d6-4f84-e03d-60d7bcc8b292"
      },
      "execution_count": null,
      "outputs": [
        {
          "output_type": "error",
          "ename": "NameError",
          "evalue": "name 'i' is not defined",
          "traceback": [
            "\u001b[0;31m---------------------------------------------------------------------------\u001b[0m",
            "\u001b[0;31mNameError\u001b[0m                                 Traceback (most recent call last)",
            "\u001b[0;32m<ipython-input-14-37410fa172f6>\u001b[0m in \u001b[0;36m<cell line: 1>\u001b[0;34m()\u001b[0m\n\u001b[0;32m----> 1\u001b[0;31m \u001b[0mprint\u001b[0m\u001b[0;34m(\u001b[0m\u001b[0;34mf\"{i}**2 = {i**2}\"\u001b[0m\u001b[0;34m)\u001b[0m\u001b[0;34m\u001b[0m\u001b[0;34m\u001b[0m\u001b[0m\n\u001b[0m",
            "\u001b[0;31mNameError\u001b[0m: name 'i' is not defined"
          ]
        }
      ]
    },
    {
      "cell_type": "markdown",
      "source": [
        "This more general version of the operation suggests a strategy for achieving our\n",
        "goal with less repetition: have a variable `i` take on the values 1 through 10\n",
        "(Quiz: How can we use `range` to create the numbers 1 to 10?) and run the line\n",
        "of code above for each new value of `i`.\n",
        "\n",
        "This can be accomplished with a `for` loop!"
      ],
      "metadata": {
        "id": "QfVhgrbvRtH3"
      }
    },
    {
      "cell_type": "code",
      "source": [
        "for i in range(1, 11):\n",
        "     print(f\"{i}**2 = {i**2}\")"
      ],
      "metadata": {
        "colab": {
          "base_uri": "https://localhost:8080/"
        },
        "id": "o1iFBidHRrUG",
        "outputId": "cd1447b2-85e9-4b47-dadf-a84047a76f9b"
      },
      "execution_count": null,
      "outputs": [
        {
          "output_type": "stream",
          "name": "stdout",
          "text": [
            "1**2 = 1\n",
            "2**2 = 4\n",
            "3**2 = 9\n",
            "4**2 = 16\n",
            "5**2 = 25\n",
            "6**2 = 36\n",
            "7**2 = 49\n",
            "8**2 = 64\n",
            "9**2 = 81\n",
            "10**2 = 100\n"
          ]
        }
      ]
    },
    {
      "cell_type": "markdown",
      "source": [
        "The integer `i` took on the values in `range(1, 11)` one by one and\n",
        "for each new value it did the operations in the indented block (here\n",
        "just one line that called the `print` function)."
      ],
      "metadata": {
        "id": "mpXs5kpsR3XE"
      }
    },
    {
      "cell_type": "markdown",
      "source": [
        "### `for` Loops\n",
        "\n",
        "The general structure of a standard `for` loop is as follows."
      ],
      "metadata": {
        "id": "Uw7lKVDoTe1i"
      }
    },
    {
      "cell_type": "code",
      "source": [
        "for item in iterable:\n",
        "   # operation 1 with item\n",
        "   # operation 2 with item\n",
        "   # ...\n",
        "   # operation N with item"
      ],
      "metadata": {
        "colab": {
          "base_uri": "https://localhost:8080/",
          "height": 108
        },
        "id": "6NS3qa-1RysG",
        "outputId": "80134101-e727-4321-a8ef-1cfdeeaf100d"
      },
      "execution_count": null,
      "outputs": [
        {
          "output_type": "error",
          "ename": "SyntaxError",
          "evalue": "incomplete input (<ipython-input-16-e71824544ce0>, line 5)",
          "traceback": [
            "\u001b[0;36m  File \u001b[0;32m\"<ipython-input-16-e71824544ce0>\"\u001b[0;36m, line \u001b[0;32m5\u001b[0m\n\u001b[0;31m    # operation N with item\u001b[0m\n\u001b[0m                           ^\u001b[0m\n\u001b[0;31mSyntaxError\u001b[0m\u001b[0;31m:\u001b[0m incomplete input\n"
          ]
        }
      ]
    },
    {
      "cell_type": "markdown",
      "source": [
        "where `iterable` is anything capable of producing one item at a time (see\n",
        "[here](https://docs.python.org/3/glossary.html#term-iterable) for official\n",
        "definition from the Python team).\n",
        "\n",
        "We’ve actually already seen some of the most common iterables!\n",
        "\n",
        "Lists, tuples,\n",
        "dicts, and range/zip/enumerate objects are all iterables.\n",
        "\n",
        "Note that we can have as many operations as we want inside the indented block.\n",
        "\n",
        "We will refer to the indented block as the “body” of the loop.\n",
        "\n",
        "When the for loop is executed, `item` will take on one value from `iterable`\n",
        "at a time and execute the loop body for each value.\n",
        "\n"
      ],
      "metadata": {
        "id": "aQSRAvD3TqkN"
      }
    },
    {
      "cell_type": "markdown",
      "source": [
        "When iterating, each `item` in `iterable` might actually contain more than\n",
        "one value.\n",
        "\n",
        "Recall that tuples (and lists) can be unpacked directly into variables."
      ],
      "metadata": {
        "id": "vRmDhb6nUNWH"
      }
    },
    {
      "cell_type": "code",
      "source": [
        "tup = (4, \"test\")\n",
        "i, x = tup\n",
        "print(f\"i = {i}, x = {x}, tup = {tup}\")"
      ],
      "metadata": {
        "colab": {
          "base_uri": "https://localhost:8080/"
        },
        "id": "wFqZwA2zUO-t",
        "outputId": "fa244625-ce8f-465d-dedf-5c4fa131bac2"
      },
      "execution_count": null,
      "outputs": [
        {
          "output_type": "stream",
          "name": "stdout",
          "text": [
            "i = 4, x = test, tup = (4, 'test')\n"
          ]
        }
      ]
    },
    {
      "cell_type": "markdown",
      "source": [
        "Also, recall that the value of a `enumerate(iterable)` is a tuple of the\n",
        "form `(i, x)` where `iterable[i] == x`.\n",
        "\n",
        "When we use `enumerate` in a for loop, we can “unpack” both values at the same\n",
        "time as follows:"
      ],
      "metadata": {
        "id": "DbfiQsSMUZ2M"
      }
    },
    {
      "cell_type": "code",
      "source": [
        "# revenue by quarter\n",
        "company_revenue = [5.12, 5.20, 5.50, 6.50]\n",
        "\n",
        "for index, value in enumerate(company_revenue):\n",
        "    print(f\"quarter {index} revenue is ${value} million\")"
      ],
      "metadata": {
        "colab": {
          "base_uri": "https://localhost:8080/"
        },
        "id": "kcruP2t5UUOf",
        "outputId": "ef2e67ac-88c8-41b7-d416-97cd60dfb919"
      },
      "execution_count": null,
      "outputs": [
        {
          "output_type": "stream",
          "name": "stdout",
          "text": [
            "quarter 0 revenue is $5.12 million\n",
            "quarter 1 revenue is $5.2 million\n",
            "quarter 2 revenue is $5.5 million\n",
            "quarter 3 revenue is $6.5 million\n"
          ]
        }
      ]
    },
    {
      "cell_type": "markdown",
      "source": [
        "Similarly, the index can be used to access another vector."
      ],
      "metadata": {
        "id": "n4mziSekUiey"
      }
    },
    {
      "cell_type": "code",
      "source": [
        "cities = [\"Phoenix\", \"Austin\", \"San Diego\", \"New York\"]\n",
        "states = [\"Arizona\", \"Texas\", \"California\", \"New York\"]\n",
        "for index, city in enumerate(cities):\n",
        "    state = states[index]\n",
        "    print(f\"{city} is in {state}\")"
      ],
      "metadata": {
        "colab": {
          "base_uri": "https://localhost:8080/"
        },
        "id": "4JnbmBzhUcqS",
        "outputId": "8bcd7af5-f4b8-4f16-f0aa-ff85d5cab09e"
      },
      "execution_count": null,
      "outputs": [
        {
          "output_type": "stream",
          "name": "stdout",
          "text": [
            "Phoenix is in Arizona\n",
            "Austin is in Texas\n",
            "San Diego is in California\n",
            "New York is in New York\n"
          ]
        }
      ]
    },
    {
      "cell_type": "markdown",
      "source": [
        "### Exercise 5\n",
        "\n",
        "Instead of the above, write a for loop that uses the lists of cities\n",
        "and states below to print the same “{city} is in {state}” using\n",
        "a `zip` instead of an `enumerate`.\n",
        "\n",
        "Try using `zip`"
      ],
      "metadata": {
        "id": "d2DjELS2UpwS"
      }
    },
    {
      "cell_type": "code",
      "source": [
        "cities = [\"Phoenix\", \"Austin\", \"San Diego\", \"New York\"]\n",
        "states = [\"Arizona\", \"Texas\", \"California\", \"New York\"]\n",
        "\n",
        "# Your code here"
      ],
      "metadata": {
        "id": "PgvzxgWxUjvh"
      },
      "execution_count": null,
      "outputs": []
    },
    {
      "cell_type": "markdown",
      "source": [
        "### `while` Loops\n",
        "\n",
        "A related but slightly different form of iteration is to repeat something\n",
        "until some condition is met.\n",
        "\n",
        "This is typically achieved using a `while` loop.\n",
        "\n",
        "The structure of a while loop is"
      ],
      "metadata": {
        "id": "IsFr61i6WtHs"
      }
    },
    {
      "cell_type": "code",
      "source": [
        "while True_condition:\n",
        "    # repeat these steps"
      ],
      "metadata": {
        "id": "-PMaeUAJUwO6"
      },
      "execution_count": null,
      "outputs": []
    },
    {
      "cell_type": "markdown",
      "source": [
        "where `True_condition` is some conditional statement that should evaluate to\n",
        "`True` when iterations should continue and `False` when Python should stop\n",
        "iterating.\n",
        "\n",
        "For example, suppose we wanted to know the smallest `N` such that\n",
        "$ \\sum_{i=0}^N i > 1000 $.\n",
        "\n",
        "We figure this out using a while loop as follows."
      ],
      "metadata": {
        "id": "5G346BkuXCQf"
      }
    },
    {
      "cell_type": "code",
      "source": [
        "total = 0\n",
        "i = 0\n",
        "while total <= 1000:\n",
        "    i = i + 1\n",
        "    total = total + i\n",
        "\n",
        "print(\"The answer is\", i)"
      ],
      "metadata": {
        "colab": {
          "base_uri": "https://localhost:8080/"
        },
        "id": "z0SjcYjjXCjk",
        "outputId": "36dab029-d6d4-4f6b-f9c0-c75abd1e1626"
      },
      "execution_count": null,
      "outputs": [
        {
          "output_type": "stream",
          "name": "stdout",
          "text": [
            "The answer is 45\n"
          ]
        }
      ]
    },
    {
      "cell_type": "markdown",
      "source": [
        "Let’s check our work."
      ],
      "metadata": {
        "id": "J6wN_kD3Xvsg"
      }
    },
    {
      "cell_type": "code",
      "source": [
        "# Should be just less than 1000 because range(45) goes from 0 to 44\n",
        "sum(range(45))"
      ],
      "metadata": {
        "colab": {
          "base_uri": "https://localhost:8080/"
        },
        "id": "mf8hy-KFXvet",
        "outputId": "19f63715-fd71-4a54-8098-e6d3210bfb48"
      },
      "execution_count": null,
      "outputs": [
        {
          "output_type": "execute_result",
          "data": {
            "text/plain": [
              "990"
            ]
          },
          "metadata": {},
          "execution_count": 23
        }
      ]
    },
    {
      "cell_type": "code",
      "source": [
        "# should be between 990 + 45 = 1035\n",
        "sum(range(46))"
      ],
      "metadata": {
        "colab": {
          "base_uri": "https://localhost:8080/"
        },
        "id": "GeiqOUe3XtH-",
        "outputId": "841a9fd7-db75-4e26-c737-e78a2289e24d"
      },
      "execution_count": null,
      "outputs": [
        {
          "output_type": "execute_result",
          "data": {
            "text/plain": [
              "1035"
            ]
          },
          "metadata": {},
          "execution_count": 24
        }
      ]
    },
    {
      "cell_type": "markdown",
      "source": [
        "A warning: one common programming error with while loops is to forget to\n",
        "set the variable you use in the condition prior to executing.  For example,\n",
        "take the following code which correctly sets a counter"
      ],
      "metadata": {
        "id": "XUpMCCLCX1ca"
      }
    },
    {
      "cell_type": "code",
      "source": [
        "i = 0"
      ],
      "metadata": {
        "id": "Sprh7O0FXx9P"
      },
      "execution_count": null,
      "outputs": []
    },
    {
      "cell_type": "markdown",
      "source": [
        "And then executes a while loop"
      ],
      "metadata": {
        "id": "YxNcFcDVX9qW"
      }
    },
    {
      "cell_type": "code",
      "source": [
        "while i < 3:\n",
        "    print(i)\n",
        "    i = i + 1\n",
        "print(\"done\")"
      ],
      "metadata": {
        "colab": {
          "base_uri": "https://localhost:8080/"
        },
        "id": "emb8SBSEX8fu",
        "outputId": "853342f5-f20b-4399-ee2a-0f7aeb19827f"
      },
      "execution_count": null,
      "outputs": [
        {
          "output_type": "stream",
          "name": "stdout",
          "text": [
            "0\n",
            "1\n",
            "2\n",
            "done\n"
          ]
        }
      ]
    },
    {
      "cell_type": "markdown",
      "source": [
        "No problems.  But if you were to execute the above cell again, or another cell, the `i=3` remains, and code is never executed (since `i < 3` begins as False)."
      ],
      "metadata": {
        "id": "rMLwozzUYCmZ"
      }
    },
    {
      "cell_type": "code",
      "source": [
        "while i < 3:\n",
        "    print(i)\n",
        "    i = i + 1\n",
        "print(\"done\")"
      ],
      "metadata": {
        "colab": {
          "base_uri": "https://localhost:8080/"
        },
        "id": "X-PZKdTWX_Pg",
        "outputId": "1078ea08-9de6-4632-d311-1b5fa735d1f1"
      },
      "execution_count": null,
      "outputs": [
        {
          "output_type": "stream",
          "name": "stdout",
          "text": [
            "done\n"
          ]
        }
      ]
    },
    {
      "cell_type": "markdown",
      "source": [
        "### Exercise 7\n",
        "\n",
        "Companies often invest in training their employees to raise their\n",
        "productivity. Economists sometimes wonder why companies\n",
        "spend this money when this incentivizes other companies to hire\n",
        "their employees away with higher salaries since employees gain human capital from training?\n",
        "\n",
        "Let’s say that it costs a company 25,000 dollars to teach their\n",
        "employees Python, but it raises their output by 2,500 per month. How\n",
        "many months would an employee need to stay for the company to find it\n",
        "profitable to pay for their employees to learn Python if their discount\n",
        "rate is r = 0.01?"
      ],
      "metadata": {
        "id": "2SvstZsuYS9R"
      }
    },
    {
      "cell_type": "code",
      "source": [
        "# Define cost of teaching python\n",
        "cost = 25_000\n",
        "r = 0.01\n",
        "\n",
        "# Per month value\n",
        "added_value = 2500\n",
        "\n",
        "n_months = 0\n",
        "total_npv = 0.0\n",
        "\n",
        "# Put condition below here\n",
        "while False: # (replace False with your condition here)\n",
        "    n_months = n_months + 1  # Increment how many months they've worked\n",
        "\n",
        "    # Increase total_npv"
      ],
      "metadata": {
        "id": "BbmBy8agYDqp"
      },
      "execution_count": null,
      "outputs": []
    },
    {
      "cell_type": "markdown",
      "source": [
        "### `break` and `continue`"
      ],
      "metadata": {
        "id": "97N_c1E-YgGl"
      }
    },
    {
      "cell_type": "markdown",
      "source": [
        "#### `break` Out of a Loop\n",
        "\n",
        "Sometimes we want to stop a loop early if some condition is met.\n",
        "\n",
        "Let’s revisit the example of finding the smallest `N` such that\n",
        "$ \\sum_{i=0}^N i > 1000 $.\n",
        "\n",
        "Clearly `N` must be less than 1000, so we know we will find the answer\n",
        "if we start with a `for` loop over all items in `range(1001)`.\n",
        "\n",
        "Then, we can keep a running total as we proceed and tell Python to stop\n",
        "iterating through our range once total goes above 1000."
      ],
      "metadata": {
        "id": "ggT8QTB8Yhnf"
      }
    },
    {
      "cell_type": "code",
      "source": [
        "total = 0\n",
        "for i in range(1001):\n",
        "    total = total + i\n",
        "    if total > 1000:\n",
        "        break\n",
        "\n",
        "print(\"The answer is\", i)"
      ],
      "metadata": {
        "colab": {
          "base_uri": "https://localhost:8080/"
        },
        "id": "l7BtnD7tYagh",
        "outputId": "5e1090bb-0e2c-4cc7-d647-56fe9d551922"
      },
      "execution_count": null,
      "outputs": [
        {
          "output_type": "stream",
          "name": "stdout",
          "text": [
            "The answer is 45\n"
          ]
        }
      ]
    },
    {
      "cell_type": "markdown",
      "source": [
        "### Exercise 8\n",
        "\n",
        "Try to find the index of the first value in `x`\n",
        "that is greater than 0.999 using a for loop and `break`.\n",
        "\n",
        "try iterating over `range(len(x))`."
      ],
      "metadata": {
        "id": "duZrEkXyYvur"
      }
    },
    {
      "cell_type": "code",
      "source": [
        "x = np.random.rand(10_000)\n",
        "# Your code here"
      ],
      "metadata": {
        "colab": {
          "base_uri": "https://localhost:8080/",
          "height": 161
        },
        "id": "aDN9gxG7YoMT",
        "outputId": "10a84ba4-133b-41d7-d3b2-d68a00e78ff4"
      },
      "execution_count": null,
      "outputs": [
        {
          "output_type": "error",
          "ename": "NameError",
          "evalue": "name 'np' is not defined",
          "traceback": [
            "\u001b[0;31m---------------------------------------------------------------------------\u001b[0m",
            "\u001b[0;31mNameError\u001b[0m                                 Traceback (most recent call last)",
            "\u001b[0;32m<ipython-input-30-ebc169c72271>\u001b[0m in \u001b[0;36m<cell line: 1>\u001b[0;34m()\u001b[0m\n\u001b[0;32m----> 1\u001b[0;31m \u001b[0mx\u001b[0m \u001b[0;34m=\u001b[0m \u001b[0mnp\u001b[0m\u001b[0;34m.\u001b[0m\u001b[0mrandom\u001b[0m\u001b[0;34m.\u001b[0m\u001b[0mrand\u001b[0m\u001b[0;34m(\u001b[0m\u001b[0;36m10_000\u001b[0m\u001b[0;34m)\u001b[0m\u001b[0;34m\u001b[0m\u001b[0;34m\u001b[0m\u001b[0m\n\u001b[0m\u001b[1;32m      2\u001b[0m \u001b[0;31m# Your code here\u001b[0m\u001b[0;34m\u001b[0m\u001b[0;34m\u001b[0m\u001b[0m\n",
            "\u001b[0;31mNameError\u001b[0m: name 'np' is not defined"
          ]
        }
      ]
    },
    {
      "cell_type": "markdown",
      "source": [
        "#### `continue` to the Next Iteration\n",
        "\n",
        "Sometimes we might want to stop the *body of a loop* early if a condition is met.\n",
        "\n",
        "To do this we can use the `continue` keyword.\n",
        "\n",
        "The basic syntax for doing this is:"
      ],
      "metadata": {
        "id": "ZAtCtMXfZF_x"
      }
    },
    {
      "cell_type": "code",
      "source": [
        "for item in iterable:\n",
        "    # always do these operations\n",
        "    if condition:\n",
        "        continue\n",
        "\n",
        "    # only do these operations if condition is False"
      ],
      "metadata": {
        "colab": {
          "base_uri": "https://localhost:8080/",
          "height": 215
        },
        "id": "6_71mJrJY0I3",
        "outputId": "8c9d4074-c412-4fb4-f22b-ecd0b4863225"
      },
      "execution_count": null,
      "outputs": [
        {
          "output_type": "error",
          "ename": "NameError",
          "evalue": "name 'iterable' is not defined",
          "traceback": [
            "\u001b[0;31m---------------------------------------------------------------------------\u001b[0m",
            "\u001b[0;31mNameError\u001b[0m                                 Traceback (most recent call last)",
            "\u001b[0;32m<ipython-input-31-52f86a73c4b8>\u001b[0m in \u001b[0;36m<cell line: 1>\u001b[0;34m()\u001b[0m\n\u001b[0;32m----> 1\u001b[0;31m \u001b[0;32mfor\u001b[0m \u001b[0mitem\u001b[0m \u001b[0;32min\u001b[0m \u001b[0miterable\u001b[0m\u001b[0;34m:\u001b[0m\u001b[0;34m\u001b[0m\u001b[0;34m\u001b[0m\u001b[0m\n\u001b[0m\u001b[1;32m      2\u001b[0m     \u001b[0;31m# always do these operations\u001b[0m\u001b[0;34m\u001b[0m\u001b[0;34m\u001b[0m\u001b[0m\n\u001b[1;32m      3\u001b[0m     \u001b[0;32mif\u001b[0m \u001b[0mcondition\u001b[0m\u001b[0;34m:\u001b[0m\u001b[0;34m\u001b[0m\u001b[0;34m\u001b[0m\u001b[0m\n\u001b[1;32m      4\u001b[0m         \u001b[0;32mcontinue\u001b[0m\u001b[0;34m\u001b[0m\u001b[0;34m\u001b[0m\u001b[0m\n\u001b[1;32m      5\u001b[0m \u001b[0;34m\u001b[0m\u001b[0m\n",
            "\u001b[0;31mNameError\u001b[0m: name 'iterable' is not defined"
          ]
        }
      ]
    },
    {
      "cell_type": "markdown",
      "source": [
        "Inside the loop body, Python will stop that loop iteration of the loop and continue directly to the next iteration when it encounters the `continue` statement."
      ],
      "metadata": {
        "id": "-lCcgj0qZLmY"
      }
    },
    {
      "cell_type": "markdown",
      "source": [
        "\n",
        "For example, suppose I ask you to loop over the numbers 1 to 10 and print out\n",
        "the message “{i} An odd number!” whenever the number `i` is odd, and do\n",
        "nothing otherwise.\n",
        "\n",
        "You can use continue to do this as follows:"
      ],
      "metadata": {
        "id": "MjuSS4sKZPsE"
      }
    },
    {
      "cell_type": "code",
      "source": [
        "for i in range(1, 11):\n",
        "    if i % 2 == 0:  # an even number... This is modulus division\n",
        "        continue\n",
        "\n",
        "    print(i, \"is an odd number!\")"
      ],
      "metadata": {
        "colab": {
          "base_uri": "https://localhost:8080/"
        },
        "id": "MeeflrLpZSyL",
        "outputId": "454296a7-4a88-4f55-9e6a-8899eaedabe9"
      },
      "execution_count": null,
      "outputs": [
        {
          "output_type": "stream",
          "name": "stdout",
          "text": [
            "1 is an odd number!\n",
            "3 is an odd number!\n",
            "5 is an odd number!\n",
            "7 is an odd number!\n",
            "9 is an odd number!\n"
          ]
        }
      ]
    },
    {
      "cell_type": "markdown",
      "source": [
        "### Exercise 9\n",
        "\n",
        "Write a for loop that adds up all values in `x` that are greater than\n",
        "or equal to 0.5.\n",
        "\n",
        "Use the `continue` word to end the body of the loop early for all values\n",
        "of `x` that are less than 0.5.\n",
        "\n",
        "Try starting your loop with `for value in x:` instead of\n",
        "iterating over the indices of `x`."
      ],
      "metadata": {
        "id": "uhneGD7NZbpp"
      }
    },
    {
      "cell_type": "code",
      "source": [
        "x = np.random.rand(10_000)\n",
        "# Your code here"
      ],
      "metadata": {
        "colab": {
          "base_uri": "https://localhost:8080/",
          "height": 161
        },
        "id": "1NK1Xf03ZKJ-",
        "outputId": "8a83e22b-b3f8-4660-c247-dac2d3f0b26e"
      },
      "execution_count": null,
      "outputs": [
        {
          "output_type": "error",
          "ename": "NameError",
          "evalue": "name 'np' is not defined",
          "traceback": [
            "\u001b[0;31m---------------------------------------------------------------------------\u001b[0m",
            "\u001b[0;31mNameError\u001b[0m                                 Traceback (most recent call last)",
            "\u001b[0;32m<ipython-input-33-ebc169c72271>\u001b[0m in \u001b[0;36m<cell line: 1>\u001b[0;34m()\u001b[0m\n\u001b[0;32m----> 1\u001b[0;31m \u001b[0mx\u001b[0m \u001b[0;34m=\u001b[0m \u001b[0mnp\u001b[0m\u001b[0;34m.\u001b[0m\u001b[0mrandom\u001b[0m\u001b[0;34m.\u001b[0m\u001b[0mrand\u001b[0m\u001b[0;34m(\u001b[0m\u001b[0;36m10_000\u001b[0m\u001b[0;34m)\u001b[0m\u001b[0;34m\u001b[0m\u001b[0;34m\u001b[0m\u001b[0m\n\u001b[0m\u001b[1;32m      2\u001b[0m \u001b[0;31m# Your code here\u001b[0m\u001b[0;34m\u001b[0m\u001b[0;34m\u001b[0m\u001b[0m\n",
            "\u001b[0;31mNameError\u001b[0m: name 'np' is not defined"
          ]
        }
      ]
    },
    {
      "cell_type": "markdown",
      "source": [
        "## Comprehension\n",
        "\n",
        "Often, we will want to perform a very simple operation for every element of some iterable and\n",
        "create a new iterable with these values.\n",
        "\n",
        "This could be done by writing a for loop and saving each\n",
        "value, but often using what is called a *comprehension* is more readable.\n",
        "\n",
        "- List comprehension offers a shorter syntax when you want to create a new list based on the values of an existing list.\n",
        "\n",
        "Like many Python concepts, a comprehension is easiest to understand through example.\n",
        "\n",
        "Imagine that we have a list `x` with a list of numbers. We would like to create a list `x2` which has\n",
        "the squared values of x."
      ],
      "metadata": {
        "id": "4wi01-NyZtJv"
      }
    },
    {
      "cell_type": "code",
      "source": [
        "x = list(range(4))\n",
        "\n",
        "# Create squared values with a loop\n",
        "x2_loop = []\n",
        "for x_val in x:\n",
        "    x2_loop.append(x_val**2)\n",
        "\n",
        "# Create squared values with a comprehension\n",
        "x2_comp = [x_val**2 for x_val in x]\n",
        "\n",
        "print(x2_loop)\n",
        "print(x2_comp)"
      ],
      "metadata": {
        "colab": {
          "base_uri": "https://localhost:8080/"
        },
        "id": "xMfddCVjZkeU",
        "outputId": "3f18c295-b85f-4208-9d2d-f51617c302f3"
      },
      "execution_count": null,
      "outputs": [
        {
          "output_type": "stream",
          "name": "stdout",
          "text": [
            "[0, 1, 4, 9]\n",
            "[0, 1, 4, 9]\n"
          ]
        }
      ]
    },
    {
      "cell_type": "markdown",
      "source": [
        "Notice that much of the same text appears when we do the operation in the loop and when we do the\n",
        "operation with the comprehension.\n",
        "\n",
        "- We need to specify what we are iterating over – in both cases, this is `for x_val in x`.  \n",
        "- We need to square each element `x_val**2`.  \n",
        "- It needs to be stored somewhere – in `x2_loop`, this is done by appending each element to a list,\n",
        "  and in `x2_comp`, this is done automatically because the operation is enclosed in a list.  \n",
        "\n",
        "\n",
        "We can do comprehension with many different types of iterables, so we demonstrate a few more below."
      ],
      "metadata": {
        "id": "-8M9I_eUaReL"
      }
    },
    {
      "cell_type": "code",
      "source": [
        "# Create a dictionary from lists\n",
        "tickers = [\"AAPL\", \"GOOGL\", \"TVIX\"]\n",
        "prices = [175.96, 1047.43, 8.38]\n",
        "d = {key: value for key, value in zip(tickers, prices)}\n",
        "d"
      ],
      "metadata": {
        "colab": {
          "base_uri": "https://localhost:8080/"
        },
        "id": "hxWl9HOhZ0YY",
        "outputId": "659d1f29-0710-4289-f501-1e7b0f7ed7e1"
      },
      "execution_count": null,
      "outputs": [
        {
          "output_type": "execute_result",
          "data": {
            "text/plain": [
              "{'AAPL': 175.96, 'GOOGL': 1047.43, 'TVIX': 8.38}"
            ]
          },
          "metadata": {},
          "execution_count": 35
        }
      ]
    },
    {
      "cell_type": "code",
      "source": [
        "# Create a list from a dictionary\n",
        "d = {\"AMZN\": \"Seattle\", \"TVIX\": \"Zurich\", \"AAPL\": \"Cupertino\"}\n",
        "\n",
        "hq_cities = [d[ticker] for ticker in d.keys()]\n",
        "hq_cities"
      ],
      "metadata": {
        "colab": {
          "base_uri": "https://localhost:8080/"
        },
        "id": "BNTnA8iPaWZY",
        "outputId": "e3de13bc-1417-48df-fe3a-21d6579d47e5"
      },
      "execution_count": null,
      "outputs": [
        {
          "output_type": "execute_result",
          "data": {
            "text/plain": [
              "['Seattle', 'Zurich', 'Cupertino']"
            ]
          },
          "metadata": {},
          "execution_count": 36
        }
      ]
    },
    {
      "cell_type": "code",
      "source": [
        "import math\n",
        "\n",
        "# List from list\n",
        "x = range(10)\n",
        "\n",
        "sin_x = [math.sin(x_val) for x_val in x]\n",
        "sin_x"
      ],
      "metadata": {
        "id": "PlPCA_K6aXXD"
      },
      "execution_count": null,
      "outputs": []
    },
    {
      "cell_type": "markdown",
      "source": [
        "### Exercise 10\n",
        "\n",
        "Returning to our previous example: print “{city} is in {state}” for each combination\n",
        "using a `zip` and a comprehension.\n",
        "\n",
        "Try using `zip`"
      ],
      "metadata": {
        "id": "6su5rHzKalnZ"
      }
    },
    {
      "cell_type": "code",
      "source": [
        "cities = [\"Phoenix\", \"Austin\", \"San Diego\", \"New York\"]\n",
        "states = [\"Arizona\", \"Texas\", \"California\", \"New York\"]\n",
        "\n",
        "# your code here"
      ],
      "metadata": {
        "id": "GiBZac39alyN"
      },
      "execution_count": null,
      "outputs": []
    },
    {
      "cell_type": "markdown",
      "source": [
        "Finally, we can use this approach to build complicated nested dictionaries."
      ],
      "metadata": {
        "id": "o0sTjf1marTO"
      }
    },
    {
      "cell_type": "code",
      "source": [
        "gdp_data = [9.607, 10.48, 11.06]\n",
        "years = [2013, 2014, 2015]\n",
        "exports = [ {\"manufacturing\": 2.4, \"agriculture\": 1.5, \"services\": 0.5},\n",
        "            {\"manufacturing\": 2.5, \"agriculture\": 1.4, \"services\": 0.9},\n",
        "            {\"manufacturing\": 2.7, \"agriculture\": 1.4, \"services\": 1.5}]\n",
        "data = zip(years, gdp_data,exports)\n",
        "data_dict = {year : {\"gdp\" : gdp, \"exports\": exports} for year, gdp, exports in data}\n",
        "print(data_dict)\n",
        "\n",
        "# total exports by year\n",
        "[data_dict[year][\"exports\"][\"services\"] for year in data_dict.keys()]"
      ],
      "metadata": {
        "colab": {
          "base_uri": "https://localhost:8080/"
        },
        "id": "j2_kq-mnao5N",
        "outputId": "12747318-26d3-49d3-8ff7-cf907a792120"
      },
      "execution_count": null,
      "outputs": [
        {
          "output_type": "stream",
          "name": "stdout",
          "text": [
            "{2013: {'gdp': 9.607, 'exports': {'manufacturing': 2.4, 'agriculture': 1.5, 'services': 0.5}}, 2014: {'gdp': 10.48, 'exports': {'manufacturing': 2.5, 'agriculture': 1.4, 'services': 0.9}}, 2015: {'gdp': 11.06, 'exports': {'manufacturing': 2.7, 'agriculture': 1.4, 'services': 1.5}}}\n"
          ]
        },
        {
          "output_type": "execute_result",
          "data": {
            "text/plain": [
              "[0.5, 0.9, 1.5]"
            ]
          },
          "metadata": {},
          "execution_count": 38
        }
      ]
    },
    {
      "cell_type": "code",
      "source": [],
      "metadata": {
        "id": "6AEdE2PHasi2"
      },
      "execution_count": null,
      "outputs": []
    }
  ]
}