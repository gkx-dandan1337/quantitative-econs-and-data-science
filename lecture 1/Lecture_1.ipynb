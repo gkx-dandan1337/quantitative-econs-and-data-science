{
  "nbformat": 4,
  "nbformat_minor": 0,
  "metadata": {
    "colab": {
      "provenance": []
    },
    "kernelspec": {
      "name": "python3",
      "display_name": "Python 3"
    },
    "language_info": {
      "name": "python"
    }
  },
  "cells": [
    {
      "cell_type": "markdown",
      "source": [
        "# Lecture 1: Overview and Python Basics\n",
        "\n",
        "**Outcomes**\n",
        "\n",
        "- Programming concepts  \n",
        "  - Understand variable assignment  \n",
        "  - Know what a function is and how to figure out what it does  \n",
        "  - Be able to use tab completion  \n",
        "- Numbers in Python  \n",
        "  - Understand how Python represents numbers  \n",
        "  - Know the distinction between `int` and `float`  \n",
        "  - Be familiar with various binary operators for numbers  \n",
        "  - Introduction to the `math` library  \n",
        "- Text (strings) in Python  \n",
        "  - Understand what a string is and when it is useful  \n",
        "  - Learn some of the methods associated with strings  \n",
        "  - Combining strings and output  \n",
        "- True and False (booleans) in Python  \n",
        "  - Understand what a boolean is  \n",
        "  - Become familiar with all binary operators that return booleans  \n"
      ],
      "metadata": {
        "id": "W32nyKHoF-CO"
      }
    },
    {
      "cell_type": "markdown",
      "source": [
        "## First Steps\n",
        "\n",
        "We are ready to begin writing code!\n",
        "\n",
        "In this section, we will teach you some basic concepts of programming\n",
        "and where to search for help."
      ],
      "metadata": {
        "id": "GFOTvaxnIq7e"
      }
    },
    {
      "cell_type": "markdown",
      "source": [
        "# Notebooks\n",
        "\n",
        "Jupyter notebooks are a handy way of mixing text instructions with Python code snippets.  You can add either a Code box (darker gray) or a text box (light background) to your current notebook by going to Insert at the top of the screen, then choosing the notebook you want.\n",
        "\n",
        "A code box contains Python code, and you can run that code by clicking on the little box to the left, which should become a play symbol.  Try this on the \"Hello, world!\" snippet that follows."
      ],
      "metadata": {
        "id": "by0-6YIEGp_s"
      }
    },
    {
      "cell_type": "code",
      "source": [
        "print(\"Hello, world!\")"
      ],
      "metadata": {
        "id": "AHYl2ry7GsVn"
      },
      "execution_count": null,
      "outputs": []
    },
    {
      "cell_type": "markdown",
      "source": [
        "# Expressions\n",
        "\n",
        "If you want to, you can treat Python as a calculator. Python will evaluate numerical expressions using +, -, * (multiply), and / (divide) and will follow the correct order of operations when doing so.  \n",
        "\n",
        "In Jupyter notebooks, the last expression evaluated will be displayed underneath the code box."
      ],
      "metadata": {
        "id": "o51eAMR6H0Qm"
      }
    },
    {
      "cell_type": "code",
      "source": [
        "2+2"
      ],
      "metadata": {
        "id": "OUCic2J5G0hn"
      },
      "execution_count": null,
      "outputs": []
    },
    {
      "cell_type": "code",
      "source": [
        "1+2*7"
      ],
      "metadata": {
        "id": "9cijgweHH4GS"
      },
      "execution_count": null,
      "outputs": []
    },
    {
      "cell_type": "markdown",
      "source": [
        "The order of operations you're familiar with from algebra is generally followed (multiplication before addition, etc), but now there are more kinds of operators, like Boolean operators.  If you want to be sure of the order in which things are evaluated, you can use parentheses."
      ],
      "metadata": {
        "id": "XXPSHwzaITY2"
      }
    },
    {
      "cell_type": "code",
      "source": [
        "(1+2)*7"
      ],
      "metadata": {
        "id": "RzBO7bDqH5bn"
      },
      "execution_count": null,
      "outputs": []
    },
    {
      "cell_type": "markdown",
      "source": [
        "### Variable Assignment\n",
        "\n",
        "Variable assignment associates a value to a variable.\n",
        "\n",
        "Below, we assign the value “Hello World” to the variable `x`"
      ],
      "metadata": {
        "id": "4I-tdlJzIwp-"
      }
    },
    {
      "cell_type": "code",
      "source": [
        "x = \"Hello World\""
      ],
      "metadata": {
        "id": "GE2IdhwcIXRZ"
      },
      "execution_count": null,
      "outputs": []
    },
    {
      "cell_type": "markdown",
      "source": [
        "Once we have assigned a value to a variable, Python will remember this\n",
        "variable as long as the *current* session of Python is still running.\n",
        "\n",
        "Notice how writing `x` into the prompt below outputs the value\n",
        "“Hello World”."
      ],
      "metadata": {
        "id": "GaaWXJYRI411"
      }
    },
    {
      "cell_type": "code",
      "source": [
        "x"
      ],
      "metadata": {
        "id": "Q1TfqM8DI3ip"
      },
      "execution_count": null,
      "outputs": []
    },
    {
      "cell_type": "markdown",
      "source": [
        "However, Python returns an error if we ask it about variables that have not yet\n",
        "been created."
      ],
      "metadata": {
        "id": "aFGHyrZyI9yf"
      }
    },
    {
      "cell_type": "code",
      "source": [
        "# uncomment (delete the # and the space) the line below and run\n",
        "# y"
      ],
      "metadata": {
        "id": "yyfsG6ikI7KC"
      },
      "execution_count": null,
      "outputs": []
    },
    {
      "cell_type": "markdown",
      "source": [
        "### Exercise 1\n",
        "\n",
        "What do you think the value of `z` is after running the code below?"
      ],
      "metadata": {
        "id": "vd3GZcSlJT8S"
      }
    },
    {
      "cell_type": "code",
      "source": [
        "z = 3\n",
        "z = z + 4\n",
        "print(\"z is\", z)"
      ],
      "metadata": {
        "id": "1uf35ZlDJKVR"
      },
      "execution_count": null,
      "outputs": []
    },
    {
      "cell_type": "markdown",
      "source": [
        "Keep in mind that the variable binds a name to something stored in memory.\n",
        "\n",
        "The name can even be linked to a value of a completely different type."
      ],
      "metadata": {
        "id": "ipNrvc1eJhmO"
      }
    },
    {
      "cell_type": "code",
      "source": [
        "x = 2\n",
        "print(x)\n",
        "x = \"something else\"\n",
        "print(x)"
      ],
      "metadata": {
        "id": "XE-UibziJV8y"
      },
      "execution_count": null,
      "outputs": []
    },
    {
      "cell_type": "markdown",
      "source": [
        "### Code Comments\n",
        "\n",
        "Comments are short notes that you leave for yourself and for others who read your\n",
        "code.\n",
        "\n",
        "They should be used to explain what the code does.\n",
        "\n",
        "- To save time for future maintenance\n",
        "\n",
        "- To guide collaboration\n",
        "\n",
        "The best comments are:\n",
        "\n",
        "- Concise – no novels; explain just enough.\n",
        "\n",
        "- Accurate – outdated comments cause more harm than no comments.\n",
        "\n",
        "- Focused on why – avoid restating obvious code.\n",
        "\n",
        "A comment is made with the `#`. Python ignores everything in a line that follows a `#`.\n",
        "\n",
        "Let’s practice making some comments."
      ],
      "metadata": {
        "id": "LSoI2Fy6JnQO"
      }
    },
    {
      "cell_type": "code",
      "source": [
        "i = 1  # Assign the value 1 to variable i\n",
        "j = 2  # Assign the value 2 to variable j\n",
        "\n",
        "# We add i and j below this line\n",
        "i + j"
      ],
      "metadata": {
        "id": "UjaZgJ9TJjc6"
      },
      "execution_count": null,
      "outputs": []
    },
    {
      "cell_type": "markdown",
      "source": [
        "## Functions\n",
        "\n",
        "Functions are processes that take an input (or inputs) and produce an output.\n",
        "\n",
        "If we had a function called `f` that took two arguments `x` and\n",
        "`y`, we would write `f(x, y)` to use the function.\n",
        "\n",
        "For example, the function `print` simply prints whatever it is given.\n",
        "Recall the variable we created called `x`.\n",
        "\n",
        "print() is a built-in Python function that outputs information to the screen (the console)."
      ],
      "metadata": {
        "id": "TUDOHIKmMVU_"
      }
    },
    {
      "cell_type": "code",
      "source": [
        "print(x)"
      ],
      "metadata": {
        "id": "vDwFsOMWMaiX"
      },
      "execution_count": null,
      "outputs": []
    },
    {
      "cell_type": "markdown",
      "source": [
        "We just see a function in this document:  print(), which prints a value to the screen.  There are many, many functions in Python.  \n",
        "\n",
        "Some are in the core language, and are usable immediately.  Some are defined in \"libraries\" or \"modules\" that you need to load up before you can use them.  And many of them are just defined by programmers like us.  Most of your time programming will probably be spent defining new functions - reusable tools that make the main job easier.  But for right now, we'll just look at how to make use of predefined functions.\n",
        "\n",
        "A function can have zero or more arguments -- usually it takes at least one -- and then evaluates to something - it *returns* a value.  "
      ],
      "metadata": {
        "id": "pPDK_lZHLUkx"
      }
    },
    {
      "cell_type": "markdown",
      "source": [
        "### Getting Help\n",
        "\n",
        "We can figure out what a function does by asking for help.\n",
        "\n",
        "In Jupyter notebooks, this is done by placing a `?` after the function\n",
        "name (without using parenthesis) and evaluating the cell.\n",
        "\n",
        "For example, we can ask for help on the print function by writing\n",
        "`print?`.\n",
        "\n",
        "Depending on how you launched Jupyter, this will either launch\n",
        "\n",
        "- JupyterLab: display the help in text below the cell.  \n",
        "- Classic Jupyter Notebooks: display a new panel at the bottom of your\n",
        "  screen.  You can exit this panel by hitting the escape key or clicking the x at\n",
        "  the top right of the panel.  "
      ],
      "metadata": {
        "id": "j8M4smfjMiis"
      }
    },
    {
      "cell_type": "code",
      "source": [
        " # print?"
      ],
      "metadata": {
        "id": "3gP6-TyWJsci"
      },
      "execution_count": null,
      "outputs": []
    },
    {
      "cell_type": "markdown",
      "source": [
        "### Exercise 2\n",
        "\n",
        "Read about out what the `len` function does (by writing len?).\n",
        "\n",
        "What will it produce if we give it the variable `x`?\n",
        "\n",
        "Check whether you were right by running the code `len(x)`."
      ],
      "metadata": {
        "id": "-TMWlE4xMnnK"
      }
    },
    {
      "cell_type": "code",
      "source": [
        "# len?"
      ],
      "metadata": {
        "id": "mM19HSfDNQxK"
      },
      "execution_count": null,
      "outputs": []
    },
    {
      "cell_type": "code",
      "source": [
        "len(x)"
      ],
      "metadata": {
        "id": "K7UX-e9hN0jO"
      },
      "execution_count": null,
      "outputs": []
    },
    {
      "cell_type": "markdown",
      "source": [
        "## Objects and Types\n",
        "\n",
        "Everything in Python is an *object*.\n",
        "\n",
        "Objects are “things” that contain 1) data and 2) functions that can operate on\n",
        "the data.\n",
        "\n",
        "Sometimes we refer to the functions inside an object as *methods*.\n",
        "\n",
        "We can investigate what data is inside an object and which methods\n",
        "it supports by typing `.` after that particular variable, then\n",
        "hitting `TAB`.\n",
        "\n",
        "It should then list data and method names to the right of the\n",
        "variable name like this:\n",
        "\n",
        "![https://datascience.quantecon.org/_static/introspection.png](https://datascience.quantecon.org/_static/introspection.png)\n",
        "\n",
        "  \n",
        "You can scroll through this list by using the up and down arrows.\n",
        "\n",
        "Let’s do this together below. Keep going down until you find the method\n",
        "`split`."
      ],
      "metadata": {
        "id": "UJMhFvTdYMEC"
      }
    },
    {
      "cell_type": "code",
      "source": [
        "# Type a period after `x`\n",
        "x."
      ],
      "metadata": {
        "id": "mEFkcY0lN3uG"
      },
      "execution_count": null,
      "outputs": []
    },
    {
      "cell_type": "markdown",
      "source": [
        "Once you have found the method `split`, you can use the method by adding\n",
        "parenthesis after it.\n",
        "\n",
        "Let’s call the `split` method, which doesn’t have any other required\n",
        "parameters."
      ],
      "metadata": {
        "id": "ACL3kdH6Ylza"
      }
    },
    {
      "cell_type": "code",
      "source": [
        "x.split()"
      ],
      "metadata": {
        "id": "mBmcrxVfYZMk"
      },
      "execution_count": null,
      "outputs": []
    },
    {
      "cell_type": "markdown",
      "source": [
        "## Functions vs Methods\n",
        "\n",
        "- Functions: A function is a block of reusable code that performs a specific task. It can take input arguments, perform computations, and return a result.\n",
        "\n",
        "Functions are not bound to objects or classes and can be called directly.\n",
        "\n",
        "- Methods: A method is a function that is associated with an object. Methods are defined within a class and are intended to operate on the data contained within that class.\n",
        "\n",
        "Methods are functions that are bound to objects and classes."
      ],
      "metadata": {
        "id": "7myVPWwa6fVi"
      }
    },
    {
      "cell_type": "markdown",
      "source": [
        "We often want to identify what kind of object some value is–\n",
        "called its “type”.\n",
        "\n",
        "A “type” is an abstraction which defines a set of behavior for any\n",
        "“instance” of that type\n",
        "\n",
        "i.e. `2.0` and `3.0` are instances of `float`, where `float` has a set of particular common behaviors.\n",
        "\n",
        "In particular, the type determines:\n",
        "\n",
        "- the available data for any “instance” of the type (where each\n",
        "  instance may have different values of the data).  \n",
        "- the methods that can be applied on the object and its data.  \n",
        "\n",
        "\n",
        "We can figure this out by using the `type` function.\n",
        "\n",
        "The `type` function takes a single argument and outputs the type of\n",
        "that argument."
      ],
      "metadata": {
        "id": "8FgBCqT5YsGY"
      }
    },
    {
      "cell_type": "code",
      "source": [
        "type(3)"
      ],
      "metadata": {
        "id": "z1CLSnizYpt1"
      },
      "execution_count": null,
      "outputs": []
    },
    {
      "cell_type": "code",
      "source": [
        "type(\"Hello World\")"
      ],
      "metadata": {
        "id": "YXx9CAqbY2h4"
      },
      "execution_count": null,
      "outputs": []
    },
    {
      "cell_type": "code",
      "source": [
        "type([1, 2, 3])"
      ],
      "metadata": {
        "id": "zdGgVaqBY3oc"
      },
      "execution_count": null,
      "outputs": []
    },
    {
      "cell_type": "markdown",
      "source": [
        "We will learn more about each of these types (and others!) and how to use them\n",
        "soon."
      ],
      "metadata": {
        "id": "1PYYbqVaY61x"
      }
    },
    {
      "cell_type": "markdown",
      "source": [
        "## Modules\n",
        "\n",
        "Python takes a modular approach to tools.\n",
        "\n",
        "By this we mean that sets of related tools are bundled together into *packages*.\n",
        "(You may also hear the term modules to describe the same thing.)\n",
        "\n",
        "For example:\n",
        "\n",
        "- `pandas` is a package that implements the tools necessary to do\n",
        "  scalable data analysis.  \n",
        "- `matplotlib` is a package that implements visualization tools.  \n",
        "- `requests` and `urllib` are packages that allow Python to\n",
        "  interface with the internet.  \n",
        "\n",
        "\n",
        "As we move further into the class, being able to\n",
        "access these packages will become very important.\n",
        "\n",
        "We can bring a package’s functionality into our current Python session\n",
        "by writing"
      ],
      "metadata": {
        "id": "Gqh6QX2GY-qD"
      }
    },
    {
      "cell_type": "code",
      "source": [
        "import package"
      ],
      "metadata": {
        "id": "bqfTvS-wY5Nu"
      },
      "execution_count": null,
      "outputs": []
    },
    {
      "cell_type": "markdown",
      "source": [
        "Once we have done this, any function or object from that package can\n",
        "be accessed by using `package.name`.\n",
        "\n",
        "Here’s an example."
      ],
      "metadata": {
        "id": "41Pyh8SJZJI2"
      }
    },
    {
      "cell_type": "code",
      "source": [
        "import sys   # for dealing with your computer's system\n",
        "sys.version  # information about the Python version in use"
      ],
      "metadata": {
        "id": "OjtzxqTiZF6_"
      },
      "execution_count": null,
      "outputs": []
    },
    {
      "cell_type": "markdown",
      "source": [
        "## Module and Library\n",
        "\n",
        "- Module: A module is a single file that contains Python code. It can define\n",
        "functions, classes, and variables, and can also include runnable\n",
        "code. Modules help organize and reuse code.\n",
        "\n",
        "- Library: A library is a collection of modules that are bundled together.\n",
        "It may include several modules that work together to provide\n",
        "specific functionality or solve particular problems. Libraries offer a broad set of tools and functionalities. They\n",
        "often serve as a comprehensive solution for specific domains\n",
        "(e.g., data analysis, web development)."
      ],
      "metadata": {
        "id": "CSyDNt1_66U6"
      }
    },
    {
      "cell_type": "code",
      "source": [
        "# import library_xxx\n",
        "\n",
        "# from library_xxx import module_xxx"
      ],
      "metadata": {
        "id": "ZcAC_O228Kmb"
      },
      "execution_count": null,
      "outputs": []
    },
    {
      "cell_type": "markdown",
      "source": [
        "### Exercise 3\n",
        "\n",
        "In the cell below, use tab completion to find a function from the `time`\n",
        "module that will display the **local** time.\n",
        "\n",
        "Use `time.FUNC_NAME?` (where `FUNC_NAME` is replaced with the\n",
        "function you found) to see information about that function and\n",
        "then call the function.\n",
        "\n",
        "Look for something to do with the word `local`"
      ],
      "metadata": {
        "id": "R7SODlmSZYJp"
      }
    },
    {
      "cell_type": "code",
      "source": [
        "import time\n",
        "# your code here -- notice the comment!"
      ],
      "metadata": {
        "id": "2Wp4vkxaZLns"
      },
      "execution_count": null,
      "outputs": []
    },
    {
      "cell_type": "code",
      "source": [
        "time.localtime()"
      ],
      "metadata": {
        "id": "-HQVV_t18avA"
      },
      "execution_count": null,
      "outputs": []
    },
    {
      "cell_type": "markdown",
      "source": [
        "### Module Aliases\n",
        "\n",
        "Some packages have long names (see `matplotlib`, for example) which\n",
        "makes accessing the package functionality somewhat inconvenient.\n",
        "\n",
        "To ease this burden, Python allows us to give aliases or “nicknames” to packages.\n",
        "\n",
        "For example we can write:"
      ],
      "metadata": {
        "id": "FAI0ubs0Zom5"
      }
    },
    {
      "cell_type": "code",
      "source": [
        "import package as p"
      ],
      "metadata": {
        "id": "HrFtz3gtZaEE"
      },
      "execution_count": null,
      "outputs": []
    },
    {
      "cell_type": "markdown",
      "source": [
        "This statement allows us to access the packages functionality as\n",
        "`p.function_name` rather than `package.function_name`.\n",
        "\n",
        "Some common aliases for packages are\n",
        "\n",
        "- `import pandas as pd`  \n",
        "- `import numpy as np`  \n",
        "- `import matplotlib as mpl`  \n",
        "- `import datetime as dt`  \n",
        "\n",
        "\n",
        "While you *can* choose any name for an alias, we suggest that you stick\n",
        "to the common ones.\n",
        "\n",
        "You will learn what these common ones are over time."
      ],
      "metadata": {
        "id": "Dvc-C3oaZuBn"
      }
    },
    {
      "cell_type": "code",
      "source": [
        "import pandas as pd"
      ],
      "metadata": {
        "id": "N49DstWN8fCy"
      },
      "execution_count": null,
      "outputs": []
    },
    {
      "cell_type": "markdown",
      "source": [
        "### Exercise 4\n",
        "\n",
        "Try running `import time as t` in the cell below, then see if you can\n",
        "call the function you identified above.\n",
        "\n",
        "Does it work?"
      ],
      "metadata": {
        "id": "oNJL6BQNZz74"
      }
    },
    {
      "cell_type": "code",
      "source": [
        "import time as t"
      ],
      "metadata": {
        "id": "TgZnbP7uzHbJ"
      },
      "execution_count": null,
      "outputs": []
    },
    {
      "cell_type": "code",
      "source": [
        "t.localtime()"
      ],
      "metadata": {
        "id": "fHtTUVWe8i3T"
      },
      "execution_count": null,
      "outputs": []
    },
    {
      "cell_type": "markdown",
      "source": [
        "## Good Code Habits\n",
        "\n",
        "We encourage you to do **everything** in your power to make your code as readable as possible.\n",
        "\n",
        "Here are some suggestions for how to do so:\n",
        "\n",
        "- Comment frequently. Leaving short notes not only will help others who\n",
        "  use your code, but will also help you interpret your code\n",
        "  after some time has passed.  \n",
        "- **Anytime** you use a comma, place a space immediately afterwards.  \n",
        "- Whitespace is your friend. Don’t write line after line of code – use\n",
        "  blank lines to break it up.  \n",
        "- Don’t let your lines run too long. Some people reading your code will\n",
        "  be on a laptop, so you want to ensure that they don’t need to scroll horizontally and right to read your code. We recommend no more than 80 characters per line."
      ],
      "metadata": {
        "id": "B9xy1tuKaJ7P"
      }
    },
    {
      "cell_type": "markdown",
      "source": [
        "## Numbers\n",
        "\n",
        "Python has two types of numbers.\n",
        "\n",
        "1. Integer (`int`): These can only take the values of the integers\n",
        "  i.e. $ \\{\\dots, -2, -1, 0, 1, 2, \\dots\\} $  \n",
        "1. Floating Point Number (`float`): Think of these as any real number\n",
        "  such as $ 1.0 $, $ 3.1415 $, or $ -100.022358923223 $…  \n",
        "\n",
        "\n",
        "The easiest way to differentiate these types of numbers is to find a decimal place\n",
        "after the number.\n",
        "\n",
        "A float will have a decimal place, but an integer will not.\n",
        "\n",
        "Below, we assign integers to the variables `xi` and `zi` and assign\n",
        "floating point numbers to the variables `xf` and `zf`."
      ],
      "metadata": {
        "id": "NcyRaOZVaZs5"
      }
    },
    {
      "cell_type": "code",
      "source": [
        "xi = 1\n",
        "xf = 1.0\n",
        "zi = 123\n",
        "zf = 1230.5  # Notice -- There are no commas!"
      ],
      "metadata": {
        "id": "_t4BmM9lZZpt"
      },
      "execution_count": null,
      "outputs": []
    },
    {
      "cell_type": "code",
      "source": [
        "type(xi)"
      ],
      "metadata": {
        "id": "pDQAJiun8oCD"
      },
      "execution_count": null,
      "outputs": []
    },
    {
      "cell_type": "code",
      "source": [
        "type(xf)"
      ],
      "metadata": {
        "id": "Oq4bf-uq8pX-"
      },
      "execution_count": null,
      "outputs": []
    },
    {
      "cell_type": "code",
      "source": [
        "type(zf2)"
      ],
      "metadata": {
        "id": "u1iy5z5u8qky"
      },
      "execution_count": null,
      "outputs": []
    },
    {
      "cell_type": "markdown",
      "source": [
        "### Exercise 5\n",
        "\n",
        "Create the following variables:\n",
        "\n",
        "- `D`: A floating point number with the value 10,000  \n",
        "- `r`: A floating point number with value 0.025  \n",
        "- `T`: An integer with value 30  \n",
        "\n",
        "\n",
        "We will use them in a later exercise."
      ],
      "metadata": {
        "id": "6PiBZHjHaolv"
      }
    },
    {
      "cell_type": "code",
      "source": [
        "D =\n",
        "r =\n",
        "T ="
      ],
      "metadata": {
        "id": "liF3AWY2cH6S"
      },
      "execution_count": null,
      "outputs": []
    },
    {
      "cell_type": "markdown",
      "source": [
        "### Python as a Calculator\n",
        "\n",
        "You can use Python to perform mathematical calculations."
      ],
      "metadata": {
        "id": "OHZSMYyAawzH"
      }
    },
    {
      "cell_type": "code",
      "source": [
        "a = 4\n",
        "b = 2\n",
        "\n",
        "print(\"a + b is\", a + b)\n",
        "print(\"a - b is\", a - b)\n",
        "print(\"a * b is\", a * b)\n",
        "print(\"a / b is\", a / b)\n",
        "print(\"a ** b is\", a**b)\n",
        "print(\"a ^ b is\", a^b)"
      ],
      "metadata": {
        "id": "AJDlhimiai74"
      },
      "execution_count": null,
      "outputs": []
    },
    {
      "cell_type": "markdown",
      "source": [
        "You likely could have guessed all except the last two.\n",
        "\n",
        "Python uses `**`, not `^`, for exponentiation (raising a number\n",
        "to a power)!\n",
        "\n",
        "Notice also that above `+`, `-` and `**` all returned an integer\n",
        "type, but `/` converted the result to a float.\n",
        "\n",
        "When possible, operations between integers return an integer type.\n",
        "\n",
        "All operations involving a float will result in a float."
      ],
      "metadata": {
        "id": "sPUyAaxva6mV"
      }
    },
    {
      "cell_type": "code",
      "source": [
        "a = 4\n",
        "b = 2.0\n",
        "\n",
        "print(\"a + b is\", a + b)\n",
        "print(\"a - b is\", a - b)\n",
        "print(\"a * b is\", a * b)\n",
        "print(\"a / b is\", a / b)\n",
        "print(\"a ** b is\", a**b)"
      ],
      "metadata": {
        "id": "ta9yisv4ayjJ"
      },
      "execution_count": null,
      "outputs": []
    },
    {
      "cell_type": "markdown",
      "source": [
        "We can also chain together operations.\n",
        "\n",
        "When doing this, Python follows the standard [order of operations](https://en.wikipedia.org/wiki/Order_of_operations) — parenthesis, exponents,\n",
        "multiplication and division, followed by addition and subtraction.\n",
        "\n",
        "For example,"
      ],
      "metadata": {
        "id": "ut1Xv0rxbr_n"
      }
    },
    {
      "cell_type": "code",
      "source": [
        "x = 2.0\n",
        "y = 3.0\n",
        "z1 = x + y * x\n",
        "z2 = (x + y) * x"
      ],
      "metadata": {
        "id": "WrPh4FV7bm-I"
      },
      "execution_count": null,
      "outputs": []
    },
    {
      "cell_type": "markdown",
      "source": [
        "What do you think `z1` is?\n",
        "\n",
        "How about `z2`?"
      ],
      "metadata": {
        "id": "DeRMGwGWbtQo"
      }
    },
    {
      "cell_type": "code",
      "source": [
        "z1"
      ],
      "metadata": {
        "id": "4Nf5NHvA80E3"
      },
      "execution_count": null,
      "outputs": []
    },
    {
      "cell_type": "code",
      "source": [
        "z2"
      ],
      "metadata": {
        "id": "oOTiGjOI81Bh"
      },
      "execution_count": null,
      "outputs": []
    },
    {
      "cell_type": "markdown",
      "source": [
        "### Exercise 6\n",
        "\n",
        "Remember the variables we created earlier?\n",
        "\n",
        "Let’s compute the present discounted value of a payment ($ D $) made\n",
        "in $ T $ years assuming an interest rate of 2.5%. Save this value to\n",
        "a new variable called `PDV` and print your output.\n",
        "\n",
        "The formula is\n",
        "\n",
        "$$\n",
        "\\text{PDV} = \\frac{D}{(1 + r)^T}\n",
        "$$"
      ],
      "metadata": {
        "id": "z7H82cvSb9o1"
      }
    },
    {
      "cell_type": "code",
      "source": [
        "# your code here\n",
        "\n",
        "\n"
      ],
      "metadata": {
        "id": "wYOTTaE3zpKE"
      },
      "execution_count": null,
      "outputs": []
    },
    {
      "cell_type": "markdown",
      "source": [
        "### Other Math Functions\n",
        "\n",
        "We often want to use other math functions on our numbers. Let’s try to\n",
        "calculate sin(2.5)."
      ],
      "metadata": {
        "id": "wCLK5whKcjAg"
      }
    },
    {
      "cell_type": "code",
      "source": [
        "sin(2.5)\n"
      ],
      "metadata": {
        "id": "HZqgqaFpcMql"
      },
      "execution_count": null,
      "outputs": []
    },
    {
      "cell_type": "markdown",
      "source": [
        "As seen above, Python complains that `sin` isn’t defined.\n",
        "\n",
        "The problem here is that the `sin` function – as well as many other\n",
        "standard math functions – are contained in the `math` package.\n",
        "\n",
        "We must begin by importing the math package."
      ],
      "metadata": {
        "id": "ypcu9CQzck7i"
      }
    },
    {
      "cell_type": "code",
      "source": [
        "import math"
      ],
      "metadata": {
        "id": "wNZGCpWIcmIJ"
      },
      "execution_count": null,
      "outputs": []
    },
    {
      "cell_type": "markdown",
      "source": [
        "Now, we can use `math.[]` to see what functions are available to us."
      ],
      "metadata": {
        "id": "RLg1GFbScqK-"
      }
    },
    {
      "cell_type": "code",
      "source": [
        "# uncomment, add a period (`.`)\n",
        "# math"
      ],
      "metadata": {
        "id": "AqZ-VPfkcqX4"
      },
      "execution_count": null,
      "outputs": []
    },
    {
      "cell_type": "code",
      "source": [
        "# found math.sin!\n",
        "math.sin(2.5)"
      ],
      "metadata": {
        "id": "q23q-8nhcx66"
      },
      "execution_count": null,
      "outputs": []
    },
    {
      "cell_type": "markdown",
      "source": [
        "### Exercise 7\n",
        "\n",
        "Verify the “trick” where the percent difference ($ \\frac{x - y}{x} $)\n",
        "between two numbers close to 1 can be well approximated by the difference\n",
        "between the log of the two numbers ($ \\log(x) - \\log(y) $).\n",
        "\n",
        "Use the numbers `x` and `y` below.\n",
        "\n",
        "you will want to use the\n",
        "`math.log` function"
      ],
      "metadata": {
        "id": "KoAefyD3c7Lx"
      }
    },
    {
      "cell_type": "code",
      "source": [
        "x = 1.05\n",
        "y = 1.02\n"
      ],
      "metadata": {
        "id": "glNZjR3aczpS"
      },
      "execution_count": null,
      "outputs": []
    },
    {
      "cell_type": "code",
      "source": [
        "# percent difference\n"
      ],
      "metadata": {
        "id": "XCSno7o686TD"
      },
      "execution_count": null,
      "outputs": []
    },
    {
      "cell_type": "code",
      "source": [
        "# the difference between the log\n"
      ],
      "metadata": {
        "id": "6idWeH_P86nV"
      },
      "execution_count": null,
      "outputs": []
    },
    {
      "cell_type": "markdown",
      "source": [
        "#### Floor/Modulus Division Operators\n",
        "\n",
        "You are less likely to run into the following operators, but understanding\n",
        "that they exist is useful.\n",
        "\n",
        "For two numbers assigned to the variables `x` and `y`,\n",
        "\n",
        "- Floor division: `x // y`  \n",
        "- Modulus division: `x % y`  \n",
        "\n",
        "Floor division returns the number of times the divisor goes into the dividend (the quotient)\n",
        "and modulus division returns the remainder.\n",
        "\n",
        "An example would be 37 divided by 7:\n",
        "\n",
        "- Floor division would return 5 (7 * 5 = 35)  \n",
        "- Modulus division would return 2 (2 + 35 = 37)  \n",
        "\n",
        "\n",
        "Try it!"
      ],
      "metadata": {
        "id": "1rXWUt44dTEn"
      }
    },
    {
      "cell_type": "code",
      "source": [
        "37 // 7"
      ],
      "metadata": {
        "id": "oPz0YzVTdFki"
      },
      "execution_count": null,
      "outputs": []
    },
    {
      "cell_type": "code",
      "source": [
        "37 % 7"
      ],
      "metadata": {
        "id": "uay31FfAddNi"
      },
      "execution_count": null,
      "outputs": []
    },
    {
      "cell_type": "markdown",
      "source": [
        "## Strings\n",
        "\n",
        "Textual information is stored in a data type called a string.\n",
        "\n",
        "To denote that you would like something to be stored as a string, you place it\n",
        "inside of quotation marks.\n",
        "\n",
        "For example,"
      ],
      "metadata": {
        "id": "eAx9oSRUe9wf"
      }
    },
    {
      "cell_type": "code",
      "source": [
        "\"this is a string\"  # Notice the quotation marks\n",
        "'this is a string'  # Notice the quotation marks\n",
        "this is not a string  # No quotation marks"
      ],
      "metadata": {
        "id": "TpWpI1k4dezx"
      },
      "execution_count": null,
      "outputs": []
    },
    {
      "cell_type": "markdown",
      "source": [
        "You can use either `\"` or `'` to create a string. Just make sure\n",
        "that you start and end the string with the same one!\n",
        "\n",
        "Notice that if we ask Python to tell us the type of a string, it abbreviates\n",
        "its answer to `str`."
      ],
      "metadata": {
        "id": "hu-ZaOQ7fDJ4"
      }
    },
    {
      "cell_type": "code",
      "source": [
        "type(\"this is a string\")"
      ],
      "metadata": {
        "id": "yjOg86U1fAno"
      },
      "execution_count": null,
      "outputs": []
    },
    {
      "cell_type": "markdown",
      "source": [
        "### Exercise 8\n",
        "\n",
        "The code below is invalid Python code"
      ],
      "metadata": {
        "id": "7BY9aSJffOAI"
      }
    },
    {
      "cell_type": "code",
      "source": [
        "x = 'What's wrong with this string'"
      ],
      "metadata": {
        "id": "NREkKjnffGqE"
      },
      "execution_count": null,
      "outputs": []
    },
    {
      "cell_type": "markdown",
      "source": [
        "Can you fix it?\n",
        "\n",
        "Try creating a code cell below and testing things out until you\n",
        "find a solution."
      ],
      "metadata": {
        "id": "VVfb_4GnfPpA"
      }
    },
    {
      "cell_type": "code",
      "source": [
        "# your code here\n",
        "\n",
        "\n"
      ],
      "metadata": {
        "id": "86kuPVyc0FXj"
      },
      "execution_count": null,
      "outputs": []
    },
    {
      "cell_type": "markdown",
      "source": [
        "### String Operations\n",
        "\n",
        "Some of the arithmetic operators we saw for the numbers also work\n",
        "on strings:\n",
        "\n",
        "- Put two strings together: `x + y`.  \n",
        "- Repeat the string `x` a total of `n` times: `n * x` (or `x * n`).  "
      ],
      "metadata": {
        "id": "oLoNHe3Ifd6v"
      }
    },
    {
      "cell_type": "code",
      "source": [
        "x = \"Hello\"\n",
        "y = \"World\""
      ],
      "metadata": {
        "id": "Cgygn-PhfTDx"
      },
      "execution_count": null,
      "outputs": []
    },
    {
      "cell_type": "code",
      "source": [
        "x + y"
      ],
      "metadata": {
        "id": "0ovvPWdrfpFO"
      },
      "execution_count": null,
      "outputs": []
    },
    {
      "cell_type": "code",
      "source": [
        "3 * x"
      ],
      "metadata": {
        "id": "yyBKIzsGfqK1"
      },
      "execution_count": null,
      "outputs": []
    },
    {
      "cell_type": "markdown",
      "source": [
        "What happens if we try `*` with two strings, or `-` or `/`?\n",
        "\n",
        "(The best way to find out is to try it!)"
      ],
      "metadata": {
        "id": "uRb6P9FTfsa2"
      }
    },
    {
      "cell_type": "code",
      "source": [
        "a = \"1\"\n",
        "b = \"2\"\n",
        "a * b"
      ],
      "metadata": {
        "id": "rES4ofb1fuFQ"
      },
      "execution_count": null,
      "outputs": []
    },
    {
      "cell_type": "code",
      "source": [
        "a - b"
      ],
      "metadata": {
        "id": "wKhIPI97fvY9"
      },
      "execution_count": null,
      "outputs": []
    },
    {
      "cell_type": "markdown",
      "source": [
        "### Exercise 9\n",
        "\n",
        "Using the variables `x` and `y`, how could you create the sentence\n",
        "`Hello World`?\n",
        "\n",
        "Think about how to represent a space as a string.\n",
        "\n"
      ],
      "metadata": {
        "id": "qHr_wIkIfxsC"
      }
    },
    {
      "cell_type": "code",
      "source": [
        "x + \" \" + y"
      ],
      "metadata": {
        "id": "JflKAVCqgFAg"
      },
      "execution_count": null,
      "outputs": []
    },
    {
      "cell_type": "markdown",
      "source": [
        "### String Methods\n",
        "\n",
        "We can use many *methods* to manipulate strings.\n",
        "\n",
        "We will not be able to cover all of them here, but let’s take a look at\n",
        "some of the most useful ones."
      ],
      "metadata": {
        "id": "ZyGB4P22hs-z"
      }
    },
    {
      "cell_type": "code",
      "source": [
        "x"
      ],
      "metadata": {
        "id": "qp8S3ncDgGYa"
      },
      "execution_count": null,
      "outputs": []
    },
    {
      "cell_type": "code",
      "source": [
        "x.lower()  # Makes all letters lower case"
      ],
      "metadata": {
        "id": "svvIqHryhv14"
      },
      "execution_count": null,
      "outputs": []
    },
    {
      "cell_type": "code",
      "source": [
        "x.upper()  # Makes all letters upper case"
      ],
      "metadata": {
        "id": "MV59ma9Ghw5v"
      },
      "execution_count": null,
      "outputs": []
    },
    {
      "cell_type": "code",
      "source": [
        "x.count(\"l\")  # Counts number of a particular string"
      ],
      "metadata": {
        "id": "9EcSAPeDhyIP"
      },
      "execution_count": null,
      "outputs": []
    },
    {
      "cell_type": "code",
      "source": [
        "x.count(\"ll\")"
      ],
      "metadata": {
        "id": "FKwrBJgYhz2h"
      },
      "execution_count": null,
      "outputs": []
    },
    {
      "cell_type": "markdown",
      "source": [
        "### Exercise 10\n",
        "\n",
        "One of our favorite (and most frequently used) string methods is\n",
        "`replace`.\n",
        "\n",
        "It substitutes all occurrences of a particular pattern with a different pattern.\n",
        "\n",
        "For the variable `test` below, use the `replace` method to change the\n",
        "`c` to a `d`.\n",
        "\n",
        "(Type `test.replace?` to get some help for how to use the method\n",
        "replace.)"
      ],
      "metadata": {
        "id": "98qI4nB5h8fT"
      }
    },
    {
      "cell_type": "code",
      "source": [
        "test = \"abc\""
      ],
      "metadata": {
        "id": "YhU_f_Ilh1Zh"
      },
      "execution_count": null,
      "outputs": []
    },
    {
      "cell_type": "code",
      "source": [
        "# your code here\n",
        "\n",
        "\n"
      ],
      "metadata": {
        "id": "Cmi-tN4C0dxV"
      },
      "execution_count": null,
      "outputs": []
    },
    {
      "cell_type": "markdown",
      "source": [
        "### Exercise 11\n",
        "\n",
        "Suppose you are working with price data and encounter the value\n",
        "`\"$6.50\"`.\n",
        "\n",
        "We recognize this as being a number representing the quantity “six dollars and fifty cents.”\n",
        "\n",
        "However, Python interprets the value as the string\n",
        "`\"$6.50\"`.\n",
        "\n",
        "In this exercise, your task is to convert the variable `price` below\n",
        "into a number.\n",
        "\n",
        "Once the string is in a suitable format, you can call write\n",
        "`float(clean_price)` to make it a number."
      ],
      "metadata": {
        "id": "eWxL53YhiOxe"
      }
    },
    {
      "cell_type": "code",
      "source": [
        "price = \"$6.50\""
      ],
      "metadata": {
        "id": "xuFtWDoziBKj"
      },
      "execution_count": null,
      "outputs": []
    },
    {
      "cell_type": "code",
      "source": [
        "# your code here\n",
        "clean_price = price.replace( , )"
      ],
      "metadata": {
        "id": "-0yonI6O9Ozu"
      },
      "execution_count": null,
      "outputs": []
    },
    {
      "cell_type": "code",
      "source": [
        "float(clean_price)"
      ],
      "metadata": {
        "id": "l4lb_E459VKR"
      },
      "execution_count": null,
      "outputs": []
    },
    {
      "cell_type": "markdown",
      "source": [
        "### String Formatting\n",
        "\n",
        "Sometimes we’d like to reuse some portion of a string repeatedly, but\n",
        "still make some relatively small changes at each usage.\n",
        "\n",
        "We can do this with *string formatting*, which done by using `{}` as a\n",
        "*placeholder* where we’d like to change the string, with a variable name\n",
        "or expression.\n",
        "\n",
        "Let’s look at an example."
      ],
      "metadata": {
        "id": "0wK1tQvhjIaI"
      }
    },
    {
      "cell_type": "code",
      "source": [
        "country = \"Singapore\"\n",
        "GDP = 673\n",
        "year = 2023\n",
        "my_string = f\"{country} had ${GDP} billion GDP in {year}\"\n",
        "print(my_string)"
      ],
      "metadata": {
        "id": "H28qKlvmi8nn"
      },
      "execution_count": null,
      "outputs": []
    },
    {
      "cell_type": "markdown",
      "source": [
        "Rather than just substituting a variable name, you can use a calculation\n",
        "or expression."
      ],
      "metadata": {
        "id": "5pImSPfEjNYz"
      }
    },
    {
      "cell_type": "code",
      "source": [
        "print(f\"{5}**2 = {5**2}\")"
      ],
      "metadata": {
        "id": "NTsWaa97jtrl"
      },
      "execution_count": null,
      "outputs": []
    },
    {
      "cell_type": "markdown",
      "source": [
        "Or, using our previous example"
      ],
      "metadata": {
        "id": "VA1hGyW9jyG4"
      }
    },
    {
      "cell_type": "code",
      "source": [
        "my_string = f\"{country} had ${GDP * 1_000_000} GDP in {year}\"\n",
        "print(my_string)"
      ],
      "metadata": {
        "id": "9-2mrAHBj2sq"
      },
      "execution_count": null,
      "outputs": []
    },
    {
      "cell_type": "code",
      "source": [],
      "metadata": {
        "id": "YC7UDrGQj7oA"
      },
      "execution_count": null,
      "outputs": []
    },
    {
      "cell_type": "markdown",
      "source": [
        "In these cases, the `f` in front of the string causes Python interpolate\n",
        "any valid expression within the `{}` braces.\n",
        "\n",
        "This allows you to include variables or expressions directly within the string, and Python will evaluate them and insert the result into the string."
      ],
      "metadata": {
        "id": "Ndy31Gjaj9nY"
      }
    },
    {
      "cell_type": "markdown",
      "source": [
        "### Exercise 12\n",
        "\n",
        "Lookup a country in [World Bank database](https://data.worldbank.org), and\n",
        "format a string showing the growth rate of GDP over the last 2 years."
      ],
      "metadata": {
        "id": "jdMPFODPkgj7"
      }
    },
    {
      "cell_type": "markdown",
      "source": [
        "Alternatively, to reuse a formatted string, you can call the `format` method (noting that you do **not** put `f` in front)."
      ],
      "metadata": {
        "id": "lMuKG9fpk9cr"
      }
    },
    {
      "cell_type": "code",
      "source": [
        "gdp_string = \"{country} had ${GDP} billion in {year}\"\n",
        "\n",
        "gdp_string.format(country = \"Singapore\", GDP = 673, year = 2023)"
      ],
      "metadata": {
        "id": "0EALba7qkRVE"
      },
      "execution_count": null,
      "outputs": []
    },
    {
      "cell_type": "markdown",
      "source": [
        "### Exercise 13\n",
        "\n",
        "Instead of hard-coding the values above, try to use the `country`, `GDP` and\n",
        "`year` variables you previously defined."
      ],
      "metadata": {
        "id": "8RtL-qyNlZwQ"
      }
    },
    {
      "cell_type": "code",
      "source": [],
      "metadata": {
        "id": "A6rsdis3lALZ"
      },
      "execution_count": null,
      "outputs": []
    },
    {
      "cell_type": "markdown",
      "source": [
        "### Exercise 14\n",
        "\n",
        "Create a new string and use formatting to produce each of the following\n",
        "statements\n",
        "\n",
        "- “The 1st quarter revenue was 110M”  \n",
        "- “The 2nd quarter revenue was 95M”  \n",
        "- “The 3rd quarter revenue was 100M”  \n",
        "- “The 4th quarter revenue was 130M”  "
      ],
      "metadata": {
        "id": "sxAb6LvulpDy"
      }
    },
    {
      "cell_type": "code",
      "source": [
        "revenue_string = \"The {quarter} quarter revenue was {revenue}M\""
      ],
      "metadata": {
        "id": "1yOZi5pVlDJJ"
      },
      "execution_count": null,
      "outputs": []
    },
    {
      "cell_type": "code",
      "source": [
        "revenue_string.format(quarter = \"1st\", revenue = \"110\")"
      ],
      "metadata": {
        "id": "XnpruzUb9ftR"
      },
      "execution_count": null,
      "outputs": []
    },
    {
      "cell_type": "markdown",
      "source": [
        "For more information on what you can do with string formatting (there is *a lot*\n",
        "that can be done…), see the [official Python documentation](https://docs.python.org/3.6/library/string.html) on the subject."
      ],
      "metadata": {
        "id": "Mhzao8D_lxXR"
      }
    },
    {
      "cell_type": "markdown",
      "source": [
        "## Booleans\n",
        "\n",
        "A boolean is a type that denotes true or false.\n",
        "\n",
        "Using\n",
        "boolean values allows you to perform or skip operations depending on whether or\n",
        "not a condition is met.\n",
        "\n",
        "Let’s start by creating some booleans and looking at them."
      ],
      "metadata": {
        "id": "82TfrnRflz6s"
      }
    },
    {
      "cell_type": "code",
      "source": [
        "x = True\n",
        "y = False\n",
        "\n",
        "type(x)"
      ],
      "metadata": {
        "id": "OQ2fcNF4l0Fs"
      },
      "execution_count": null,
      "outputs": []
    },
    {
      "cell_type": "code",
      "source": [
        "x"
      ],
      "metadata": {
        "id": "rIDnoeSImBTH"
      },
      "execution_count": null,
      "outputs": []
    },
    {
      "cell_type": "code",
      "source": [
        "y"
      ],
      "metadata": {
        "id": "jXRGk-cPmC0q"
      },
      "execution_count": null,
      "outputs": []
    },
    {
      "cell_type": "markdown",
      "source": [
        "### Comparison Operators\n",
        "\n",
        "Rather than directly write `True` or `False`, you will usually\n",
        "create booleans by making a comparison.\n",
        "\n",
        "For example, you might want to evaluate whether the price of a particular asset\n",
        "is greater than or less than some price.\n",
        "\n",
        "For two variables `x` and `y`, we can do the following comparisons:\n",
        "\n",
        "- Greater than: `x > y`  \n",
        "- Less than: `x < y`  \n",
        "- Equal to: `==`  \n",
        "- Greater than or equal to: `x >= y`  \n",
        "- Less than or equal to: `x <= y`  \n",
        "\n",
        "\n",
        "We demonstrate these below."
      ],
      "metadata": {
        "id": "fEww2TxumEPA"
      }
    },
    {
      "cell_type": "code",
      "source": [
        "a = 4\n",
        "b = 2\n",
        "\n",
        "print(\"a > b\", \"is\", a > b)\n",
        "print(\"a < b\", \"is\", a < b)\n",
        "print(\"a == b\", \"is\", a == b)\n",
        "print(\"a >= b\", \"is\", a >= b)\n",
        "print(\"a <= b\", \"is\", a <= b)"
      ],
      "metadata": {
        "id": "zsWYC5o-mI-8"
      },
      "execution_count": null,
      "outputs": []
    },
    {
      "cell_type": "markdown",
      "source": [
        "### Negation\n",
        "\n",
        "Occasionally, determining whether a statement is\n",
        "“not true” or “not false” is more convenient than simply “true” or “false”.\n",
        "\n",
        "This is known as *negating* a statement.\n",
        "\n",
        "In Python, we can negate a boolean using the word `not`."
      ],
      "metadata": {
        "id": "a_vxp11qmP85"
      }
    },
    {
      "cell_type": "code",
      "source": [
        "not False"
      ],
      "metadata": {
        "id": "SOlSHPolmQKJ"
      },
      "execution_count": null,
      "outputs": []
    },
    {
      "cell_type": "code",
      "source": [
        "not True"
      ],
      "metadata": {
        "id": "voGOUfP-mRJj"
      },
      "execution_count": null,
      "outputs": []
    },
    {
      "cell_type": "markdown",
      "source": [
        "### Multiple Comparisons (and/or)\n",
        "\n",
        "Sometimes we need to evaluate multiple comparisons at once.\n",
        "\n",
        "This is done by using the words `and` and `or`.\n",
        "\n",
        "However, these are the “mathematical” *and*s and *or*s – so they\n",
        "don’t carry the same meaning as you’d use them in colloquial English.\n",
        "\n",
        "- `a and b` is true only when **both** `a` and `b` are true.  \n",
        "- `a or b` is true whenever at least one of `a` or `b` is true.  \n",
        "\n",
        "\n",
        "For example\n",
        "\n",
        "- The statement “I will accept the new job if the salary is higher\n",
        "  *and* I receive more vacation days” means that you would only accept\n",
        "  the new job if you both receive a higher salary and are given more\n",
        "  vacation days.  \n",
        "- The statement “I will accept the new job if the salary is higher *or*\n",
        "  I receive more vacation days” means that you would accept the job if\n",
        "  (1) they raised your salary, (2) you are given more vacation days, or\n",
        "  (3) they raise your salary and give you more vacation days.  \n",
        "\n",
        "\n",
        "Let’s see some examples."
      ],
      "metadata": {
        "id": "iFiSkM_xmZWc"
      }
    },
    {
      "cell_type": "code",
      "source": [
        "True and False"
      ],
      "metadata": {
        "id": "y6oPBqm_mSM0"
      },
      "execution_count": null,
      "outputs": []
    },
    {
      "cell_type": "code",
      "source": [
        "True and True"
      ],
      "metadata": {
        "id": "RP2xn7Zlma44"
      },
      "execution_count": null,
      "outputs": []
    },
    {
      "cell_type": "code",
      "source": [
        "True or False"
      ],
      "metadata": {
        "id": "It9ptUa1mbza"
      },
      "execution_count": null,
      "outputs": []
    },
    {
      "cell_type": "code",
      "source": [
        "False or False"
      ],
      "metadata": {
        "id": "BKyP4ih2mcop"
      },
      "execution_count": null,
      "outputs": []
    },
    {
      "cell_type": "code",
      "source": [
        "# Can chain multiple comparisons together.\n",
        "True and (False or True)"
      ],
      "metadata": {
        "id": "YCyKC93Wmd0Z"
      },
      "execution_count": null,
      "outputs": []
    },
    {
      "cell_type": "markdown",
      "source": [
        "### Exercise 15\n",
        "\n",
        "Without typing the commands, determine whether the following statements are\n",
        "true or false.\n",
        "\n",
        "Once you have evaluated whether the command is `True` or `False`, run the\n",
        "code in Python."
      ],
      "metadata": {
        "id": "iKa6Mq85mmde"
      }
    },
    {
      "cell_type": "code",
      "source": [
        "x = 2\n",
        "y = 2\n",
        "z = 4\n",
        "\n",
        "# Statement 1\n",
        "x > z\n",
        "\n",
        "# Statement 1\n",
        "x == y\n",
        "\n",
        "# Statement 3\n",
        "(x < y) and (x > y)\n",
        "\n",
        "# Statement 4\n",
        "(x < y) or (x > y)\n",
        "\n",
        "# Statement 5\n",
        "(x <= y) and (x >= y)\n",
        "\n",
        "# Statement 6\n",
        "True and ((x < z) or (x < y))"
      ],
      "metadata": {
        "id": "eWMWI6DxmgYI"
      },
      "execution_count": null,
      "outputs": []
    },
    {
      "cell_type": "markdown",
      "source": [
        "### `all` and `any`\n",
        "\n",
        "We have seen how we can use the words `and` and `or` to process two booleans\n",
        "at a time.\n",
        "\n",
        "The functions `all` and `any` allow us to process an unlimited number of\n",
        "booleans at once.\n",
        "\n",
        "`all(bools)` will return `True` if and only if all the booleans in `bools`\n",
        "is `True` and returns `False` otherwise.\n",
        "\n",
        "`any(bools)` returns `True` whenever one or more of `bools` is `True`.\n",
        "\n",
        "The exercise below will give you a chance to practice."
      ],
      "metadata": {
        "id": "l5EMm50vnF3D"
      }
    },
    {
      "cell_type": "markdown",
      "source": [
        "### Exercise 16\n",
        "\n",
        "For each of the code cells below, think carefully about what you expect to\n",
        "be returned *before* evaluating the cell.\n",
        "\n",
        "Then evaluate the cell to check your intuitions.\n",
        "\n",
        "NOTE: For now, do not worry about what the `[` and `]` mean – they\n",
        "allow us to create lists which we will learn about in an upcoming lecture."
      ],
      "metadata": {
        "id": "V5alQvbAnL7K"
      }
    },
    {
      "cell_type": "code",
      "source": [
        "all([True, True, True])"
      ],
      "metadata": {
        "id": "b2XBrT4Cmn5r"
      },
      "execution_count": null,
      "outputs": []
    },
    {
      "cell_type": "code",
      "source": [
        "all([False, True, False])"
      ],
      "metadata": {
        "id": "6bgUnpBinNPn"
      },
      "execution_count": null,
      "outputs": []
    },
    {
      "cell_type": "code",
      "source": [
        "all([False, False, False])"
      ],
      "metadata": {
        "id": "6yhWHTN0nOXH"
      },
      "execution_count": null,
      "outputs": []
    },
    {
      "cell_type": "code",
      "source": [
        "any([True, True, True])"
      ],
      "metadata": {
        "id": "ADCKTY3-nPKa"
      },
      "execution_count": null,
      "outputs": []
    },
    {
      "cell_type": "code",
      "source": [
        "any([False, True, False])"
      ],
      "metadata": {
        "id": "TFFcSZNKnQCi"
      },
      "execution_count": null,
      "outputs": []
    },
    {
      "cell_type": "code",
      "source": [
        "any([False, False, False])"
      ],
      "metadata": {
        "id": "A3PLMLSCnRS_"
      },
      "execution_count": null,
      "outputs": []
    },
    {
      "cell_type": "code",
      "source": [],
      "metadata": {
        "id": "DfPn_ZVZnSPX"
      },
      "execution_count": null,
      "outputs": []
    }
  ]
}