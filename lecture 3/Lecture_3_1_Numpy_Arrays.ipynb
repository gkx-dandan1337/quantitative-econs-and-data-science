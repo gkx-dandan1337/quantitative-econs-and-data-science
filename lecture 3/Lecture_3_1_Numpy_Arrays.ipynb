{
  "cells": [
    {
      "cell_type": "markdown",
      "metadata": {
        "id": "TW5TOxvUttR_"
      },
      "source": [
        "As the size of the data and the complexity of the models have increased (and continue doing so), the economists have become more reliant on computers to perform computations that we simply cannot do by hand.\n",
        "\n",
        "In this section, we will cover Python’s main numerical library **numpy** and how to work with its array type."
      ]
    },
    {
      "cell_type": "markdown",
      "metadata": {
        "id": "p3KtBIPGuBSG"
      },
      "source": [
        "\n",
        "\n",
        "# 3.1 Introduction to Numpy\n",
        "\n",
        "**Outcomes**\n",
        "\n",
        "- Understand basics about numpy arrays  \n",
        "- Index into multi-dimensional arrays  \n",
        "- Use universal functions/broadcasting to do element-wise operations on arrays  "
      ]
    },
    {
      "cell_type": "markdown",
      "metadata": {
        "id": "SKsa29phuHgt"
      },
      "source": [
        "## Numpy Arrays\n",
        "\n",
        "Now that we have learned the fundamentals of programming in Python, we will learn how we can use Python\n",
        "to perform the computations required in data science and economics. We call these the “**scientific Python tools**”.\n",
        "\n",
        "The foundational library that helps us perform these computations is known as `numpy` (numerical\n",
        "Python).\n",
        "\n",
        "Numpy’s core contribution is a new data-type called an *array*.\n",
        "\n",
        "An array is similar to a list, but numpy imposes some additional restrictions on how the data inside is organized.\n",
        "\n",
        "These restrictions allow numpy to\n",
        "\n",
        "1. Be more efficient in performing mathematical and scientific computations.  \n",
        "1. Expose functions that allow numpy to do the necessary linear algebra for machine learning and statistics.  \n",
        "\n",
        "\n",
        "Before we get started, please note that the convention for importing the numpy package is to use the\n",
        "nickname `np`:"
      ]
    },
    {
      "cell_type": "code",
      "execution_count": 1,
      "metadata": {
        "id": "uUmvqXyAtKWz"
      },
      "outputs": [],
      "source": [
        "import numpy as np"
      ]
    },
    {
      "cell_type": "markdown",
      "metadata": {
        "id": "oc8c6B95uQQc"
      },
      "source": [
        "### What is an Array?\n",
        "\n",
        "An array is a multi-dimensional grid of values.\n",
        "\n",
        "What does this mean? It is easier to demonstrate than to explain.\n",
        "\n",
        "In this block of code, we build a 1-dimensional array."
      ]
    },
    {
      "cell_type": "code",
      "execution_count": 2,
      "metadata": {
        "id": "r3aMsAbLuP48"
      },
      "outputs": [
        {
          "name": "stdout",
          "output_type": "stream",
          "text": [
            "[1 2 3]\n"
          ]
        }
      ],
      "source": [
        "# create an array from a list\n",
        "x_1d = np.array([1, 2, 3])\n",
        "print(x_1d)"
      ]
    },
    {
      "cell_type": "markdown",
      "metadata": {
        "id": "g_GIZxXvuWp4"
      },
      "source": [
        "You can think of a 1-dimensional array as a list of numbers."
      ]
    },
    {
      "cell_type": "code",
      "execution_count": 3,
      "metadata": {
        "id": "Kll96USMuT1y"
      },
      "outputs": [
        {
          "name": "stdout",
          "output_type": "stream",
          "text": [
            "1\n",
            "[1 2]\n"
          ]
        }
      ],
      "source": [
        "# We can index like we did with lists\n",
        "print(x_1d[0])\n",
        "print(x_1d[0:2])"
      ]
    },
    {
      "cell_type": "markdown",
      "metadata": {
        "id": "Hg8l6IQ9uax-"
      },
      "source": [
        "Note that the range of indices does not include the end-point, that\n",
        "is"
      ]
    },
    {
      "cell_type": "code",
      "execution_count": 4,
      "metadata": {
        "id": "iHa5uvfIuYtA"
      },
      "outputs": [
        {
          "name": "stdout",
          "output_type": "stream",
          "text": [
            "[ True  True  True]\n",
            "[1 2]\n"
          ]
        }
      ],
      "source": [
        "print(x_1d[0:3] == x_1d[:])\n",
        "print(x_1d[0:2])"
      ]
    },
    {
      "cell_type": "markdown",
      "metadata": {
        "id": "X54jLH1LugMm"
      },
      "source": [
        "The differences emerge as we move into higher dimensions.\n",
        "\n",
        "Next, we define a 2-dimensional array (a matrix)"
      ]
    },
    {
      "cell_type": "code",
      "execution_count": 5,
      "metadata": {
        "id": "iwRIfjzBucNP"
      },
      "outputs": [
        {
          "name": "stdout",
          "output_type": "stream",
          "text": [
            "[[1 2 3]\n",
            " [4 5 6]\n",
            " [7 8 9]]\n"
          ]
        }
      ],
      "source": [
        "x_2d = np.array([[1, 2, 3], [4, 5, 6], [7, 8, 9]])\n",
        "print(x_2d)"
      ]
    },
    {
      "cell_type": "markdown",
      "metadata": {
        "id": "0VK8Su1rumec"
      },
      "source": [
        "Notice that the data is no longer represented as something flat, but rather,\n",
        "as three rows and three columns of numbers.\n",
        "\n",
        "The first question that you might ask yourself is: “how do I access the values in this array?”\n",
        "\n",
        "You access each element by specifying a row first and then a column. For\n",
        "example, if we wanted to access the `6`, we would ask for the (1, 2) element."
      ]
    },
    {
      "cell_type": "code",
      "execution_count": 6,
      "metadata": {
        "id": "m08z-OeXuiBm"
      },
      "outputs": [
        {
          "name": "stdout",
          "output_type": "stream",
          "text": [
            "6\n"
          ]
        }
      ],
      "source": [
        "print(x_2d[1, 2])  # Indexing into two dimensions!"
      ]
    },
    {
      "cell_type": "markdown",
      "metadata": {
        "id": "pB7MJ4sTuqPH"
      },
      "source": [
        "Or to get the top left corner…"
      ]
    },
    {
      "cell_type": "code",
      "execution_count": 7,
      "metadata": {
        "id": "7S2ue6AVuoSB"
      },
      "outputs": [
        {
          "name": "stdout",
          "output_type": "stream",
          "text": [
            "1\n"
          ]
        }
      ],
      "source": [
        "print(x_2d[0, 0])  # Indexing into two dimensions!"
      ]
    },
    {
      "cell_type": "markdown",
      "metadata": {
        "id": "3eS_iANAuta4"
      },
      "source": [
        "To get the first, and then second rows…"
      ]
    },
    {
      "cell_type": "code",
      "execution_count": 8,
      "metadata": {
        "id": "pbpDAFYWuroP"
      },
      "outputs": [
        {
          "name": "stdout",
          "output_type": "stream",
          "text": [
            "[1 2 3]\n",
            "[4 5 6]\n"
          ]
        }
      ],
      "source": [
        "print(x_2d[0, :])\n",
        "print(x_2d[1, :])"
      ]
    },
    {
      "cell_type": "markdown",
      "metadata": {
        "id": "kDKn83FvuvQ0"
      },
      "source": [
        "Or the columns…"
      ]
    },
    {
      "cell_type": "code",
      "execution_count": null,
      "metadata": {
        "id": "JrgSdl3AuunL"
      },
      "outputs": [],
      "source": [
        "print(x_2d[:, 0])\n",
        "print(x_2d[:, 1])"
      ]
    },
    {
      "cell_type": "markdown",
      "metadata": {
        "id": "11ht7o1Ru0qg"
      },
      "source": [
        "This continues to generalize, since numpy gives us as many dimensions as we want in an array.\n",
        "\n",
        "For example, we build a 3-dimensional array below."
      ]
    },
    {
      "cell_type": "code",
      "execution_count": 9,
      "metadata": {
        "id": "UzjVUtfDuxtE"
      },
      "outputs": [
        {
          "name": "stdout",
          "output_type": "stream",
          "text": [
            "[[[ 1  2  3]\n",
            "  [ 4  5  6]]\n",
            "\n",
            " [[10 20 30]\n",
            "  [40 50 60]]]\n"
          ]
        }
      ],
      "source": [
        "x_3d_list = [[[1, 2, 3], [4, 5, 6]], [[10, 20, 30], [40, 50, 60]]]\n",
        "x_3d = np.array(x_3d_list)\n",
        "print(x_3d)"
      ]
    },
    {
      "cell_type": "markdown",
      "metadata": {
        "id": "dR5zVU5Tu-lQ"
      },
      "source": [
        "#### Array Indexing\n",
        "\n",
        "Now that there are multiple dimensions, indexing might feel somewhat non-obvious.\n",
        "\n",
        "Do the rows or columns come first? In higher dimensions, what is the order of\n",
        "the index?\n",
        "\n",
        "Notice that the array is built using a list of lists (you could also use tuples!).\n",
        "\n",
        "Indexing into the array will correspond to choosing elements from each list.\n",
        "\n",
        "First, notice that the dimensions give two stacked matrices, which we can access with"
      ]
    },
    {
      "cell_type": "code",
      "execution_count": 10,
      "metadata": {
        "id": "8vzaXT2qu3U7"
      },
      "outputs": [
        {
          "name": "stdout",
          "output_type": "stream",
          "text": [
            "[[1 2 3]\n",
            " [4 5 6]]\n",
            "[[10 20 30]\n",
            " [40 50 60]]\n"
          ]
        }
      ],
      "source": [
        "print(x_3d[0])\n",
        "print(x_3d[1])"
      ]
    },
    {
      "cell_type": "markdown",
      "metadata": {
        "id": "rAaQji2FvCEz"
      },
      "source": [
        "In the case of the first, it is synonymous with"
      ]
    },
    {
      "cell_type": "code",
      "execution_count": 11,
      "metadata": {
        "id": "kCVUKhaQvACt"
      },
      "outputs": [
        {
          "name": "stdout",
          "output_type": "stream",
          "text": [
            "[[1 2 3]\n",
            " [4 5 6]]\n"
          ]
        }
      ],
      "source": [
        "print(x_3d[0, :, :])"
      ]
    },
    {
      "cell_type": "markdown",
      "metadata": {
        "id": "E4_eAQWBvKEw"
      },
      "source": [
        "Let’s work through another example to further clarify this concept with our\n",
        "3-dimensional array.\n",
        "\n",
        "Our goal will be to find the index that retrieves the `4` out of `x_3d`.\n",
        "\n",
        "Recall that when we created `x_3d`, we used the list `[[[1, 2, 3], [4, 5, 6]], [[10, 20, 30], [40, 50, 60]]]`.\n",
        "\n",
        "Notice that the 0 element of that list is `[[1, 2, 3], [4, 5, 6]]`. This is the\n",
        "list that contains the `4` so the first index we would use is a 0."
      ]
    },
    {
      "cell_type": "code",
      "execution_count": 12,
      "metadata": {
        "id": "DJKDMzMFvDax"
      },
      "outputs": [
        {
          "name": "stdout",
          "output_type": "stream",
          "text": [
            "The 0 element is [[1, 2, 3], [4, 5, 6]]\n",
            "The 1 element is [[10, 20, 30], [40, 50, 60]]\n"
          ]
        }
      ],
      "source": [
        "print(f\"The 0 element is {x_3d_list[0]}\")\n",
        "print(f\"The 1 element is {x_3d_list[1]}\")"
      ]
    },
    {
      "cell_type": "markdown",
      "metadata": {
        "id": "3VH5pK-evQiD"
      },
      "source": [
        "We then move to the next lists which were the 0 element of the outer-most dimension. Notice that\n",
        "the two lists at this level `[1, 2, 3]` and `[3, 4, 5]`.\n",
        "\n",
        "The 4 is in the second 1 element (index `1`), so the second index we would choose is 1."
      ]
    },
    {
      "cell_type": "code",
      "execution_count": 13,
      "metadata": {
        "id": "LpG1H8OZvMkT"
      },
      "outputs": [
        {
          "name": "stdout",
          "output_type": "stream",
          "text": [
            "The 0 element of the 0 element is [1, 2, 3]\n",
            "The 1 element of the 0 element is [4, 5, 6]\n"
          ]
        }
      ],
      "source": [
        "print(f\"The 0 element of the 0 element is {x_3d_list[0][0]}\")\n",
        "print(f\"The 1 element of the 0 element is {x_3d_list[0][1]}\")"
      ]
    },
    {
      "cell_type": "markdown",
      "metadata": {
        "id": "nOFeckZPvUbw"
      },
      "source": [
        "Finally, we move to the inner-most dimension, which has a list of numbers\n",
        "`[4, 5, 6]`.\n",
        "\n",
        "The 4 is element 0 of this list, so the third, or inner-most index, would be `0`."
      ]
    },
    {
      "cell_type": "code",
      "execution_count": 14,
      "metadata": {
        "id": "hz5l3_xvvSlr"
      },
      "outputs": [
        {
          "name": "stdout",
          "output_type": "stream",
          "text": [
            "The 0 element of the 1 element of the 0 element is 4\n"
          ]
        }
      ],
      "source": [
        "print(f\"The 0 element of the 1 element of the 0 element is {x_3d_list[0][1][0]}\")"
      ]
    },
    {
      "cell_type": "markdown",
      "metadata": {
        "id": "OjcOeaiJvY8v"
      },
      "source": [
        "Now we can use these same indices to index into the array. With an array, we can index using a single operation rather than repeated indexing as we did with the list `x_3d_list[0][1][0]`.\n",
        "\n",
        "Let’s test it to see whether we did it correctly!"
      ]
    },
    {
      "cell_type": "code",
      "execution_count": 15,
      "metadata": {
        "id": "ysBbOPY0vWry"
      },
      "outputs": [
        {
          "name": "stdout",
          "output_type": "stream",
          "text": [
            "4\n"
          ]
        }
      ],
      "source": [
        "print(x_3d[0, 1, 0])"
      ]
    },
    {
      "cell_type": "markdown",
      "metadata": {
        "id": "BCho4SldvceM"
      },
      "source": [
        "Success!"
      ]
    },
    {
      "cell_type": "markdown",
      "metadata": {
        "id": "IFq9omTEvft-"
      },
      "source": [
        "### Exercise 1\n",
        "\n",
        "Try indexing into another element of your choice from the\n",
        "3-dimensional array.\n",
        "\n",
        "Building an understanding of indexing means working through this\n",
        "type of operation several times – without skipping steps!"
      ]
    },
    {
      "cell_type": "code",
      "execution_count": 29,
      "metadata": {
        "id": "PHb_ZvJsvas9"
      },
      "outputs": [
        {
          "name": "stdout",
          "output_type": "stream",
          "text": [
            "60\n"
          ]
        }
      ],
      "source": [
        "# TODO\n",
        "#get num 60 \n",
        "x_3d\n",
        "print(x_3d[1,1,2])"
      ]
    },
    {
      "cell_type": "markdown",
      "metadata": {
        "id": "mfWKpOnIvicb"
      },
      "source": [
        "### Exercise 2\n",
        "\n",
        "Look at the 2-dimensional array `x_2d`.\n",
        "\n",
        "Does the inner-most index correspond to rows or columns? What does the\n",
        "outer-most index correspond to?\n",
        "\n",
        "Write your thoughts.\n",
        "\n"
      ]
    },
    {
      "cell_type": "code",
      "execution_count": 32,
      "metadata": {
        "id": "8JylqGU3vmYr"
      },
      "outputs": [
        {
          "data": {
            "text/plain": [
              "array([[1, 2, 3],\n",
              "       [4, 5, 6],\n",
              "       [7, 8, 9]])"
            ]
          },
          "execution_count": 32,
          "metadata": {},
          "output_type": "execute_result"
        }
      ],
      "source": [
        "# TODO\n",
        "x_2d"
      ]
    },
    {
      "cell_type": "markdown",
      "metadata": {
        "id": "ju5Ktg8mvqEc"
      },
      "source": [
        "We can also select multiple elements at a time – this is called slicing.\n",
        "\n",
        "If we wanted to have an array with just `[1, 2, 3]` then we would do"
      ]
    },
    {
      "cell_type": "code",
      "execution_count": 34,
      "metadata": {
        "id": "S1YHS9SpvqR0"
      },
      "outputs": [
        {
          "name": "stdout",
          "output_type": "stream",
          "text": [
            "[1 2 3]\n"
          ]
        }
      ],
      "source": [
        "print(x_3d[0, 0, :])"
      ]
    },
    {
      "cell_type": "markdown",
      "metadata": {
        "id": "g7uJYZzDvv_c"
      },
      "source": [
        "Notice that we put a `:` on the dimension where we want to select all of the elements. We can also\n",
        "slice out subsets of the elements by doing `start:stop+1`.\n",
        "\n",
        "Notice how the following arrays differ."
      ]
    },
    {
      "cell_type": "code",
      "execution_count": 33,
      "metadata": {
        "id": "QqL0GxRzvr_c"
      },
      "outputs": [
        {
          "name": "stdout",
          "output_type": "stream",
          "text": [
            "[[ 1  2  3]\n",
            " [10 20 30]]\n",
            "[[ 1  2]\n",
            " [10 20]]\n",
            "[[ 1  2]\n",
            " [10 20]]\n"
          ]
        }
      ],
      "source": [
        "print(x_3d[:, 0, :])\n",
        "print(x_3d[:, 0, 0:2])\n",
        "print(x_3d[:, 0, :2])  # the 0  in 0:2 is optional"
      ]
    },
    {
      "cell_type": "markdown",
      "metadata": {
        "id": "kE-g8n0HvzrY"
      },
      "source": [
        "### Exercise 3\n",
        "\n",
        "What would you do to extract the array `[[5, 6], [50, 60]]`?"
      ]
    },
    {
      "cell_type": "code",
      "execution_count": 37,
      "metadata": {
        "id": "IxmR2PPWwssf"
      },
      "outputs": [
        {
          "data": {
            "text/plain": [
              "array([[ 5,  6],\n",
              "       [50, 60]])"
            ]
          },
          "execution_count": 37,
          "metadata": {},
          "output_type": "execute_result"
        }
      ],
      "source": [
        "# TODO\n",
        "x_3d\n",
        "\n",
        "x_3d[:,1,1:]"
      ]
    },
    {
      "cell_type": "markdown",
      "metadata": {
        "id": "rnSgCg99v3z5"
      },
      "source": [
        "### Array Functionality"
      ]
    },
    {
      "cell_type": "markdown",
      "metadata": {
        "id": "llnYxbiFv5SH"
      },
      "source": [
        "#### Array Properties\n",
        "\n",
        "All numpy arrays have various useful properties.\n",
        "\n",
        "Properties are similar to methods in that they’re accessed through\n",
        "the “dot notation.” However, they aren’t a function so we don’t need parentheses.\n",
        "\n",
        "The two most frequently used properties are `shape` and `dtype`.\n",
        "\n",
        "`shape` tells us how many elements are in each array dimension.\n",
        "\n",
        "`dtype` tells us the types of an array’s elements.\n",
        "\n",
        "Let’s do some examples to see these properties in action."
      ]
    },
    {
      "cell_type": "code",
      "execution_count": 39,
      "metadata": {
        "id": "-bnyoFM5vz-7"
      },
      "outputs": [
        {
          "name": "stdout",
          "output_type": "stream",
          "text": [
            "(2, 3)\n",
            "int32\n"
          ]
        }
      ],
      "source": [
        "x = np.array([[1, 2, 3], [4, 5, 6]])\n",
        "print(x.shape)\n",
        "print(x.dtype)"
      ]
    },
    {
      "cell_type": "markdown",
      "metadata": {
        "id": "KGJHDTf6wDZH"
      },
      "source": [
        "We’ll use this to practice unpacking a tuple, like `x.shape`, directly into variables."
      ]
    },
    {
      "cell_type": "code",
      "execution_count": 40,
      "metadata": {
        "id": "5SFCml3uwBaT"
      },
      "outputs": [
        {
          "name": "stdout",
          "output_type": "stream",
          "text": [
            "rows = 2, columns = 3\n"
          ]
        }
      ],
      "source": [
        "rows, columns = x.shape\n",
        "print(f\"rows = {rows}, columns = {columns}\")"
      ]
    },
    {
      "cell_type": "code",
      "execution_count": 41,
      "metadata": {
        "id": "kQ0YTLlOwGpD"
      },
      "outputs": [
        {
          "name": "stdout",
          "output_type": "stream",
          "text": [
            "(3,)\n",
            "bool\n"
          ]
        }
      ],
      "source": [
        "x = np.array([True, False, True])\n",
        "print(x.shape)\n",
        "print(x.dtype)"
      ]
    },
    {
      "cell_type": "markdown",
      "metadata": {
        "id": "SMGXKXRswLrw"
      },
      "source": [
        "Note that in the above, the `(3,)` represents a tuple of length 1, distinct from a scalar integer `3`."
      ]
    },
    {
      "cell_type": "code",
      "execution_count": 42,
      "metadata": {
        "id": "FsfrdKVbwIbK"
      },
      "outputs": [
        {
          "name": "stdout",
          "output_type": "stream",
          "text": [
            "(2, 3, 2)\n",
            "float64\n"
          ]
        }
      ],
      "source": [
        "x = np.array([\n",
        "    [[1.0, 2.0], [3.0, 4.0], [5.0, 6.0]],\n",
        "    [[7.0, 8.0], [9.0, 10.0], [11.0, 12.0]]\n",
        "])\n",
        "print(x.shape)\n",
        "print(x.dtype)"
      ]
    },
    {
      "cell_type": "markdown",
      "metadata": {
        "id": "MmknkkfEwQmV"
      },
      "source": [
        "#### Creating Arrays\n",
        "\n",
        "It’s usually impractical to define arrays by hand as we have done so far.\n",
        "\n",
        "We’ll often need to create an array with default values and then fill it\n",
        "with other values.\n",
        "\n",
        "We can create arrays with the functions `np.zeros` and `np.ones`.\n",
        "\n",
        "Both functions take a tuple that denotes the shape of an array and creates an\n",
        "array filled with 0s or 1s respectively."
      ]
    },
    {
      "cell_type": "code",
      "execution_count": 43,
      "metadata": {
        "id": "HhCyr2HRwN9i"
      },
      "outputs": [
        {
          "data": {
            "text/plain": [
              "array([[[0., 0., 0., 0.],\n",
              "        [0., 0., 0., 0.],\n",
              "        [0., 0., 0., 0.]],\n",
              "\n",
              "       [[0., 0., 0., 0.],\n",
              "        [0., 0., 0., 0.],\n",
              "        [0., 0., 0., 0.]]])"
            ]
          },
          "execution_count": 43,
          "metadata": {},
          "output_type": "execute_result"
        }
      ],
      "source": [
        "sizes = (2, 3, 4)\n",
        "x = np.zeros(sizes) # note, a tuple!\n",
        "x"
      ]
    },
    {
      "cell_type": "code",
      "execution_count": 44,
      "metadata": {
        "id": "CMrMTmNlwTe_"
      },
      "outputs": [
        {
          "data": {
            "text/plain": [
              "array([1., 1., 1., 1.])"
            ]
          },
          "execution_count": 44,
          "metadata": {},
          "output_type": "execute_result"
        }
      ],
      "source": [
        "y = np.ones((4))\n",
        "y"
      ]
    },
    {
      "cell_type": "markdown",
      "metadata": {
        "id": "OJJ9gn3cwaon"
      },
      "source": [
        "#### Broadcasting Operations\n",
        "\n",
        "Two types of operations that will be useful for arrays of any dimension are:\n",
        "\n",
        "1. Operations between an array and a single number.  \n",
        "1. Operations between two arrays of the same shape.  \n",
        "\n",
        "\n",
        "When we perform operations on an array by using a single number, we simply apply that operation to every element of the array."
      ]
    },
    {
      "cell_type": "code",
      "execution_count": 45,
      "metadata": {
        "id": "cmRpP30zwV-w"
      },
      "outputs": [
        {
          "name": "stdout",
          "output_type": "stream",
          "text": [
            "x =  [[1. 1.]\n",
            " [1. 1.]]\n",
            "2 + x =  [[3. 3.]\n",
            " [3. 3.]]\n",
            "2 - x =  [[1. 1.]\n",
            " [1. 1.]]\n",
            "2 * x =  [[2. 2.]\n",
            " [2. 2.]]\n",
            "x / 2 =  [[0.5 0.5]\n",
            " [0.5 0.5]]\n"
          ]
        }
      ],
      "source": [
        "# Using np.ones to create an array\n",
        "x = np.ones((2, 2))\n",
        "print(\"x = \", x)\n",
        "print(\"2 + x = \", 2 + x)\n",
        "print(\"2 - x = \", 2 - x)\n",
        "print(\"2 * x = \", 2 * x)\n",
        "print(\"x / 2 = \", x / 2)"
      ]
    },
    {
      "cell_type": "markdown",
      "metadata": {
        "id": "k9OkyLSmwooi"
      },
      "source": [
        "### Exercise 4\n",
        "\n",
        "Do you recall what multiplication by an integer did for lists?\n",
        "\n",
        "How does this differ?"
      ]
    },
    {
      "cell_type": "code",
      "execution_count": 47,
      "metadata": {
        "id": "QZr81b63wc-3"
      },
      "outputs": [],
      "source": [
        "# TODO\n",
        "hi = [ 2,3,5,6]"
      ]
    },
    {
      "cell_type": "markdown",
      "metadata": {
        "id": "gTOQkMcSw4LX"
      },
      "source": [
        "Operations between two arrays of the same size, in this case `(2, 2)`, simply apply the operation\n",
        "element-wise between the arrays."
      ]
    },
    {
      "cell_type": "code",
      "execution_count": 48,
      "metadata": {
        "id": "7zBkDEgww4Yz"
      },
      "outputs": [
        {
          "name": "stdout",
          "output_type": "stream",
          "text": [
            "x =  [[1. 2.]\n",
            " [3. 4.]]\n",
            "y =  [[1. 1.]\n",
            " [1. 1.]]\n",
            "x + y =  [[2. 3.]\n",
            " [4. 5.]]\n",
            "x - y [[0. 1.]\n",
            " [2. 3.]]\n",
            "(elementwise) x * y =  [[1. 2.]\n",
            " [3. 4.]]\n",
            "(elementwise) x / y =  [[1. 2.]\n",
            " [3. 4.]]\n"
          ]
        }
      ],
      "source": [
        "x = np.array([[1.0, 2.0], [3.0, 4.0]])\n",
        "y = np.ones((2, 2))\n",
        "print(\"x = \", x)\n",
        "print(\"y = \", y)\n",
        "print(\"x + y = \", x + y)\n",
        "print(\"x - y\", x - y)\n",
        "print(\"(elementwise) x * y = \", x * y)\n",
        "print(\"(elementwise) x / y = \", x / y)"
      ]
    },
    {
      "cell_type": "markdown",
      "metadata": {
        "id": "mgMSho9Ew_eI"
      },
      "source": [
        "### Universal Functions\n",
        "\n",
        "We will often need to transform data by applying a function to every element of an array.\n",
        "\n",
        "Numpy has good support for these operations, called *universal functions* or ufuncs for short."
      ]
    },
    {
      "cell_type": "markdown",
      "metadata": {
        "id": "FAq5B3SHxCfa"
      },
      "source": [
        "The\n",
        "[numpy documentation](https://docs.scipy.org/doc/numpy/reference/ufuncs.html?highlight=ufunc#available-ufuncs)\n",
        "has a list of all available ufuncs.\n",
        "\n",
        "Below, we will create an array that contains 10 points between 0 and 25."
      ]
    },
    {
      "cell_type": "code",
      "execution_count": 51,
      "metadata": {
        "id": "knYpDDodw6So"
      },
      "outputs": [
        {
          "data": {
            "text/plain": [
              "array([ 0.5       ,  3.22222222,  5.94444444,  8.66666667, 11.38888889,\n",
              "       14.11111111, 16.83333333, 19.55555556, 22.27777778, 25.        ])"
            ]
          },
          "execution_count": 51,
          "metadata": {},
          "output_type": "execute_result"
        }
      ],
      "source": [
        "# This is similar to range -- but spits out 10 evenly spaced points from 0.5\n",
        "# to 25.\n",
        "x = np.linspace(0.5, 25, 10)\n",
        "x"
      ]
    },
    {
      "cell_type": "markdown",
      "metadata": {
        "id": "Vw6W4CsQxI9a"
      },
      "source": [
        "We will experiment with some ufuncs below:"
      ]
    },
    {
      "cell_type": "code",
      "execution_count": 52,
      "metadata": {
        "id": "1zz8Ckx1xG_q"
      },
      "outputs": [
        {
          "data": {
            "text/plain": [
              "array([ 0.47942554, -0.08054223, -0.33229977,  0.68755122, -0.92364381,\n",
              "        0.99966057, -0.9024271 ,  0.64879484, -0.28272056, -0.13235175])"
            ]
          },
          "execution_count": 52,
          "metadata": {},
          "output_type": "execute_result"
        }
      ],
      "source": [
        "# Applies the sin function to each element of x\n",
        "np.sin(x)"
      ]
    },
    {
      "cell_type": "markdown",
      "metadata": {
        "id": "cwLVd0DlxMo9"
      },
      "source": [
        "You can use the inspector or the docstrings with `np.<TAB>` to see other available functions, such as"
      ]
    },
    {
      "cell_type": "code",
      "execution_count": 53,
      "metadata": {
        "id": "enEr2tL9xKUI"
      },
      "outputs": [
        {
          "data": {
            "text/plain": [
              "array([-0.69314718,  1.17007125,  1.78245708,  2.15948425,  2.43263822,\n",
              "        2.64696251,  2.82336105,  2.97325942,  3.10358967,  3.21887582])"
            ]
          },
          "execution_count": 53,
          "metadata": {},
          "output_type": "execute_result"
        }
      ],
      "source": [
        "# Takes log of each element of x\n",
        "np.log(x)"
      ]
    },
    {
      "cell_type": "markdown",
      "metadata": {
        "id": "aNneWRdnxVRj"
      },
      "source": [
        "A benefit of using the numpy arrays is that numpy has succinct code for combining vectorized operations."
      ]
    },
    {
      "cell_type": "code",
      "execution_count": 54,
      "metadata": {
        "id": "aifUfGllxTHy"
      },
      "outputs": [
        {
          "data": {
            "text/plain": [
              "array([0.        , 1.38629436, 3.29583687])"
            ]
          },
          "execution_count": 54,
          "metadata": {},
          "output_type": "execute_result"
        }
      ],
      "source": [
        "# Calculate log(z) * z elementwise\n",
        "z = np.array([1,2,3])\n",
        "np.log(z) * z"
      ]
    },
    {
      "cell_type": "markdown",
      "metadata": {
        "id": "Obn3CjAIxgOo"
      },
      "source": [
        "### Other Useful Array Operations\n",
        "\n",
        "We have barely scratched the surface of what is possible using numpy arrays.\n",
        "\n",
        "We hope you will experiment with other functions from numpy and see how they\n",
        "work.\n",
        "\n",
        "Below, we demonstrate a few more array operations that we find most useful – just to give you an idea\n",
        "of what else you might find.\n",
        "\n",
        "When you’re attempting to do an operation that you feel should be common, the numpy library probably has it.\n",
        "\n",
        "Use Google and tab completion to check this."
      ]
    },
    {
      "cell_type": "code",
      "execution_count": 55,
      "metadata": {
        "id": "IqJvnuuSxWt1"
      },
      "outputs": [],
      "source": [
        "x = np.linspace(0, 25, 10)"
      ]
    },
    {
      "cell_type": "code",
      "execution_count": 56,
      "metadata": {
        "id": "pE7zm5nBxhow"
      },
      "outputs": [
        {
          "data": {
            "text/plain": [
              "12.5"
            ]
          },
          "execution_count": 56,
          "metadata": {},
          "output_type": "execute_result"
        }
      ],
      "source": [
        "np.mean(x)"
      ]
    },
    {
      "cell_type": "code",
      "execution_count": 57,
      "metadata": {
        "id": "-YyzEP12xjm9"
      },
      "outputs": [
        {
          "data": {
            "text/plain": [
              "7.9785592313028175"
            ]
          },
          "execution_count": 57,
          "metadata": {},
          "output_type": "execute_result"
        }
      ],
      "source": [
        "np.std(x)"
      ]
    },
    {
      "cell_type": "code",
      "execution_count": 58,
      "metadata": {
        "id": "B_iOM7vwxkys"
      },
      "outputs": [
        {
          "data": {
            "text/plain": [
              "25.0"
            ]
          },
          "execution_count": 58,
          "metadata": {},
          "output_type": "execute_result"
        }
      ],
      "source": [
        "# np.min, np.median, etc... are also defined\n",
        "np.max(x)"
      ]
    },
    {
      "cell_type": "code",
      "execution_count": 59,
      "metadata": {
        "id": "nw20R8M2xmBY"
      },
      "outputs": [
        {
          "data": {
            "text/plain": [
              "array([2.77777778, 2.77777778, 2.77777778, 2.77777778, 2.77777778,\n",
              "       2.77777778, 2.77777778, 2.77777778, 2.77777778])"
            ]
          },
          "execution_count": 59,
          "metadata": {},
          "output_type": "execute_result"
        }
      ],
      "source": [
        "np.diff(x)"
      ]
    },
    {
      "cell_type": "code",
      "execution_count": 60,
      "metadata": {
        "id": "h83TZ15jxnGl"
      },
      "outputs": [
        {
          "data": {
            "text/plain": [
              "array([[ 0.        ,  2.77777778],\n",
              "       [ 5.55555556,  8.33333333],\n",
              "       [11.11111111, 13.88888889],\n",
              "       [16.66666667, 19.44444444],\n",
              "       [22.22222222, 25.        ]])"
            ]
          },
          "execution_count": 60,
          "metadata": {},
          "output_type": "execute_result"
        }
      ],
      "source": [
        "np.reshape(x, (5, 2))"
      ]
    },
    {
      "cell_type": "markdown",
      "metadata": {
        "id": "WznYVq40xrhW"
      },
      "source": [
        "Note that many of these operations can be called as methods on `x`:"
      ]
    },
    {
      "cell_type": "code",
      "execution_count": 61,
      "metadata": {
        "id": "k8FBQhBnxo5L"
      },
      "outputs": [
        {
          "name": "stdout",
          "output_type": "stream",
          "text": [
            "12.5\n",
            "7.9785592313028175\n",
            "25.0\n",
            "[[ 0.          2.77777778]\n",
            " [ 5.55555556  8.33333333]\n",
            " [11.11111111 13.88888889]\n",
            " [16.66666667 19.44444444]\n",
            " [22.22222222 25.        ]]\n"
          ]
        }
      ],
      "source": [
        "print(x.mean())\n",
        "print(x.std())\n",
        "print(x.max())\n",
        "# print(x.diff())  # this one is not a method...\n",
        "print(x.reshape((5, 2)))"
      ]
    },
    {
      "cell_type": "markdown",
      "metadata": {
        "id": "WEfBPiiOx5sf"
      },
      "source": [
        "Finally, `np.vectorize` can be conveniently used with numpy broadcasting and any functions."
      ]
    },
    {
      "cell_type": "code",
      "execution_count": 62,
      "metadata": {
        "id": "pfOK96D0xtOD"
      },
      "outputs": [
        {
          "name": "stdout",
          "output_type": "stream",
          "text": [
            "[0.37454012 0.95071431 0.73199394 0.59865848 0.15601864 0.15599452\n",
            " 0.05808361 0.86617615 0.60111501 0.70807258]\n",
            "low\n",
            "['high' 'high' 'high' 'high' 'low' 'low' 'low' 'high' 'high' 'high']\n"
          ]
        }
      ],
      "source": [
        "np.random.seed(42)\n",
        "x = np.random.rand(10)\n",
        "print(x)\n",
        "\n",
        "def f(val):\n",
        "    if val < 0.3:\n",
        "        return \"low\"\n",
        "    else:\n",
        "        return \"high\"\n",
        "\n",
        "print(f(0.1)) # scalar, no problem\n",
        "# f(x) # array, fails since f() is scalar\n",
        "f_vec = np.vectorize(f)\n",
        "print(f_vec(x))"
      ]
    }
  ],
  "metadata": {
    "colab": {
      "provenance": []
    },
    "kernelspec": {
      "display_name": "Python 3",
      "name": "python3"
    },
    "language_info": {
      "codemirror_mode": {
        "name": "ipython",
        "version": 3
      },
      "file_extension": ".py",
      "mimetype": "text/x-python",
      "name": "python",
      "nbconvert_exporter": "python",
      "pygments_lexer": "ipython3",
      "version": "3.10.11"
    }
  },
  "nbformat": 4,
  "nbformat_minor": 0
}
