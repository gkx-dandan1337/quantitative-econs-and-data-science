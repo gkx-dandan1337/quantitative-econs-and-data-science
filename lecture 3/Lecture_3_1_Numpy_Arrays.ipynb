{
  "nbformat": 4,
  "nbformat_minor": 0,
  "metadata": {
    "colab": {
      "provenance": []
    },
    "kernelspec": {
      "name": "python3",
      "display_name": "Python 3"
    },
    "language_info": {
      "name": "python"
    }
  },
  "cells": [
    {
      "cell_type": "markdown",
      "source": [
        "As the size of the data and the complexity of the models have increased (and continue doing so), the economists have become more reliant on computers to perform computations that we simply cannot do by hand.\n",
        "\n",
        "In this section, we will cover Python’s main numerical library **numpy** and how to work with its array type."
      ],
      "metadata": {
        "id": "TW5TOxvUttR_"
      }
    },
    {
      "cell_type": "markdown",
      "source": [
        "\n",
        "\n",
        "# 3.1 Introduction to Numpy\n",
        "\n",
        "**Outcomes**\n",
        "\n",
        "- Understand basics about numpy arrays  \n",
        "- Index into multi-dimensional arrays  \n",
        "- Use universal functions/broadcasting to do element-wise operations on arrays  "
      ],
      "metadata": {
        "id": "p3KtBIPGuBSG"
      }
    },
    {
      "cell_type": "markdown",
      "source": [
        "## Numpy Arrays\n",
        "\n",
        "Now that we have learned the fundamentals of programming in Python, we will learn how we can use Python\n",
        "to perform the computations required in data science and economics. We call these the “**scientific Python tools**”.\n",
        "\n",
        "The foundational library that helps us perform these computations is known as `numpy` (numerical\n",
        "Python).\n",
        "\n",
        "Numpy’s core contribution is a new data-type called an *array*.\n",
        "\n",
        "An array is similar to a list, but numpy imposes some additional restrictions on how the data inside is organized.\n",
        "\n",
        "These restrictions allow numpy to\n",
        "\n",
        "1. Be more efficient in performing mathematical and scientific computations.  \n",
        "1. Expose functions that allow numpy to do the necessary linear algebra for machine learning and statistics.  \n",
        "\n",
        "\n",
        "Before we get started, please note that the convention for importing the numpy package is to use the\n",
        "nickname `np`:"
      ],
      "metadata": {
        "id": "SKsa29phuHgt"
      }
    },
    {
      "cell_type": "code",
      "execution_count": null,
      "metadata": {
        "id": "uUmvqXyAtKWz"
      },
      "outputs": [],
      "source": [
        "import numpy as np"
      ]
    },
    {
      "cell_type": "markdown",
      "source": [
        "### What is an Array?\n",
        "\n",
        "An array is a multi-dimensional grid of values.\n",
        "\n",
        "What does this mean? It is easier to demonstrate than to explain.\n",
        "\n",
        "In this block of code, we build a 1-dimensional array."
      ],
      "metadata": {
        "id": "oc8c6B95uQQc"
      }
    },
    {
      "cell_type": "code",
      "source": [
        "# create an array from a list\n",
        "x_1d = np.array([1, 2, 3])\n",
        "print(x_1d)"
      ],
      "metadata": {
        "id": "r3aMsAbLuP48"
      },
      "execution_count": null,
      "outputs": []
    },
    {
      "cell_type": "markdown",
      "source": [
        "You can think of a 1-dimensional array as a list of numbers."
      ],
      "metadata": {
        "id": "g_GIZxXvuWp4"
      }
    },
    {
      "cell_type": "code",
      "source": [
        "# We can index like we did with lists\n",
        "print(x_1d[0])\n",
        "print(x_1d[0:2])"
      ],
      "metadata": {
        "id": "Kll96USMuT1y"
      },
      "execution_count": null,
      "outputs": []
    },
    {
      "cell_type": "markdown",
      "source": [
        "Note that the range of indices does not include the end-point, that\n",
        "is"
      ],
      "metadata": {
        "id": "Hg8l6IQ9uax-"
      }
    },
    {
      "cell_type": "code",
      "source": [
        "print(x_1d[0:3] == x_1d[:])\n",
        "print(x_1d[0:2])"
      ],
      "metadata": {
        "id": "iHa5uvfIuYtA"
      },
      "execution_count": null,
      "outputs": []
    },
    {
      "cell_type": "markdown",
      "source": [
        "The differences emerge as we move into higher dimensions.\n",
        "\n",
        "Next, we define a 2-dimensional array (a matrix)"
      ],
      "metadata": {
        "id": "X54jLH1LugMm"
      }
    },
    {
      "cell_type": "code",
      "source": [
        "x_2d = np.array([[1, 2, 3], [4, 5, 6], [7, 8, 9]])\n",
        "print(x_2d)"
      ],
      "metadata": {
        "id": "iwRIfjzBucNP"
      },
      "execution_count": null,
      "outputs": []
    },
    {
      "cell_type": "markdown",
      "source": [
        "Notice that the data is no longer represented as something flat, but rather,\n",
        "as three rows and three columns of numbers.\n",
        "\n",
        "The first question that you might ask yourself is: “how do I access the values in this array?”\n",
        "\n",
        "You access each element by specifying a row first and then a column. For\n",
        "example, if we wanted to access the `6`, we would ask for the (1, 2) element."
      ],
      "metadata": {
        "id": "0VK8Su1rumec"
      }
    },
    {
      "cell_type": "code",
      "source": [
        "print(x_2d[1, 2])  # Indexing into two dimensions!"
      ],
      "metadata": {
        "id": "m08z-OeXuiBm"
      },
      "execution_count": null,
      "outputs": []
    },
    {
      "cell_type": "markdown",
      "source": [
        "Or to get the top left corner…"
      ],
      "metadata": {
        "id": "pB7MJ4sTuqPH"
      }
    },
    {
      "cell_type": "code",
      "source": [
        "print(x_2d[0, 0])  # Indexing into two dimensions!"
      ],
      "metadata": {
        "id": "7S2ue6AVuoSB"
      },
      "execution_count": null,
      "outputs": []
    },
    {
      "cell_type": "markdown",
      "source": [
        "To get the first, and then second rows…"
      ],
      "metadata": {
        "id": "3eS_iANAuta4"
      }
    },
    {
      "cell_type": "code",
      "source": [
        "print(x_2d[0, :])\n",
        "print(x_2d[1, :])"
      ],
      "metadata": {
        "id": "pbpDAFYWuroP"
      },
      "execution_count": null,
      "outputs": []
    },
    {
      "cell_type": "markdown",
      "source": [
        "Or the columns…"
      ],
      "metadata": {
        "id": "kDKn83FvuvQ0"
      }
    },
    {
      "cell_type": "code",
      "source": [
        "print(x_2d[:, 0])\n",
        "print(x_2d[:, 1])"
      ],
      "metadata": {
        "id": "JrgSdl3AuunL"
      },
      "execution_count": null,
      "outputs": []
    },
    {
      "cell_type": "markdown",
      "source": [
        "This continues to generalize, since numpy gives us as many dimensions as we want in an array.\n",
        "\n",
        "For example, we build a 3-dimensional array below."
      ],
      "metadata": {
        "id": "11ht7o1Ru0qg"
      }
    },
    {
      "cell_type": "code",
      "source": [
        "x_3d_list = [[[1, 2, 3], [4, 5, 6]], [[10, 20, 30], [40, 50, 60]]]\n",
        "x_3d = np.array(x_3d_list)\n",
        "print(x_3d)"
      ],
      "metadata": {
        "id": "UzjVUtfDuxtE"
      },
      "execution_count": null,
      "outputs": []
    },
    {
      "cell_type": "markdown",
      "source": [
        "#### Array Indexing\n",
        "\n",
        "Now that there are multiple dimensions, indexing might feel somewhat non-obvious.\n",
        "\n",
        "Do the rows or columns come first? In higher dimensions, what is the order of\n",
        "the index?\n",
        "\n",
        "Notice that the array is built using a list of lists (you could also use tuples!).\n",
        "\n",
        "Indexing into the array will correspond to choosing elements from each list.\n",
        "\n",
        "First, notice that the dimensions give two stacked matrices, which we can access with"
      ],
      "metadata": {
        "id": "dR5zVU5Tu-lQ"
      }
    },
    {
      "cell_type": "code",
      "source": [
        "print(x_3d[0])\n",
        "print(x_3d[1])"
      ],
      "metadata": {
        "id": "8vzaXT2qu3U7"
      },
      "execution_count": null,
      "outputs": []
    },
    {
      "cell_type": "markdown",
      "source": [
        "In the case of the first, it is synonymous with"
      ],
      "metadata": {
        "id": "rAaQji2FvCEz"
      }
    },
    {
      "cell_type": "code",
      "source": [
        "print(x_3d[0, :, :])"
      ],
      "metadata": {
        "id": "kCVUKhaQvACt"
      },
      "execution_count": null,
      "outputs": []
    },
    {
      "cell_type": "markdown",
      "source": [
        "Let’s work through another example to further clarify this concept with our\n",
        "3-dimensional array.\n",
        "\n",
        "Our goal will be to find the index that retrieves the `4` out of `x_3d`.\n",
        "\n",
        "Recall that when we created `x_3d`, we used the list `[[[1, 2, 3], [4, 5, 6]], [[10, 20, 30], [40, 50, 60]]]`.\n",
        "\n",
        "Notice that the 0 element of that list is `[[1, 2, 3], [4, 5, 6]]`. This is the\n",
        "list that contains the `4` so the first index we would use is a 0."
      ],
      "metadata": {
        "id": "E4_eAQWBvKEw"
      }
    },
    {
      "cell_type": "code",
      "source": [
        "print(f\"The 0 element is {x_3d_list[0]}\")\n",
        "print(f\"The 1 element is {x_3d_list[1]}\")"
      ],
      "metadata": {
        "id": "DJKDMzMFvDax"
      },
      "execution_count": null,
      "outputs": []
    },
    {
      "cell_type": "markdown",
      "source": [
        "We then move to the next lists which were the 0 element of the outer-most dimension. Notice that\n",
        "the two lists at this level `[1, 2, 3]` and `[3, 4, 5]`.\n",
        "\n",
        "The 4 is in the second 1 element (index `1`), so the second index we would choose is 1."
      ],
      "metadata": {
        "id": "3VH5pK-evQiD"
      }
    },
    {
      "cell_type": "code",
      "source": [
        "print(f\"The 0 element of the 0 element is {x_3d_list[0][0]}\")\n",
        "print(f\"The 1 element of the 0 element is {x_3d_list[0][1]}\")"
      ],
      "metadata": {
        "id": "LpG1H8OZvMkT"
      },
      "execution_count": null,
      "outputs": []
    },
    {
      "cell_type": "markdown",
      "source": [
        "Finally, we move to the inner-most dimension, which has a list of numbers\n",
        "`[4, 5, 6]`.\n",
        "\n",
        "The 4 is element 0 of this list, so the third, or inner-most index, would be `0`."
      ],
      "metadata": {
        "id": "nOFeckZPvUbw"
      }
    },
    {
      "cell_type": "code",
      "source": [
        "print(f\"The 0 element of the 1 element of the 0 element is {x_3d_list[0][1][0]}\")"
      ],
      "metadata": {
        "id": "hz5l3_xvvSlr"
      },
      "execution_count": null,
      "outputs": []
    },
    {
      "cell_type": "markdown",
      "source": [
        "Now we can use these same indices to index into the array. With an array, we can index using a single operation rather than repeated indexing as we did with the list `x_3d_list[0][1][0]`.\n",
        "\n",
        "Let’s test it to see whether we did it correctly!"
      ],
      "metadata": {
        "id": "OjcOeaiJvY8v"
      }
    },
    {
      "cell_type": "code",
      "source": [
        "print(x_3d[0, 1, 0])"
      ],
      "metadata": {
        "id": "ysBbOPY0vWry"
      },
      "execution_count": null,
      "outputs": []
    },
    {
      "cell_type": "markdown",
      "source": [
        "Success!"
      ],
      "metadata": {
        "id": "BCho4SldvceM"
      }
    },
    {
      "cell_type": "markdown",
      "source": [
        "### Exercise 1\n",
        "\n",
        "Try indexing into another element of your choice from the\n",
        "3-dimensional array.\n",
        "\n",
        "Building an understanding of indexing means working through this\n",
        "type of operation several times – without skipping steps!"
      ],
      "metadata": {
        "id": "IFq9omTEvft-"
      }
    },
    {
      "cell_type": "code",
      "source": [
        "# TODO"
      ],
      "metadata": {
        "id": "PHb_ZvJsvas9"
      },
      "execution_count": null,
      "outputs": []
    },
    {
      "cell_type": "markdown",
      "source": [
        "### Exercise 2\n",
        "\n",
        "Look at the 2-dimensional array `x_2d`.\n",
        "\n",
        "Does the inner-most index correspond to rows or columns? What does the\n",
        "outer-most index correspond to?\n",
        "\n",
        "Write your thoughts.\n",
        "\n"
      ],
      "metadata": {
        "id": "mfWKpOnIvicb"
      }
    },
    {
      "cell_type": "code",
      "source": [
        "# TODO"
      ],
      "metadata": {
        "id": "8JylqGU3vmYr"
      },
      "execution_count": null,
      "outputs": []
    },
    {
      "cell_type": "markdown",
      "source": [
        "We can also select multiple elements at a time – this is called slicing.\n",
        "\n",
        "If we wanted to have an array with just `[1, 2, 3]` then we would do"
      ],
      "metadata": {
        "id": "ju5Ktg8mvqEc"
      }
    },
    {
      "cell_type": "code",
      "source": [
        "print(x_3d[0, 0, :])"
      ],
      "metadata": {
        "id": "S1YHS9SpvqR0"
      },
      "execution_count": null,
      "outputs": []
    },
    {
      "cell_type": "markdown",
      "source": [
        "Notice that we put a `:` on the dimension where we want to select all of the elements. We can also\n",
        "slice out subsets of the elements by doing `start:stop+1`.\n",
        "\n",
        "Notice how the following arrays differ."
      ],
      "metadata": {
        "id": "g7uJYZzDvv_c"
      }
    },
    {
      "cell_type": "code",
      "source": [
        "print(x_3d[:, 0, :])\n",
        "print(x_3d[:, 0, 0:2])\n",
        "print(x_3d[:, 0, :2])  # the 0  in 0:2 is optional"
      ],
      "metadata": {
        "id": "QqL0GxRzvr_c"
      },
      "execution_count": null,
      "outputs": []
    },
    {
      "cell_type": "markdown",
      "source": [
        "### Exercise 3\n",
        "\n",
        "What would you do to extract the array `[[5, 6], [50, 60]]`?"
      ],
      "metadata": {
        "id": "kE-g8n0HvzrY"
      }
    },
    {
      "cell_type": "code",
      "source": [
        "# TODO"
      ],
      "metadata": {
        "id": "IxmR2PPWwssf"
      },
      "execution_count": null,
      "outputs": []
    },
    {
      "cell_type": "markdown",
      "source": [
        "### Array Functionality"
      ],
      "metadata": {
        "id": "rnSgCg99v3z5"
      }
    },
    {
      "cell_type": "markdown",
      "source": [
        "#### Array Properties\n",
        "\n",
        "All numpy arrays have various useful properties.\n",
        "\n",
        "Properties are similar to methods in that they’re accessed through\n",
        "the “dot notation.” However, they aren’t a function so we don’t need parentheses.\n",
        "\n",
        "The two most frequently used properties are `shape` and `dtype`.\n",
        "\n",
        "`shape` tells us how many elements are in each array dimension.\n",
        "\n",
        "`dtype` tells us the types of an array’s elements.\n",
        "\n",
        "Let’s do some examples to see these properties in action."
      ],
      "metadata": {
        "id": "llnYxbiFv5SH"
      }
    },
    {
      "cell_type": "code",
      "source": [
        "x = np.array([[1, 2, 3], [4, 5, 6]])\n",
        "print(x.shape)\n",
        "print(x.dtype)"
      ],
      "metadata": {
        "id": "-bnyoFM5vz-7"
      },
      "execution_count": null,
      "outputs": []
    },
    {
      "cell_type": "markdown",
      "source": [
        "We’ll use this to practice unpacking a tuple, like `x.shape`, directly into variables."
      ],
      "metadata": {
        "id": "KGJHDTf6wDZH"
      }
    },
    {
      "cell_type": "code",
      "source": [
        "rows, columns = x.shape\n",
        "print(f\"rows = {rows}, columns = {columns}\")"
      ],
      "metadata": {
        "id": "5SFCml3uwBaT"
      },
      "execution_count": null,
      "outputs": []
    },
    {
      "cell_type": "code",
      "source": [
        "x = np.array([True, False, True])\n",
        "print(x.shape)\n",
        "print(x.dtype)"
      ],
      "metadata": {
        "id": "kQ0YTLlOwGpD"
      },
      "execution_count": null,
      "outputs": []
    },
    {
      "cell_type": "markdown",
      "source": [
        "Note that in the above, the `(3,)` represents a tuple of length 1, distinct from a scalar integer `3`."
      ],
      "metadata": {
        "id": "SMGXKXRswLrw"
      }
    },
    {
      "cell_type": "code",
      "source": [
        "x = np.array([\n",
        "    [[1.0, 2.0], [3.0, 4.0], [5.0, 6.0]],\n",
        "    [[7.0, 8.0], [9.0, 10.0], [11.0, 12.0]]\n",
        "])\n",
        "print(x.shape)\n",
        "print(x.dtype)"
      ],
      "metadata": {
        "id": "FsfrdKVbwIbK"
      },
      "execution_count": null,
      "outputs": []
    },
    {
      "cell_type": "markdown",
      "source": [
        "#### Creating Arrays\n",
        "\n",
        "It’s usually impractical to define arrays by hand as we have done so far.\n",
        "\n",
        "We’ll often need to create an array with default values and then fill it\n",
        "with other values.\n",
        "\n",
        "We can create arrays with the functions `np.zeros` and `np.ones`.\n",
        "\n",
        "Both functions take a tuple that denotes the shape of an array and creates an\n",
        "array filled with 0s or 1s respectively."
      ],
      "metadata": {
        "id": "MmknkkfEwQmV"
      }
    },
    {
      "cell_type": "code",
      "source": [
        "sizes = (2, 3, 4)\n",
        "x = np.zeros(sizes) # note, a tuple!\n",
        "x"
      ],
      "metadata": {
        "id": "HhCyr2HRwN9i"
      },
      "execution_count": null,
      "outputs": []
    },
    {
      "cell_type": "code",
      "source": [
        "y = np.ones((4))\n",
        "y"
      ],
      "metadata": {
        "id": "CMrMTmNlwTe_"
      },
      "execution_count": null,
      "outputs": []
    },
    {
      "cell_type": "markdown",
      "source": [
        "#### Broadcasting Operations\n",
        "\n",
        "Two types of operations that will be useful for arrays of any dimension are:\n",
        "\n",
        "1. Operations between an array and a single number.  \n",
        "1. Operations between two arrays of the same shape.  \n",
        "\n",
        "\n",
        "When we perform operations on an array by using a single number, we simply apply that operation to every element of the array."
      ],
      "metadata": {
        "id": "OJJ9gn3cwaon"
      }
    },
    {
      "cell_type": "code",
      "source": [
        "# Using np.ones to create an array\n",
        "x = np.ones((2, 2))\n",
        "print(\"x = \", x)\n",
        "print(\"2 + x = \", 2 + x)\n",
        "print(\"2 - x = \", 2 - x)\n",
        "print(\"2 * x = \", 2 * x)\n",
        "print(\"x / 2 = \", x / 2)"
      ],
      "metadata": {
        "id": "cmRpP30zwV-w"
      },
      "execution_count": null,
      "outputs": []
    },
    {
      "cell_type": "markdown",
      "source": [
        "### Exercise 4\n",
        "\n",
        "Do you recall what multiplication by an integer did for lists?\n",
        "\n",
        "How does this differ?"
      ],
      "metadata": {
        "id": "k9OkyLSmwooi"
      }
    },
    {
      "cell_type": "code",
      "source": [
        "# TODO"
      ],
      "metadata": {
        "id": "QZr81b63wc-3"
      },
      "execution_count": null,
      "outputs": []
    },
    {
      "cell_type": "markdown",
      "source": [
        "Operations between two arrays of the same size, in this case `(2, 2)`, simply apply the operation\n",
        "element-wise between the arrays."
      ],
      "metadata": {
        "id": "gTOQkMcSw4LX"
      }
    },
    {
      "cell_type": "code",
      "source": [
        "x = np.array([[1.0, 2.0], [3.0, 4.0]])\n",
        "y = np.ones((2, 2))\n",
        "print(\"x = \", x)\n",
        "print(\"y = \", y)\n",
        "print(\"x + y = \", x + y)\n",
        "print(\"x - y\", x - y)\n",
        "print(\"(elementwise) x * y = \", x * y)\n",
        "print(\"(elementwise) x / y = \", x / y)"
      ],
      "metadata": {
        "id": "7zBkDEgww4Yz"
      },
      "execution_count": null,
      "outputs": []
    },
    {
      "cell_type": "markdown",
      "source": [
        "### Universal Functions\n",
        "\n",
        "We will often need to transform data by applying a function to every element of an array.\n",
        "\n",
        "Numpy has good support for these operations, called *universal functions* or ufuncs for short."
      ],
      "metadata": {
        "id": "mgMSho9Ew_eI"
      }
    },
    {
      "cell_type": "markdown",
      "source": [
        "The\n",
        "[numpy documentation](https://docs.scipy.org/doc/numpy/reference/ufuncs.html?highlight=ufunc#available-ufuncs)\n",
        "has a list of all available ufuncs.\n",
        "\n",
        "Below, we will create an array that contains 10 points between 0 and 25."
      ],
      "metadata": {
        "id": "FAq5B3SHxCfa"
      }
    },
    {
      "cell_type": "code",
      "source": [
        "# This is similar to range -- but spits out 10 evenly spaced points from 0.5\n",
        "# to 25.\n",
        "x = np.linspace(0.5, 25, 10)"
      ],
      "metadata": {
        "id": "knYpDDodw6So"
      },
      "execution_count": null,
      "outputs": []
    },
    {
      "cell_type": "markdown",
      "source": [
        "We will experiment with some ufuncs below:"
      ],
      "metadata": {
        "id": "Vw6W4CsQxI9a"
      }
    },
    {
      "cell_type": "code",
      "source": [
        "# Applies the sin function to each element of x\n",
        "np.sin(x)"
      ],
      "metadata": {
        "id": "1zz8Ckx1xG_q"
      },
      "execution_count": null,
      "outputs": []
    },
    {
      "cell_type": "markdown",
      "source": [
        "You can use the inspector or the docstrings with `np.<TAB>` to see other available functions, such as"
      ],
      "metadata": {
        "id": "cwLVd0DlxMo9"
      }
    },
    {
      "cell_type": "code",
      "source": [
        "# Takes log of each element of x\n",
        "np.log(x)"
      ],
      "metadata": {
        "id": "enEr2tL9xKUI"
      },
      "execution_count": null,
      "outputs": []
    },
    {
      "cell_type": "markdown",
      "source": [
        "A benefit of using the numpy arrays is that numpy has succinct code for combining vectorized operations."
      ],
      "metadata": {
        "id": "aNneWRdnxVRj"
      }
    },
    {
      "cell_type": "code",
      "source": [
        "# Calculate log(z) * z elementwise\n",
        "z = np.array([1,2,3])\n",
        "np.log(z) * z"
      ],
      "metadata": {
        "id": "aifUfGllxTHy"
      },
      "execution_count": null,
      "outputs": []
    },
    {
      "cell_type": "markdown",
      "source": [
        "### Other Useful Array Operations\n",
        "\n",
        "We have barely scratched the surface of what is possible using numpy arrays.\n",
        "\n",
        "We hope you will experiment with other functions from numpy and see how they\n",
        "work.\n",
        "\n",
        "Below, we demonstrate a few more array operations that we find most useful – just to give you an idea\n",
        "of what else you might find.\n",
        "\n",
        "When you’re attempting to do an operation that you feel should be common, the numpy library probably has it.\n",
        "\n",
        "Use Google and tab completion to check this."
      ],
      "metadata": {
        "id": "Obn3CjAIxgOo"
      }
    },
    {
      "cell_type": "code",
      "source": [
        "x = np.linspace(0, 25, 10)"
      ],
      "metadata": {
        "id": "IqJvnuuSxWt1"
      },
      "execution_count": null,
      "outputs": []
    },
    {
      "cell_type": "code",
      "source": [
        "np.mean(x)"
      ],
      "metadata": {
        "id": "pE7zm5nBxhow"
      },
      "execution_count": null,
      "outputs": []
    },
    {
      "cell_type": "code",
      "source": [
        "np.std(x)"
      ],
      "metadata": {
        "id": "-YyzEP12xjm9"
      },
      "execution_count": null,
      "outputs": []
    },
    {
      "cell_type": "code",
      "source": [
        "# np.min, np.median, etc... are also defined\n",
        "np.max(x)"
      ],
      "metadata": {
        "id": "B_iOM7vwxkys"
      },
      "execution_count": null,
      "outputs": []
    },
    {
      "cell_type": "code",
      "source": [
        "np.diff(x)"
      ],
      "metadata": {
        "id": "nw20R8M2xmBY"
      },
      "execution_count": null,
      "outputs": []
    },
    {
      "cell_type": "code",
      "source": [
        "np.reshape(x, (5, 2))"
      ],
      "metadata": {
        "id": "h83TZ15jxnGl"
      },
      "execution_count": null,
      "outputs": []
    },
    {
      "cell_type": "markdown",
      "source": [
        "Note that many of these operations can be called as methods on `x`:"
      ],
      "metadata": {
        "id": "WznYVq40xrhW"
      }
    },
    {
      "cell_type": "code",
      "source": [
        "print(x.mean())\n",
        "print(x.std())\n",
        "print(x.max())\n",
        "# print(x.diff())  # this one is not a method...\n",
        "print(x.reshape((5, 2)))"
      ],
      "metadata": {
        "id": "k8FBQhBnxo5L"
      },
      "execution_count": null,
      "outputs": []
    },
    {
      "cell_type": "markdown",
      "source": [
        "Finally, `np.vectorize` can be conveniently used with numpy broadcasting and any functions."
      ],
      "metadata": {
        "id": "WEfBPiiOx5sf"
      }
    },
    {
      "cell_type": "code",
      "source": [
        "np.random.seed(42)\n",
        "x = np.random.rand(10)\n",
        "print(x)\n",
        "\n",
        "def f(val):\n",
        "    if val < 0.3:\n",
        "        return \"low\"\n",
        "    else:\n",
        "        return \"high\"\n",
        "\n",
        "print(f(0.1)) # scalar, no problem\n",
        "# f(x) # array, fails since f() is scalar\n",
        "f_vec = np.vectorize(f)\n",
        "print(f_vec(x))"
      ],
      "metadata": {
        "id": "pfOK96D0xtOD"
      },
      "execution_count": null,
      "outputs": []
    }
  ]
}